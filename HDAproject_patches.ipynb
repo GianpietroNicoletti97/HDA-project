{
 "cells": [
  {
   "cell_type": "markdown",
   "id": "b37b31e6",
   "metadata": {},
   "source": [
    "## Initial configuration"
   ]
  },
  {
   "cell_type": "code",
   "execution_count": 181,
   "id": "41ab6c4f",
   "metadata": {},
   "outputs": [],
   "source": [
    "import numpy as np\n",
    "import os\n",
    "from sklearn.model_selection import train_test_split\n",
    "from sklearn.metrics import confusion_matrix\n",
    "import pandas as pd\n",
    "import seaborn as sn\n",
    "import cv2\n",
    "import gc\n",
    "from tqdm import tqdm,trange\n",
    "\n",
    "import torch\n",
    "from torchsummary import summary\n",
    "from PIL import Image\n",
    "from torch.utils.data import Dataset, DataLoader\n",
    "\n",
    "import torch.nn as nn\n",
    "import torchvision.transforms as transforms\n",
    "from torch.utils.data import DataLoader\n",
    "from torch.autograd import Variable\n",
    "import torch.optim as optim\n",
    "import matplotlib.pyplot as plt\n",
    "\n",
    "import urllib.request\n",
    "import zipfile\n",
    "import json"
   ]
  },
  {
   "cell_type": "code",
   "execution_count": 182,
   "id": "329a92cb",
   "metadata": {},
   "outputs": [],
   "source": [
    "#Usefull for better outputs visualization\n",
    "PURPLE = \"\\033[95m\"\n",
    "CYAN = \"\\033[96m\"\n",
    "DARKCYAN = \"\\033[36m\"\n",
    "BLUE = \"\\033[94m\"\n",
    "GREEN = \"\\033[92m\"\n",
    "YELLOW = \"\\033[93m\"\n",
    "RED = \"\\033[91m\"\n",
    "BOLD = \"\\033[1m\"\n",
    "UNDERLINE = \"\\033[4m\"\n",
    "END = \"\\033[0m\""
   ]
  },
  {
   "cell_type": "markdown",
   "id": "7564cc00",
   "metadata": {},
   "source": [
    "### Project settings"
   ]
  },
  {
   "cell_type": "code",
   "execution_count": 193,
   "id": "8b42f643",
   "metadata": {},
   "outputs": [],
   "source": [
    "data_dir_unsplitted = \"dataset/unsplitted\"\n",
    "save_dir_splitted = \"dataset/splitted\"\n",
    "data_dir = \"dataset/splitted\"\n",
    "models_dir =\"models/\" #the resuls will be saved here\n",
    "\n",
    "os.makedirs(models_dir,exist_ok=True)\n",
    "\n",
    "np.random.seed(42) \n",
    "\n",
    "patch_size = 128\n",
    "n_samples_train = 40\n",
    "n_samples_valtest = 40\n",
    "batch_size = 75\n",
    "\n",
    "\n",
    "grayscale= False\n",
    "resize_to= None\n",
    "fft = False\n",
    "\n",
    "\n",
    "learning_rate= 0.001\n",
    "num_epochs = 70\n",
    "\n",
    "\n",
    "#@DEPRECATED VARIABLE\n",
    "#ALREADY_SPLITTED = True #-> we will use only \"LOAD_DATASET\"\n",
    "\n",
    "\n",
    "LOAD_DATASET = True\n",
    "\n",
    "#to be implemented:\n",
    "\n",
    "DATASET_ALREADY_DOWNLOADED = True \n",
    "DATASET_ALREADY_UNZIPPED = True\n",
    "\n",
    "LOAD_MODEL = False \n",
    "MODEL_ALREADY_DOWNLOADED = True "
   ]
  },
  {
   "cell_type": "markdown",
   "id": "c4b6f851",
   "metadata": {},
   "source": [
    "## Dataset preparation"
   ]
  },
  {
   "cell_type": "markdown",
   "id": "07b1385d",
   "metadata": {},
   "source": [
    "### Dataset splitting and data augmentation"
   ]
  },
  {
   "cell_type": "code",
   "execution_count": 184,
   "id": "a30151b8",
   "metadata": {},
   "outputs": [
    {
     "name": "stderr",
     "output_type": "stream",
     "text": [
      "CLL: 100%|███████████████████████████████████████████████████████████████████████████| 113/113 [00:01<00:00, 59.25it/s]\n",
      "FL: 100%|███████████████████████████████████████████████████████████████████████████| 139/139 [00:01<00:00, 131.03it/s]\n",
      "MCL: 100%|██████████████████████████████████████████████████████████████████████████| 122/122 [00:01<00:00, 113.56it/s]\n"
     ]
    },
    {
     "name": "stdout",
     "output_type": "stream",
     "text": [
      "Train samples: 261\n",
      "Test samples: 75\n",
      "Validation samples: 38\n"
     ]
    }
   ],
   "source": [
    "classes = [\"CLL\", \"FL\", \"MCL\"]\n",
    "id_to_name = {0:\"CLL\",1:\"FL\",2:\"MCL\"}\n",
    "name_to_id = {\"CLL\":0,\"FL\":1,\"MCL\":2}\n",
    "\n",
    "if(not LOAD_DATASET):\n",
    "    data = []\n",
    "    labels = []\n",
    "    for i, cl in enumerate(classes):\n",
    "        path = os.path.join(data_dir_unsplitted, cl)\n",
    "        images = os.listdir(path)\n",
    "        for img in tqdm(images,desc=cl):\n",
    "            img_path = os.path.join(path, img)\n",
    "            img = cv2.imread(img_path).astype(np.uint8)\n",
    "            \n",
    "            data.append(img)\n",
    "            labels.append(i) \n",
    "\n",
    "\n",
    "    data = np.array(data)\n",
    "    labels = np.array(labels)\n",
    "\n",
    "\n",
    "    train_data, test_data, train_labels, test_labels = train_test_split(data, labels, test_size=0.2, random_state=42)\n",
    "\n",
    "\n",
    "    train_data, val_data, train_labels, val_labels = train_test_split(train_data, train_labels, test_size=0.125, random_state=42)\n",
    "\n",
    "    print(\"Train samples:\", len(train_data))\n",
    "    print(\"Test samples:\", len(test_data))\n",
    "    print(\"Validation samples:\", len(val_data))"
   ]
  },
  {
   "cell_type": "markdown",
   "id": "2e17f646",
   "metadata": {},
   "source": [
    "### Saving the splitted dataset"
   ]
  },
  {
   "cell_type": "code",
   "execution_count": 185,
   "id": "90a42d35",
   "metadata": {},
   "outputs": [],
   "source": [
    "def crop_image(image, patch_size, n_samples = 40):\n",
    "    h, w, _ = image.shape\n",
    "    h_eff = h - patch_size\n",
    "    w_eff = w - patch_size\n",
    "    samples = []\n",
    "    \n",
    "    for i in range(n_samples):\n",
    "        h_vertex = np.random.randint(h_eff)\n",
    "        w_vertex = np.random.randint(w_eff)\n",
    "        samples.append(image[h_vertex:h_vertex+patch_size, w_vertex:w_vertex+patch_size, :])\n",
    "    \n",
    "    samples = np.stack(samples)\n",
    "    return samples   "
   ]
  },
  {
   "cell_type": "code",
   "execution_count": 186,
   "id": "fd4d2b3e",
   "metadata": {
    "scrolled": true
   },
   "outputs": [
    {
     "name": "stderr",
     "output_type": "stream",
     "text": [
      "Train: 100%|█████████████████████████████████████████████████████████████████████████| 261/261 [00:42<00:00,  6.14it/s]\n",
      "Test: 100%|████████████████████████████████████████████████████████████████████████████| 75/75 [00:10<00:00,  7.17it/s]\n",
      "Validation: 100%|██████████████████████████████████████████████████████████████████████| 38/38 [00:07<00:00,  5.31it/s]\n"
     ]
    }
   ],
   "source": [
    "#SAVING THE DATASET\n",
    "if(not LOAD_DATASET):\n",
    "    #TRAIN\n",
    "    os.makedirs(os.path.join(save_dir_splitted,\"train\",\"images\"),exist_ok=True)\n",
    "    os.makedirs(os.path.join(save_dir_splitted,\"train\",\"images_patch\"),exist_ok=True)\n",
    "    os.makedirs(os.path.join(save_dir_splitted,\"train\",\"labels\"),exist_ok=True)\n",
    "    os.makedirs(os.path.join(save_dir_splitted,\"train\",\"labels_patch\"),exist_ok=True)\n",
    "     \n",
    "    train_labels_dict={}\n",
    "    train_labels_patch_dict={}\n",
    "    \n",
    "    for i, image in enumerate(tqdm(train_data,desc = \"Train\")):                       #images\n",
    "        file_name = str(i)+\"_train\"+\".png\"\n",
    "        \n",
    "        path = os.path.join(save_dir_splitted,\"train\",\"images\",file_name)\n",
    "        train_labels_dict[file_name] = int(train_labels[i])\n",
    "        cv2.imwrite(path,image.astype(np.float64))\n",
    "        \n",
    "        image_patch = crop_image(image, patch_size, n_samples_train)\n",
    "        for j in range(len(image_patch)):\n",
    "            file_name = str(i)+\"-\"+str(j)+\"_train\"+\".png\"\n",
    "            path = os.path.join(save_dir_splitted,\"train\",\"images_patch\",file_name)\n",
    "            train_labels_patch_dict[file_name] = int(train_labels[i])\n",
    "            cv2.imwrite(path,image_patch[j].astype(np.float64))\n",
    "       \n",
    "    \n",
    "    \n",
    "    with open(os.path.join(save_dir_splitted,\"train\",\"labels\",\"train.json\"), 'w') as f:\n",
    "        json.dump(train_labels_dict, f)#labels\n",
    "    with open(os.path.join(save_dir_splitted,\"train\",\"labels_patch\",\"train_patch.json\"), 'w') as f:\n",
    "        json.dump(train_labels_patch_dict, f)#labels\n",
    "\n",
    "    #TEST\n",
    "    os.makedirs(os.path.join(save_dir_splitted,\"test\",\"images\"),exist_ok=True)\n",
    "    os.makedirs(os.path.join(save_dir_splitted,\"test\",\"images_patch\"),exist_ok=True)\n",
    "    os.makedirs(os.path.join(save_dir_splitted,\"test\",\"labels\"),exist_ok=True)\n",
    "    os.makedirs(os.path.join(save_dir_splitted,\"test\",\"labels_patch\"),exist_ok=True)\n",
    "\n",
    "    test_labels_dict={}\n",
    "    test_labels_patch_dict={}\n",
    "    \n",
    "    for i, image in enumerate(tqdm(test_data,desc = \"Test\")):                      #images\n",
    "        file_name = str(i)+\"_test\"+\".png\"\n",
    "        path = os.path.join(save_dir_splitted,\"test\",\"images\",file_name)\n",
    "        \n",
    "        cv2.imwrite(path,image.astype(np.float64))\n",
    "        test_labels_dict[file_name] = int(test_labels[i]) \n",
    "        \n",
    "        image_patch = crop_image(image, patch_size, n_samples_valtest)\n",
    "        for j in range(len(image_patch)):\n",
    "            file_name = str(i)+\"-\"+str(j)+\"_test\"+\".png\"\n",
    "            path = os.path.join(save_dir_splitted,\"test\",\"images_patch\",file_name)\n",
    "            test_labels_patch_dict[file_name] = int(test_labels[i])\n",
    "            cv2.imwrite(path,image_patch[j].astype(np.float64))\n",
    "\n",
    "    with open(os.path.join(save_dir_splitted,\"test\",\"labels\",\"test.json\"), 'w') as f:\n",
    "        json.dump(test_labels_dict, f)#labels\n",
    "    with open(os.path.join(save_dir_splitted,\"test\",\"labels_patch\",\"test_patch.json\"), 'w') as f:\n",
    "        json.dump(test_labels_patch_dict, f)#labels\n",
    "        \n",
    "    #VALIDATION\n",
    "    os.makedirs(os.path.join(save_dir_splitted,\"val\",\"images\"),exist_ok=True)\n",
    "    os.makedirs(os.path.join(save_dir_splitted,\"val\",\"images_patch\"),exist_ok=True)\n",
    "    os.makedirs(os.path.join(save_dir_splitted,\"val\",\"labels\"),exist_ok=True)\n",
    "    os.makedirs(os.path.join(save_dir_splitted,\"val\",\"labels_patch\"),exist_ok=True)\n",
    "    \n",
    "    val_labels_dict = {}\n",
    "    val_labels_patch_dict = {}\n",
    "    \n",
    "    for i, image in enumerate(tqdm(val_data,desc = \"Validation\")):               #images\n",
    "        file_name = str(i)+\"_val\"+\".png\"\n",
    "        path = os.path.join(save_dir_splitted,\"val\",\"images\",file_name)\n",
    "        \n",
    "        cv2.imwrite(path,image.astype(np.float64))\n",
    "        val_labels_dict[file_name] = int(val_labels[i])\n",
    "        \n",
    "        image_patch = crop_image(image, patch_size, n_samples_valtest)\n",
    "        for j in range(len(image_patch)):\n",
    "            file_name = str(i)+\"-\"+str(j)+\"_val\"+\".png\"\n",
    "            path = os.path.join(save_dir_splitted,\"val\",\"images_patch\",file_name)\n",
    "            val_labels_patch_dict[file_name] = int(val_labels[i])\n",
    "            cv2.imwrite(path,image_patch[j].astype(np.float64))\n",
    "        \n",
    "    with open(os.path.join(save_dir_splitted,\"val\",\"labels\",\"val.json\"), 'w') as f:\n",
    "        json.dump(val_labels_dict, f)#labels\n",
    "    with open(os.path.join(save_dir_splitted,\"val\",\"labels_patch\",\"val_patch.json\"), 'w') as f:\n",
    "        json.dump(val_labels_patch_dict, f)#labels"
   ]
  },
  {
   "cell_type": "markdown",
   "id": "ab21346c",
   "metadata": {},
   "source": [
    "### Dataloaders definition"
   ]
  },
  {
   "cell_type": "markdown",
   "id": "a6a1b860",
   "metadata": {},
   "source": [
    "Notice that the labels are saved into a numpy array, while the images are read directly from the folder"
   ]
  },
  {
   "cell_type": "code",
   "execution_count": 187,
   "id": "9cb6438f",
   "metadata": {},
   "outputs": [],
   "source": [
    "class HDAdataset(Dataset):\n",
    "    def __init__(self, root_dir, labels, train = False, transform=None, grayscale= False, resize_to= None, fft = False):\n",
    "        self.root_dir = root_dir\n",
    "        self.labels = labels\n",
    "        self.transform = transform\n",
    "        self.train = train\n",
    "        self.grayscale=grayscale\n",
    "        self.fft = fft\n",
    "        self.resize_to = resize_to\n",
    "\n",
    "    def __len__(self):\n",
    "        return len(os.listdir(self.root_dir))\n",
    "\n",
    "    def __getitem__(self, idx):\n",
    "        img_name = os.listdir(self.root_dir)[idx]\n",
    "        img_path = os.path.join(self.root_dir, img_name)\n",
    "        \n",
    "        if self.grayscale or self.fft:\n",
    "            image = cv2.imread(img_path,cv2.IMREAD_GRAYSCALE)\n",
    "            \n",
    "        else:\n",
    "            image = cv2.imread(img_path)\n",
    "\n",
    "        \n",
    "        if self.train:\n",
    "            image = image.astype(np.uint8) + np.random.normal(0, 2, image.shape).astype(np.uint8)\n",
    "        \n",
    "        if self.resize_to is not None:\n",
    "            image = cv2.resize(image, resize_to, interpolation= cv2.INTER_LINEAR)\n",
    "            \n",
    "        if self.fft:\n",
    "            image = np.fft.fft2(image)\n",
    "            fshift = np.fft.fftshift(image)\n",
    "            magnitude_spectrum = 20*np.log(np.abs(fshift))\n",
    "            image = magnitude_spectrum\n",
    "        \n",
    "\n",
    "    \n",
    "        #labels smoothing\n",
    "        label = 0.1*np.ones(3)\n",
    "        label[self.labels[img_name]] = 0.8\n",
    "        \n",
    "        if self.transform:\n",
    "            image = self.transform((image/255.).astype(np.float32))\n",
    "\n",
    "        return image, label"
   ]
  },
  {
   "cell_type": "code",
   "execution_count": 188,
   "id": "1ce0dbb3",
   "metadata": {},
   "outputs": [],
   "source": [
    "class HDAdatasetPatches(Dataset):\n",
    "    def __init__(self, root_dir,patch_dir, labels, train = False, grayscale= False, fft = False):\n",
    "        self.root_dir = root_dir\n",
    "        self.patch_dir = patch_dir\n",
    "        self.labels = labels\n",
    "        self.train = train\n",
    "        self.grayscale=grayscale\n",
    "        self.fft = fft\n",
    "\n",
    "    def __len__(self):\n",
    "        return len(os.listdir(self.root_dir))\n",
    "\n",
    "    def __getitem__(self, idx):\n",
    "        img_name = os.listdir(self.root_dir)[idx]\n",
    "        img_id = int(img_name.split(\"_\")[0])\n",
    "        \n",
    "        patches_list = os.listdir(self.patch_dir)\n",
    "        patches_image_list = list(filter(lambda name: int(name.split(\"-\")[0]) == img_id, patches_list))\n",
    "        \n",
    "        all_patches = []\n",
    "        for patch in patches_image_list:\n",
    "            patch_path = os.path.join(self.patch_dir, patch)\n",
    "            \n",
    "\n",
    "            if self.grayscale or self.fft:\n",
    "                image = cv2.imread(patch_path,cv2.IMREAD_GRAYSCALE)\n",
    "                channels = 1\n",
    "            \n",
    "            else:\n",
    "                image = cv2.imread(patch_path)\n",
    "                channels = 3\n",
    "\n",
    "            if self.train:\n",
    "                image = image.astype(np.uint8) + np.random.normal(0, 2, image.shape).astype(np.uint8)\n",
    "\n",
    "            if self.fft:\n",
    "                image = np.fft.fft2(image)\n",
    "                fshift = np.fft.fftshift(image)\n",
    "                magnitude_spectrum = 20*np.log(np.abs(fshift))\n",
    "                image = magnitude_spectrum\n",
    "            \n",
    "            image = (image/255.).astype(np.float32)\n",
    "            image = image.reshape(image.shape[0],image.shape[1],channels)\n",
    "            image = np.transpose(image, (2, 0, 1))\n",
    "            all_patches.append(image.reshape(1,image.shape[0],image.shape[1],image.shape[2]))\n",
    "\n",
    "        all_patches=np.stack(all_patches)\n",
    "        \n",
    "        #labels smoothing\n",
    "        label = 0.1*np.ones(3)\n",
    "        label[self.labels[img_name]] = 0.8\n",
    "\n",
    "        return all_patches, label.reshape(1,label.shape[0])"
   ]
  },
  {
   "cell_type": "code",
   "execution_count": 189,
   "id": "26887536",
   "metadata": {},
   "outputs": [
    {
     "name": "stderr",
     "output_type": "stream",
     "text": [
      "Generating the train set list: 100%|█████████████████████████████████████████████| 10440/10440 [02:40<00:00, 65.06it/s]\n"
     ]
    }
   ],
   "source": [
    "if(LOAD_DATASET and not DATASET_ALREADY_DOWNLOADED):\n",
    "    \n",
    "    print(\"download and extract the datasets\")\n",
    "    urllib.request.urlretrieve(\"\", \"dataset.zip\")\n",
    "    \n",
    "    with zipfile.ZipFile(\"dataset.zip\", 'r') as zip_ref:\n",
    "        zip_ref.extractall(\"./dataset/\")\n",
    "\n",
    "        \n",
    "#convert to tensor each image\n",
    "transform = transforms.Compose([transforms.ToTensor()])    \n",
    "\n",
    "\n",
    "#TRAIN DATASET AND DATALOADER\n",
    "train_dir = os.path.join(data_dir,\"train\",\"images_patch\")#images\n",
    "train_labels_dir = os.path.join(data_dir,\"train\",\"labels_patch\",\"train_patch.json\")\n",
    "with open(train_labels_dir) as f:\n",
    "    train_labels = json.load(f)#labels\n",
    "\n",
    "train_dataset = HDAdataset(train_dir,train_labels,train = True, transform=transform\n",
    "                           ,grayscale=grayscale,fft=fft)\n",
    "\n",
    "#using a list to increase the training speed since the data fit in the ram\n",
    "train_data = [data for data in tqdm(train_dataset,desc=\"Generating the train set list\")] \n",
    "\n",
    "train_dataloader = DataLoader(train_data, batch_size=batch_size, shuffle=True, drop_last=True)\n",
    "\n",
    "\n",
    "#TEST DATASET\n",
    "test_dir = os.path.join(data_dir,\"test\",\"images\")#images\n",
    "test_dir_patches = os.path.join(data_dir,\"test\",\"images_patch\")#patches\n",
    "test_labels_dir = os.path.join(data_dir,\"test\",\"labels\",\"test.json\")\n",
    "with open(test_labels_dir) as f:\n",
    "    test_labels = json.load(f)#labels\n",
    "\n",
    "test_dataset = HDAdatasetPatches(test_dir,test_dir_patches,test_labels,train = False,\n",
    "                          grayscale=grayscale,fft=fft)\n",
    "\n",
    "\n",
    "#VALIDATION DATASET\n",
    "val_dir = os.path.join(data_dir,\"val\",\"images\")#images\n",
    "val_dir_patches = os.path.join(data_dir,\"val\",\"images_patch\")#patches\n",
    "val_labels_dir = os.path.join(data_dir,\"val\",\"labels\",\"val.json\")\n",
    "with open(val_labels_dir) as f:\n",
    "    val_labels = json.load(f)#labels\n",
    "\n",
    "val_dataset = HDAdatasetPatches(val_dir,val_dir_patches,val_labels,train = False,\n",
    "                          grayscale=grayscale,fft=fft)"
   ]
  },
  {
   "cell_type": "code",
   "execution_count": 190,
   "id": "bba6fdc0",
   "metadata": {},
   "outputs": [],
   "source": [
    "def compute_weight(dataset):\n",
    "    count = {0:0,1:0,2:0}\n",
    "    for data in tqdm(dataset,desc = \"Computing class weight\"):\n",
    "        label = data[1]\n",
    "        count[label.argmax()]= count[label.argmax()]+1\n",
    "    \n",
    "    count = np.array([count[0],count[1],count[2]])\n",
    "    total = count.sum()\n",
    "    return count/total"
   ]
  },
  {
   "cell_type": "code",
   "execution_count": 191,
   "id": "b69af862",
   "metadata": {},
   "outputs": [
    {
     "name": "stderr",
     "output_type": "stream",
     "text": [
      "Computing class weight: 100%|████████████████████████████████████████████████| 10440/10440 [00:00<00:00, 716306.52it/s]\n"
     ]
    }
   ],
   "source": [
    "weights = compute_weight(train_data)"
   ]
  },
  {
   "cell_type": "code",
   "execution_count": 192,
   "id": "da722799",
   "metadata": {},
   "outputs": [
    {
     "data": {
      "text/plain": [
       "1.0"
      ]
     },
     "execution_count": 192,
     "metadata": {},
     "output_type": "execute_result"
    }
   ],
   "source": [
    "weights.sum()"
   ]
  },
  {
   "cell_type": "markdown",
   "id": "6ae5599d",
   "metadata": {},
   "source": [
    "## Neural network"
   ]
  },
  {
   "cell_type": "code",
   "execution_count": 194,
   "id": "915f464f",
   "metadata": {},
   "outputs": [
    {
     "data": {
      "text/plain": [
       "45"
      ]
     },
     "execution_count": 194,
     "metadata": {},
     "output_type": "execute_result"
    }
   ],
   "source": [
    "torch.cuda.empty_cache()\n",
    "gc.collect()"
   ]
  },
  {
   "cell_type": "markdown",
   "id": "a684cf15",
   "metadata": {},
   "source": [
    "### Models definition"
   ]
  },
  {
   "cell_type": "code",
   "execution_count": 240,
   "id": "f89e0fb9",
   "metadata": {},
   "outputs": [],
   "source": [
    "class Autoencoder(nn.Module):\n",
    "    def __init__(self):\n",
    "        super(Autoencoder, self).__init__()\n",
    "        \n",
    "        #encoder\n",
    "        self.convE1 = nn.Conv2d(in_channels=3, out_channels=16, kernel_size=(3,3), stride=(2,2), padding=(0,0))\n",
    "        self.convE2 = nn.Conv2d(in_channels=16, out_channels=32, kernel_size=(3,3), stride=(2,2), padding=(0,0))\n",
    "        self.convE3 = nn.Conv2d(in_channels=32, out_channels=64, kernel_size=(3,3), stride=(2,2), padding=(0,0))\n",
    "        self.flatten = nn.Flatten()\n",
    "        self.BNE16 = nn.BatchNorm2d(16)\n",
    "        self.BNE32 = nn.BatchNorm2d(32)\n",
    "        self.BNE64 = nn.BatchNorm2d(64)\n",
    "        self.linearE1 = nn.Linear(14400,50)\n",
    "        self.linearE2 = nn.Linear(50,3)\n",
    "        self.BNE150linear = nn.BatchNorm1d(50)\n",
    "        \n",
    "        self.act = nn.LeakyReLU()\n",
    "        self.drop = nn.Dropout(p=0.1)\n",
    "        \n",
    "        #decoder\n",
    "        \n",
    "        self.convD1 = nn.ConvTranspose2d(in_channels=64, out_channels=32, kernel_size=(3,3), stride=(2,2), padding=(0,0))\n",
    "        self.convD2 = nn.ConvTranspose2d(in_channels=32, out_channels=16, kernel_size=(3,3), stride=(2,2), padding=(0,0))\n",
    "        self.convD3 = nn.ConvTranspose2d(in_channels=16, out_channels=3, kernel_size=(3,3), \n",
    "                                         stride=(2,2), padding=(0,0), dilation=1,output_padding=(1,1))\n",
    "        self.reshape = nn.Unflatten(-1, (64,15,15))\n",
    "        self.BND16 = nn.BatchNorm2d(16)\n",
    "        self.BND32 = nn.BatchNorm2d(32)\n",
    "        self.linearD1 = nn.Linear(3,50)\n",
    "        self.linearD2 = nn.Linear(50,14400)\n",
    "        self.BND150linear = nn.BatchNorm1d(50)\n",
    "        self.BND16klinear = nn.BatchNorm1d(14400)\n",
    "        \n",
    "        self.out = nn.Sigmoid()\n",
    "        self.softmax = nn.Softmax(dim=1)\n",
    "        \n",
    "    def forward(self, x):\n",
    "\n",
    "        x1 = self.act(self.BNE16(self.convE1(x)))\n",
    "        x2 = self.act(self.BNE32(self.convE2(x1)))\n",
    "        x3 = self.act(self.BNE64(self.convE3(x2)))\n",
    "        x3linear = self.flatten(x3)\n",
    "        x4 = self.drop(self.act(self.BNE150linear(self.linearE1(x3linear))))\n",
    "        x5 = self.linearE2(x4)\n",
    "\n",
    "        x = self.act(self.BND150linear(self.linearD1(x5)))\n",
    "        x = self.act(self.BND16klinear(self.linearD2(x+x4)))\n",
    "        x = self.reshape(x)\n",
    "        x = self.act(self.BND32(self.convD1(x+x3)))\n",
    "        x = self.act(self.BND16(self.convD2(x+x2)))\n",
    "        x = self.out(self.convD3(x+x1))\n",
    "\n",
    "        return x,self.softmax(x5)"
   ]
  },
  {
   "cell_type": "code",
   "execution_count": 241,
   "id": "f2c567e1",
   "metadata": {},
   "outputs": [
    {
     "name": "stdout",
     "output_type": "stream",
     "text": [
      "\u001b[1mYou are working on: \u001b[0mcuda\n"
     ]
    }
   ],
   "source": [
    "device = torch.device(\"cuda\" if torch.cuda.is_available() else \"cpu\")\n",
    "print(BOLD+\"You are working on: \"+END+str(device))"
   ]
  },
  {
   "cell_type": "markdown",
   "id": "689f5a37",
   "metadata": {},
   "source": [
    "### Loading of the models"
   ]
  },
  {
   "cell_type": "code",
   "execution_count": 242,
   "id": "9139a620",
   "metadata": {},
   "outputs": [],
   "source": [
    "if(LOAD_MODEL and not MODEL_ALREADY_DOWNLOADED):\n",
    "    print(\"download the model\")"
   ]
  },
  {
   "cell_type": "code",
   "execution_count": 243,
   "id": "c6460ebe",
   "metadata": {},
   "outputs": [],
   "source": [
    "if(not LOAD_MODEL):\n",
    "    autoencoder = Autoencoder().to(device)\n",
    "    "
   ]
  },
  {
   "cell_type": "code",
   "execution_count": 244,
   "id": "d1214cf5",
   "metadata": {},
   "outputs": [
    {
     "name": "stdout",
     "output_type": "stream",
     "text": [
      "----------------------------------------------------------------\n",
      "        Layer (type)               Output Shape         Param #\n",
      "================================================================\n",
      "            Conv2d-1           [75, 16, 63, 63]             448\n",
      "       BatchNorm2d-2           [75, 16, 63, 63]              32\n",
      "         LeakyReLU-3           [75, 16, 63, 63]               0\n",
      "            Conv2d-4           [75, 32, 31, 31]           4,640\n",
      "       BatchNorm2d-5           [75, 32, 31, 31]              64\n",
      "         LeakyReLU-6           [75, 32, 31, 31]               0\n",
      "            Conv2d-7           [75, 64, 15, 15]          18,496\n",
      "       BatchNorm2d-8           [75, 64, 15, 15]             128\n",
      "         LeakyReLU-9           [75, 64, 15, 15]               0\n",
      "          Flatten-10                [75, 14400]               0\n",
      "           Linear-11                   [75, 50]         720,050\n",
      "      BatchNorm1d-12                   [75, 50]             100\n",
      "        LeakyReLU-13                   [75, 50]               0\n",
      "          Dropout-14                   [75, 50]               0\n",
      "           Linear-15                    [75, 3]             153\n",
      "           Linear-16                   [75, 50]             200\n",
      "      BatchNorm1d-17                   [75, 50]             100\n",
      "        LeakyReLU-18                   [75, 50]               0\n",
      "           Linear-19                [75, 14400]         734,400\n",
      "      BatchNorm1d-20                [75, 14400]          28,800\n",
      "        LeakyReLU-21                [75, 14400]               0\n",
      "        Unflatten-22           [75, 64, 15, 15]               0\n",
      "  ConvTranspose2d-23           [75, 32, 31, 31]          18,464\n",
      "      BatchNorm2d-24           [75, 32, 31, 31]              64\n",
      "        LeakyReLU-25           [75, 32, 31, 31]               0\n",
      "  ConvTranspose2d-26           [75, 16, 63, 63]           4,624\n",
      "      BatchNorm2d-27           [75, 16, 63, 63]              32\n",
      "        LeakyReLU-28           [75, 16, 63, 63]               0\n",
      "  ConvTranspose2d-29          [75, 3, 128, 128]             435\n",
      "          Sigmoid-30          [75, 3, 128, 128]               0\n",
      "          Softmax-31                    [75, 3]               0\n",
      "================================================================\n",
      "Total params: 1,531,230\n",
      "Trainable params: 1,531,230\n",
      "Non-trainable params: 0\n",
      "----------------------------------------------------------------\n",
      "Input size (MB): 14.06\n",
      "Forward/backward pass size (MB): 445.97\n",
      "Params size (MB): 5.84\n",
      "Estimated Total Size (MB): 465.88\n",
      "----------------------------------------------------------------\n"
     ]
    }
   ],
   "source": [
    "summary(autoencoder, (3, 128, 128), batch_size=batch_size)"
   ]
  },
  {
   "cell_type": "markdown",
   "id": "931580de",
   "metadata": {},
   "source": [
    "### Training \n",
    "\n",
    "The accuracy in the training is patch wise while the accuracy in validation and test is image wise(i.e. the most common class for the patches of the same image)"
   ]
  },
  {
   "cell_type": "code",
   "execution_count": 245,
   "id": "9b91a23a",
   "metadata": {},
   "outputs": [],
   "source": [
    "def test(dataset,name):\n",
    "    \n",
    "    losses_ae = []\n",
    "    losses_c = []\n",
    "    count_correct = 0\n",
    "    count_input = 0\n",
    "    \n",
    "    real_labels = []\n",
    "    predicted_labels = []\n",
    "    \n",
    "\n",
    "    autoencoder.eval()\n",
    "    \n",
    "    #single image\n",
    "    for data in tqdm(dataset,desc = name +\" set\"):\n",
    "        pred = []\n",
    "        labels = torch.tensor(data[1]).to(device)\n",
    "        \n",
    "        #iterate over all the patches\n",
    "        for patch in data[0]:\n",
    "            \n",
    "            img = torch.tensor(patch).to(device)\n",
    "            \n",
    "            rec_img,pred_labels= autoencoder(img)  \n",
    "            \n",
    "            classifier_loss = criterion_classifier(pred_labels, labels)\n",
    "            ae_loss= criterion_ae(img,rec_img)\n",
    "            \n",
    "\n",
    "            losses_ae.append(ae_loss.detach().cpu().numpy())\n",
    "            losses_c.append(classifier_loss.detach().cpu().numpy())\n",
    "            \n",
    "            pred.append(pred_labels.to(\"cpu\").detach().numpy().argmax(axis=1)[0])\n",
    "            \n",
    "            \n",
    "        count_input += 1\n",
    "            \n",
    "        final_image_label = max(set(pred), key=pred.count) \n",
    "        true_image_label = labels.to(\"cpu\").detach().numpy().argmax(axis=1)[0]\n",
    "        count_correct+= (final_image_label == true_image_label)\n",
    "        \n",
    "        del img\n",
    "        del labels\n",
    "        torch.cuda.empty_cache()\n",
    "        gc.collect();\n",
    "        \n",
    "        predicted_labels.append(final_image_label)\n",
    "        real_labels.append(true_image_label)\n",
    "        \n",
    "\n",
    "    # Print loss at end of each epoch\n",
    "    accuracy= (count_correct/count_input)*100.\n",
    "    print(name+': Autoencoder Loss: %.4f, Classifier Loss: %.4f, Accuracy: %.4f in %d input samples\\n'\n",
    "      % (np.mean(losses_ae), np.mean(losses_c),accuracy,count_input))\n",
    "    \n",
    "    return np.mean(losses_ae),np.mean(losses_c),accuracy,real_labels,predicted_labels"
   ]
  },
  {
   "cell_type": "code",
   "execution_count": 246,
   "id": "17514270",
   "metadata": {},
   "outputs": [],
   "source": [
    "criterion_classifier = nn.CrossEntropyLoss()#weight = torch.tensor(weights).to(device())\n",
    "criterion_ae = nn.MSELoss()\n",
    "\n",
    "def train(train_dataloader,val_dataset):\n",
    "    optimizer_ae = optim.RMSprop(autoencoder.parameters(), lr=learning_rate,weight_decay=1e-2)\n",
    "\n",
    "    \n",
    "    \n",
    "    best_epoch = 0 #(based on the validation accuracy)\n",
    "    best_accuracy = -np.inf\n",
    "    \n",
    "    #for plotting\n",
    "    train_loss_ae_trend = []\n",
    "    train_loss_c_trend = []\n",
    "    train_accuracy_trend =[]\n",
    "    val_loss_ae_trend = []\n",
    "    val_loss_c_trend = []\n",
    "    val_accuracy_trend = []\n",
    "\n",
    "    \n",
    "    for epoch in range(num_epochs):\n",
    "\n",
    "        ######training#####\n",
    "        losses_ae = []\n",
    "        losses_c = []\n",
    "        count_correct = 0\n",
    "        count_input = 0\n",
    "\n",
    "        autoencoder.train()\n",
    "       \n",
    "        \n",
    "        #train classifier for one epoch    \n",
    "        for data in tqdm(train_dataloader,desc = \"TRAIN Epoch [%d/%d]\"%(epoch+1,num_epochs)):\n",
    "\n",
    "            img, labels = data\n",
    "            img = img.to(device)\n",
    "            labels = labels.to(device)\n",
    "        \n",
    "        \n",
    "            optimizer_ae.zero_grad()\n",
    "            \n",
    "            \n",
    "            rec_img,pred_labels= autoencoder(img)  \n",
    "            \n",
    "\n",
    "            classifier_loss = criterion_classifier(pred_labels, labels)\n",
    "            ae_loss = criterion_ae(img,rec_img)\n",
    "            total_loss = classifier_loss+50*ae_loss\n",
    "            \n",
    "            total_loss.backward()\n",
    "            \n",
    "            optimizer_ae.step()\n",
    "            \n",
    "            losses_ae.append(ae_loss.detach().cpu().numpy())\n",
    "            losses_c.append(classifier_loss.detach().cpu().numpy())\n",
    "\n",
    "            \n",
    "            count_input+=pred_labels.detach().cpu().numpy().shape[0]\n",
    "            count_correct+=np.sum((labels.to(\"cpu\").detach().numpy().argmax(axis=1)==pred_labels.to(\"cpu\").detach().numpy().argmax(axis=1)))\n",
    "            del img\n",
    "            del labels\n",
    "            torch.cuda.empty_cache()\n",
    "            gc.collect();\n",
    "            \n",
    "        accuracy = (count_correct/count_input)*100.\n",
    "        \n",
    "        print('TRAIN: Epoch [%d/%d], Autoencoder Loss: %.4f, Classifier Loss: %.4f, Accuracy: %.4f in %d input patches \\n'\n",
    "              % (epoch+1, num_epochs, np.mean(losses_ae), np.mean(losses_c),accuracy,count_input))\n",
    "        \n",
    "        train_loss_ae_trend.append(np.mean(losses_ae))\n",
    "        train_loss_c_trend.append(np.mean(losses_c))\n",
    "        train_accuracy_trend.append(accuracy)\n",
    "        \n",
    "        ######validation######\n",
    "        ae,c,acc,_,_ = test(val_dataset,\"VALIDATION\")\n",
    "        \n",
    "        val_loss_ae_trend.append(ae)\n",
    "        val_loss_c_trend.append(c)\n",
    "        val_accuracy_trend.append(acc)\n",
    "        \n",
    "        if acc > best_accuracy:\n",
    "            print(GREEN+\"Saved Model: \"+END+UNDERLINE+\"best validation accuracy reached\\n\\n\"+END)\n",
    "            best_epoch = epoch+1\n",
    "            torch.save(autoencoder.state_dict(), os.path.join(models_dir,\"best_ae.pt\"))\n",
    "            \n",
    "            best_accuracy = acc\n",
    "        \n",
    "\n",
    "    return np.array([[train_loss_ae_trend,train_loss_c_trend,train_accuracy_trend],\n",
    "            [val_loss_ae_trend,val_loss_c_trend,val_accuracy_trend],best_epoch],dtype=np.object_)"
   ]
  },
  {
   "cell_type": "code",
   "execution_count": 247,
   "id": "59edc2ed",
   "metadata": {
    "scrolled": true
   },
   "outputs": [
    {
     "name": "stderr",
     "output_type": "stream",
     "text": [
      "TRAIN Epoch [1/70]: 100%|████████████████████████████████████████████████████████████| 139/139 [00:18<00:00,  7.63it/s]\n"
     ]
    },
    {
     "name": "stdout",
     "output_type": "stream",
     "text": [
      "TRAIN: Epoch [1/70], Autoencoder Loss: 0.0032, Classifier Loss: 1.0157, Accuracy: 58.4940 in 10425 input patches \n",
      "\n"
     ]
    },
    {
     "name": "stderr",
     "output_type": "stream",
     "text": [
      "VALIDATION set: 100%|██████████████████████████████████████████████████████████████████| 38/38 [00:09<00:00,  3.95it/s]\n"
     ]
    },
    {
     "name": "stdout",
     "output_type": "stream",
     "text": [
      "VALIDATION: Autoencoder Loss: 0.0016, Classifier Loss: 1.0274, Accuracy: 65.7895 in 38 input samples\n",
      "\n",
      "\u001b[92mSaved Model: \u001b[0m\u001b[4mbest validation accuracy reached\n",
      "\n",
      "\u001b[0m\n"
     ]
    },
    {
     "name": "stderr",
     "output_type": "stream",
     "text": [
      "TRAIN Epoch [2/70]: 100%|████████████████████████████████████████████████████████████| 139/139 [00:18<00:00,  7.43it/s]\n"
     ]
    },
    {
     "name": "stdout",
     "output_type": "stream",
     "text": [
      "TRAIN: Epoch [2/70], Autoencoder Loss: 0.0014, Classifier Loss: 0.9696, Accuracy: 66.5324 in 10425 input patches \n",
      "\n"
     ]
    },
    {
     "name": "stderr",
     "output_type": "stream",
     "text": [
      "VALIDATION set: 100%|██████████████████████████████████████████████████████████████████| 38/38 [00:09<00:00,  3.94it/s]\n"
     ]
    },
    {
     "name": "stdout",
     "output_type": "stream",
     "text": [
      "VALIDATION: Autoencoder Loss: 0.0012, Classifier Loss: 0.9859, Accuracy: 68.4211 in 38 input samples\n",
      "\n",
      "\u001b[92mSaved Model: \u001b[0m\u001b[4mbest validation accuracy reached\n",
      "\n",
      "\u001b[0m\n"
     ]
    },
    {
     "name": "stderr",
     "output_type": "stream",
     "text": [
      "TRAIN Epoch [3/70]: 100%|████████████████████████████████████████████████████████████| 139/139 [00:18<00:00,  7.45it/s]\n"
     ]
    },
    {
     "name": "stdout",
     "output_type": "stream",
     "text": [
      "TRAIN: Epoch [3/70], Autoencoder Loss: 0.0012, Classifier Loss: 0.9430, Accuracy: 71.2230 in 10425 input patches \n",
      "\n"
     ]
    },
    {
     "name": "stderr",
     "output_type": "stream",
     "text": [
      "VALIDATION set: 100%|██████████████████████████████████████████████████████████████████| 38/38 [00:09<00:00,  3.97it/s]\n"
     ]
    },
    {
     "name": "stdout",
     "output_type": "stream",
     "text": [
      "VALIDATION: Autoencoder Loss: 0.0018, Classifier Loss: 1.0219, Accuracy: 60.5263 in 38 input samples\n",
      "\n"
     ]
    },
    {
     "name": "stderr",
     "output_type": "stream",
     "text": [
      "TRAIN Epoch [4/70]: 100%|████████████████████████████████████████████████████████████| 139/139 [00:18<00:00,  7.52it/s]\n"
     ]
    },
    {
     "name": "stdout",
     "output_type": "stream",
     "text": [
      "TRAIN: Epoch [4/70], Autoencoder Loss: 0.0011, Classifier Loss: 0.9259, Accuracy: 75.0983 in 10425 input patches \n",
      "\n"
     ]
    },
    {
     "name": "stderr",
     "output_type": "stream",
     "text": [
      "VALIDATION set: 100%|██████████████████████████████████████████████████████████████████| 38/38 [00:09<00:00,  3.96it/s]\n"
     ]
    },
    {
     "name": "stdout",
     "output_type": "stream",
     "text": [
      "VALIDATION: Autoencoder Loss: 0.0014, Classifier Loss: 0.9036, Accuracy: 89.4737 in 38 input samples\n",
      "\n",
      "\u001b[92mSaved Model: \u001b[0m\u001b[4mbest validation accuracy reached\n",
      "\n",
      "\u001b[0m\n"
     ]
    },
    {
     "name": "stderr",
     "output_type": "stream",
     "text": [
      "TRAIN Epoch [5/70]: 100%|████████████████████████████████████████████████████████████| 139/139 [00:18<00:00,  7.58it/s]\n"
     ]
    },
    {
     "name": "stdout",
     "output_type": "stream",
     "text": [
      "TRAIN: Epoch [5/70], Autoencoder Loss: 0.0011, Classifier Loss: 0.9184, Accuracy: 76.4029 in 10425 input patches \n",
      "\n"
     ]
    },
    {
     "name": "stderr",
     "output_type": "stream",
     "text": [
      "VALIDATION set: 100%|██████████████████████████████████████████████████████████████████| 38/38 [00:09<00:00,  3.98it/s]\n"
     ]
    },
    {
     "name": "stdout",
     "output_type": "stream",
     "text": [
      "VALIDATION: Autoencoder Loss: 0.0015, Classifier Loss: 0.9459, Accuracy: 76.3158 in 38 input samples\n",
      "\n"
     ]
    },
    {
     "name": "stderr",
     "output_type": "stream",
     "text": [
      "TRAIN Epoch [6/70]: 100%|████████████████████████████████████████████████████████████| 139/139 [00:18<00:00,  7.53it/s]\n"
     ]
    },
    {
     "name": "stdout",
     "output_type": "stream",
     "text": [
      "TRAIN: Epoch [6/70], Autoencoder Loss: 0.0010, Classifier Loss: 0.9112, Accuracy: 78.2062 in 10425 input patches \n",
      "\n"
     ]
    },
    {
     "name": "stderr",
     "output_type": "stream",
     "text": [
      "VALIDATION set: 100%|██████████████████████████████████████████████████████████████████| 38/38 [00:09<00:00,  3.96it/s]\n"
     ]
    },
    {
     "name": "stdout",
     "output_type": "stream",
     "text": [
      "VALIDATION: Autoencoder Loss: 0.0010, Classifier Loss: 0.9457, Accuracy: 76.3158 in 38 input samples\n",
      "\n"
     ]
    },
    {
     "name": "stderr",
     "output_type": "stream",
     "text": [
      "TRAIN Epoch [7/70]: 100%|████████████████████████████████████████████████████████████| 139/139 [00:18<00:00,  7.57it/s]\n"
     ]
    },
    {
     "name": "stdout",
     "output_type": "stream",
     "text": [
      "TRAIN: Epoch [7/70], Autoencoder Loss: 0.0010, Classifier Loss: 0.9035, Accuracy: 79.7698 in 10425 input patches \n",
      "\n"
     ]
    },
    {
     "name": "stderr",
     "output_type": "stream",
     "text": [
      "VALIDATION set: 100%|██████████████████████████████████████████████████████████████████| 38/38 [00:09<00:00,  3.97it/s]\n"
     ]
    },
    {
     "name": "stdout",
     "output_type": "stream",
     "text": [
      "VALIDATION: Autoencoder Loss: 0.0011, Classifier Loss: 0.9769, Accuracy: 65.7895 in 38 input samples\n",
      "\n"
     ]
    },
    {
     "name": "stderr",
     "output_type": "stream",
     "text": [
      "TRAIN Epoch [8/70]: 100%|████████████████████████████████████████████████████████████| 139/139 [00:18<00:00,  7.56it/s]\n"
     ]
    },
    {
     "name": "stdout",
     "output_type": "stream",
     "text": [
      "TRAIN: Epoch [8/70], Autoencoder Loss: 0.0010, Classifier Loss: 0.8975, Accuracy: 80.5276 in 10425 input patches \n",
      "\n"
     ]
    },
    {
     "name": "stderr",
     "output_type": "stream",
     "text": [
      "VALIDATION set: 100%|██████████████████████████████████████████████████████████████████| 38/38 [00:10<00:00,  3.64it/s]\n"
     ]
    },
    {
     "name": "stdout",
     "output_type": "stream",
     "text": [
      "VALIDATION: Autoencoder Loss: 0.0011, Classifier Loss: 0.9910, Accuracy: 68.4211 in 38 input samples\n",
      "\n"
     ]
    },
    {
     "name": "stderr",
     "output_type": "stream",
     "text": [
      "TRAIN Epoch [9/70]: 100%|████████████████████████████████████████████████████████████| 139/139 [00:19<00:00,  7.06it/s]\n"
     ]
    },
    {
     "name": "stdout",
     "output_type": "stream",
     "text": [
      "TRAIN: Epoch [9/70], Autoencoder Loss: 0.0009, Classifier Loss: 0.8879, Accuracy: 82.3213 in 10425 input patches \n",
      "\n"
     ]
    },
    {
     "name": "stderr",
     "output_type": "stream",
     "text": [
      "VALIDATION set: 100%|██████████████████████████████████████████████████████████████████| 38/38 [00:09<00:00,  3.87it/s]\n"
     ]
    },
    {
     "name": "stdout",
     "output_type": "stream",
     "text": [
      "VALIDATION: Autoencoder Loss: 0.0010, Classifier Loss: 0.8944, Accuracy: 84.2105 in 38 input samples\n",
      "\n"
     ]
    },
    {
     "name": "stderr",
     "output_type": "stream",
     "text": [
      "TRAIN Epoch [10/70]: 100%|███████████████████████████████████████████████████████████| 139/139 [00:18<00:00,  7.58it/s]\n"
     ]
    },
    {
     "name": "stdout",
     "output_type": "stream",
     "text": [
      "TRAIN: Epoch [10/70], Autoencoder Loss: 0.0009, Classifier Loss: 0.8836, Accuracy: 82.8489 in 10425 input patches \n",
      "\n"
     ]
    },
    {
     "name": "stderr",
     "output_type": "stream",
     "text": [
      "VALIDATION set: 100%|██████████████████████████████████████████████████████████████████| 38/38 [00:10<00:00,  3.77it/s]\n"
     ]
    },
    {
     "name": "stdout",
     "output_type": "stream",
     "text": [
      "VALIDATION: Autoencoder Loss: 0.0010, Classifier Loss: 0.9556, Accuracy: 76.3158 in 38 input samples\n",
      "\n"
     ]
    },
    {
     "name": "stderr",
     "output_type": "stream",
     "text": [
      "TRAIN Epoch [11/70]: 100%|███████████████████████████████████████████████████████████| 139/139 [00:18<00:00,  7.49it/s]\n"
     ]
    },
    {
     "name": "stdout",
     "output_type": "stream",
     "text": [
      "TRAIN: Epoch [11/70], Autoencoder Loss: 0.0009, Classifier Loss: 0.8806, Accuracy: 83.2134 in 10425 input patches \n",
      "\n"
     ]
    },
    {
     "name": "stderr",
     "output_type": "stream",
     "text": [
      "VALIDATION set: 100%|██████████████████████████████████████████████████████████████████| 38/38 [00:09<00:00,  3.98it/s]\n"
     ]
    },
    {
     "name": "stdout",
     "output_type": "stream",
     "text": [
      "VALIDATION: Autoencoder Loss: 0.0010, Classifier Loss: 0.9120, Accuracy: 78.9474 in 38 input samples\n",
      "\n"
     ]
    },
    {
     "name": "stderr",
     "output_type": "stream",
     "text": [
      "TRAIN Epoch [12/70]: 100%|███████████████████████████████████████████████████████████| 139/139 [00:18<00:00,  7.51it/s]\n"
     ]
    },
    {
     "name": "stdout",
     "output_type": "stream",
     "text": [
      "TRAIN: Epoch [12/70], Autoencoder Loss: 0.0009, Classifier Loss: 0.8764, Accuracy: 84.3453 in 10425 input patches \n",
      "\n"
     ]
    },
    {
     "name": "stderr",
     "output_type": "stream",
     "text": [
      "VALIDATION set: 100%|██████████████████████████████████████████████████████████████████| 38/38 [00:09<00:00,  3.99it/s]\n"
     ]
    },
    {
     "name": "stdout",
     "output_type": "stream",
     "text": [
      "VALIDATION: Autoencoder Loss: 0.0012, Classifier Loss: 0.8742, Accuracy: 89.4737 in 38 input samples\n",
      "\n"
     ]
    },
    {
     "name": "stderr",
     "output_type": "stream",
     "text": [
      "TRAIN Epoch [13/70]: 100%|███████████████████████████████████████████████████████████| 139/139 [00:18<00:00,  7.62it/s]\n"
     ]
    },
    {
     "name": "stdout",
     "output_type": "stream",
     "text": [
      "TRAIN: Epoch [13/70], Autoencoder Loss: 0.0009, Classifier Loss: 0.8736, Accuracy: 84.4221 in 10425 input patches \n",
      "\n"
     ]
    },
    {
     "name": "stderr",
     "output_type": "stream",
     "text": [
      "VALIDATION set: 100%|██████████████████████████████████████████████████████████████████| 38/38 [00:09<00:00,  3.90it/s]\n"
     ]
    },
    {
     "name": "stdout",
     "output_type": "stream",
     "text": [
      "VALIDATION: Autoencoder Loss: 0.0010, Classifier Loss: 0.9998, Accuracy: 68.4211 in 38 input samples\n",
      "\n"
     ]
    },
    {
     "name": "stderr",
     "output_type": "stream",
     "text": [
      "TRAIN Epoch [14/70]: 100%|███████████████████████████████████████████████████████████| 139/139 [00:18<00:00,  7.70it/s]\n"
     ]
    },
    {
     "name": "stdout",
     "output_type": "stream",
     "text": [
      "TRAIN: Epoch [14/70], Autoencoder Loss: 0.0009, Classifier Loss: 0.8695, Accuracy: 85.2182 in 10425 input patches \n",
      "\n"
     ]
    },
    {
     "name": "stderr",
     "output_type": "stream",
     "text": [
      "VALIDATION set: 100%|██████████████████████████████████████████████████████████████████| 38/38 [00:09<00:00,  3.96it/s]\n"
     ]
    },
    {
     "name": "stdout",
     "output_type": "stream",
     "text": [
      "VALIDATION: Autoencoder Loss: 0.0016, Classifier Loss: 0.9593, Accuracy: 73.6842 in 38 input samples\n",
      "\n"
     ]
    },
    {
     "name": "stderr",
     "output_type": "stream",
     "text": [
      "TRAIN Epoch [15/70]: 100%|███████████████████████████████████████████████████████████| 139/139 [00:18<00:00,  7.67it/s]\n"
     ]
    },
    {
     "name": "stdout",
     "output_type": "stream",
     "text": [
      "TRAIN: Epoch [15/70], Autoencoder Loss: 0.0009, Classifier Loss: 0.8655, Accuracy: 86.1295 in 10425 input patches \n",
      "\n"
     ]
    },
    {
     "name": "stderr",
     "output_type": "stream",
     "text": [
      "VALIDATION set: 100%|██████████████████████████████████████████████████████████████████| 38/38 [00:09<00:00,  3.99it/s]\n"
     ]
    },
    {
     "name": "stdout",
     "output_type": "stream",
     "text": [
      "VALIDATION: Autoencoder Loss: 0.0017, Classifier Loss: 1.0126, Accuracy: 60.5263 in 38 input samples\n",
      "\n"
     ]
    },
    {
     "name": "stderr",
     "output_type": "stream",
     "text": [
      "TRAIN Epoch [16/70]: 100%|███████████████████████████████████████████████████████████| 139/139 [00:18<00:00,  7.55it/s]\n"
     ]
    },
    {
     "name": "stdout",
     "output_type": "stream",
     "text": [
      "TRAIN: Epoch [16/70], Autoencoder Loss: 0.0009, Classifier Loss: 0.8649, Accuracy: 86.1487 in 10425 input patches \n",
      "\n"
     ]
    },
    {
     "name": "stderr",
     "output_type": "stream",
     "text": [
      "VALIDATION set: 100%|██████████████████████████████████████████████████████████████████| 38/38 [00:09<00:00,  3.98it/s]\n"
     ]
    },
    {
     "name": "stdout",
     "output_type": "stream",
     "text": [
      "VALIDATION: Autoencoder Loss: 0.0011, Classifier Loss: 0.8933, Accuracy: 86.8421 in 38 input samples\n",
      "\n"
     ]
    },
    {
     "name": "stderr",
     "output_type": "stream",
     "text": [
      "TRAIN Epoch [17/70]: 100%|███████████████████████████████████████████████████████████| 139/139 [00:18<00:00,  7.61it/s]\n"
     ]
    },
    {
     "name": "stdout",
     "output_type": "stream",
     "text": [
      "TRAIN: Epoch [17/70], Autoencoder Loss: 0.0009, Classifier Loss: 0.8627, Accuracy: 86.2062 in 10425 input patches \n",
      "\n"
     ]
    },
    {
     "name": "stderr",
     "output_type": "stream",
     "text": [
      "VALIDATION set: 100%|██████████████████████████████████████████████████████████████████| 38/38 [00:09<00:00,  3.99it/s]\n"
     ]
    },
    {
     "name": "stdout",
     "output_type": "stream",
     "text": [
      "VALIDATION: Autoencoder Loss: 0.0011, Classifier Loss: 0.9862, Accuracy: 71.0526 in 38 input samples\n",
      "\n"
     ]
    },
    {
     "name": "stderr",
     "output_type": "stream",
     "text": [
      "TRAIN Epoch [18/70]: 100%|███████████████████████████████████████████████████████████| 139/139 [00:18<00:00,  7.52it/s]\n"
     ]
    },
    {
     "name": "stdout",
     "output_type": "stream",
     "text": [
      "TRAIN: Epoch [18/70], Autoencoder Loss: 0.0009, Classifier Loss: 0.8598, Accuracy: 86.9832 in 10425 input patches \n",
      "\n"
     ]
    },
    {
     "name": "stderr",
     "output_type": "stream",
     "text": [
      "VALIDATION set: 100%|██████████████████████████████████████████████████████████████████| 38/38 [00:09<00:00,  3.97it/s]\n"
     ]
    },
    {
     "name": "stdout",
     "output_type": "stream",
     "text": [
      "VALIDATION: Autoencoder Loss: 0.0012, Classifier Loss: 0.9020, Accuracy: 76.3158 in 38 input samples\n",
      "\n"
     ]
    },
    {
     "name": "stderr",
     "output_type": "stream",
     "text": [
      "TRAIN Epoch [19/70]: 100%|███████████████████████████████████████████████████████████| 139/139 [00:18<00:00,  7.52it/s]\n"
     ]
    },
    {
     "name": "stdout",
     "output_type": "stream",
     "text": [
      "TRAIN: Epoch [19/70], Autoencoder Loss: 0.0009, Classifier Loss: 0.8573, Accuracy: 87.0408 in 10425 input patches \n",
      "\n"
     ]
    },
    {
     "name": "stderr",
     "output_type": "stream",
     "text": [
      "VALIDATION set: 100%|██████████████████████████████████████████████████████████████████| 38/38 [00:09<00:00,  3.98it/s]\n"
     ]
    },
    {
     "name": "stdout",
     "output_type": "stream",
     "text": [
      "VALIDATION: Autoencoder Loss: 0.0009, Classifier Loss: 0.8909, Accuracy: 89.4737 in 38 input samples\n",
      "\n"
     ]
    },
    {
     "name": "stderr",
     "output_type": "stream",
     "text": [
      "TRAIN Epoch [20/70]: 100%|███████████████████████████████████████████████████████████| 139/139 [00:18<00:00,  7.71it/s]\n"
     ]
    },
    {
     "name": "stdout",
     "output_type": "stream",
     "text": [
      "TRAIN: Epoch [20/70], Autoencoder Loss: 0.0009, Classifier Loss: 0.8563, Accuracy: 87.4053 in 10425 input patches \n",
      "\n"
     ]
    },
    {
     "name": "stderr",
     "output_type": "stream",
     "text": [
      "VALIDATION set: 100%|██████████████████████████████████████████████████████████████████| 38/38 [00:09<00:00,  3.97it/s]\n"
     ]
    },
    {
     "name": "stdout",
     "output_type": "stream",
     "text": [
      "VALIDATION: Autoencoder Loss: 0.0013, Classifier Loss: 0.9759, Accuracy: 68.4211 in 38 input samples\n",
      "\n"
     ]
    },
    {
     "name": "stderr",
     "output_type": "stream",
     "text": [
      "TRAIN Epoch [21/70]: 100%|███████████████████████████████████████████████████████████| 139/139 [00:18<00:00,  7.65it/s]\n"
     ]
    },
    {
     "name": "stdout",
     "output_type": "stream",
     "text": [
      "TRAIN: Epoch [21/70], Autoencoder Loss: 0.0009, Classifier Loss: 0.8510, Accuracy: 88.3549 in 10425 input patches \n",
      "\n"
     ]
    },
    {
     "name": "stderr",
     "output_type": "stream",
     "text": [
      "VALIDATION set: 100%|██████████████████████████████████████████████████████████████████| 38/38 [00:09<00:00,  3.92it/s]\n"
     ]
    },
    {
     "name": "stdout",
     "output_type": "stream",
     "text": [
      "VALIDATION: Autoencoder Loss: 0.0011, Classifier Loss: 0.9236, Accuracy: 86.8421 in 38 input samples\n",
      "\n"
     ]
    },
    {
     "name": "stderr",
     "output_type": "stream",
     "text": [
      "TRAIN Epoch [22/70]: 100%|███████████████████████████████████████████████████████████| 139/139 [00:18<00:00,  7.52it/s]\n"
     ]
    },
    {
     "name": "stdout",
     "output_type": "stream",
     "text": [
      "TRAIN: Epoch [22/70], Autoencoder Loss: 0.0009, Classifier Loss: 0.8533, Accuracy: 87.9616 in 10425 input patches \n",
      "\n"
     ]
    },
    {
     "name": "stderr",
     "output_type": "stream",
     "text": [
      "VALIDATION set: 100%|██████████████████████████████████████████████████████████████████| 38/38 [00:09<00:00,  3.99it/s]\n"
     ]
    },
    {
     "name": "stdout",
     "output_type": "stream",
     "text": [
      "VALIDATION: Autoencoder Loss: 0.0009, Classifier Loss: 0.8762, Accuracy: 86.8421 in 38 input samples\n",
      "\n"
     ]
    },
    {
     "name": "stderr",
     "output_type": "stream",
     "text": [
      "TRAIN Epoch [23/70]: 100%|███████████████████████████████████████████████████████████| 139/139 [00:18<00:00,  7.48it/s]\n"
     ]
    },
    {
     "name": "stdout",
     "output_type": "stream",
     "text": [
      "TRAIN: Epoch [23/70], Autoencoder Loss: 0.0009, Classifier Loss: 0.8492, Accuracy: 88.6523 in 10425 input patches \n",
      "\n"
     ]
    },
    {
     "name": "stderr",
     "output_type": "stream",
     "text": [
      "VALIDATION set: 100%|██████████████████████████████████████████████████████████████████| 38/38 [00:09<00:00,  3.97it/s]\n"
     ]
    },
    {
     "name": "stdout",
     "output_type": "stream",
     "text": [
      "VALIDATION: Autoencoder Loss: 0.0009, Classifier Loss: 1.0567, Accuracy: 52.6316 in 38 input samples\n",
      "\n"
     ]
    },
    {
     "name": "stderr",
     "output_type": "stream",
     "text": [
      "TRAIN Epoch [24/70]: 100%|███████████████████████████████████████████████████████████| 139/139 [00:18<00:00,  7.65it/s]\n"
     ]
    },
    {
     "name": "stdout",
     "output_type": "stream",
     "text": [
      "TRAIN: Epoch [24/70], Autoencoder Loss: 0.0009, Classifier Loss: 0.8461, Accuracy: 89.2278 in 10425 input patches \n",
      "\n"
     ]
    },
    {
     "name": "stderr",
     "output_type": "stream",
     "text": [
      "VALIDATION set: 100%|██████████████████████████████████████████████████████████████████| 38/38 [00:09<00:00,  4.03it/s]\n"
     ]
    },
    {
     "name": "stdout",
     "output_type": "stream",
     "text": [
      "VALIDATION: Autoencoder Loss: 0.0009, Classifier Loss: 0.8967, Accuracy: 84.2105 in 38 input samples\n",
      "\n"
     ]
    },
    {
     "name": "stderr",
     "output_type": "stream",
     "text": [
      "TRAIN Epoch [25/70]: 100%|███████████████████████████████████████████████████████████| 139/139 [00:18<00:00,  7.71it/s]\n"
     ]
    },
    {
     "name": "stdout",
     "output_type": "stream",
     "text": [
      "TRAIN: Epoch [25/70], Autoencoder Loss: 0.0009, Classifier Loss: 0.8458, Accuracy: 89.4005 in 10425 input patches \n",
      "\n"
     ]
    },
    {
     "name": "stderr",
     "output_type": "stream",
     "text": [
      "VALIDATION set: 100%|██████████████████████████████████████████████████████████████████| 38/38 [00:09<00:00,  4.00it/s]\n"
     ]
    },
    {
     "name": "stdout",
     "output_type": "stream",
     "text": [
      "VALIDATION: Autoencoder Loss: 0.0023, Classifier Loss: 0.9468, Accuracy: 76.3158 in 38 input samples\n",
      "\n"
     ]
    },
    {
     "name": "stderr",
     "output_type": "stream",
     "text": [
      "TRAIN Epoch [26/70]: 100%|███████████████████████████████████████████████████████████| 139/139 [00:18<00:00,  7.70it/s]\n"
     ]
    },
    {
     "name": "stdout",
     "output_type": "stream",
     "text": [
      "TRAIN: Epoch [26/70], Autoencoder Loss: 0.0009, Classifier Loss: 0.8450, Accuracy: 89.5540 in 10425 input patches \n",
      "\n"
     ]
    },
    {
     "name": "stderr",
     "output_type": "stream",
     "text": [
      "VALIDATION set: 100%|██████████████████████████████████████████████████████████████████| 38/38 [00:09<00:00,  3.98it/s]\n"
     ]
    },
    {
     "name": "stdout",
     "output_type": "stream",
     "text": [
      "VALIDATION: Autoencoder Loss: 0.0012, Classifier Loss: 0.8730, Accuracy: 92.1053 in 38 input samples\n",
      "\n",
      "\u001b[92mSaved Model: \u001b[0m\u001b[4mbest validation accuracy reached\n",
      "\n",
      "\u001b[0m\n"
     ]
    },
    {
     "name": "stderr",
     "output_type": "stream",
     "text": [
      "TRAIN Epoch [27/70]: 100%|███████████████████████████████████████████████████████████| 139/139 [00:18<00:00,  7.62it/s]\n"
     ]
    },
    {
     "name": "stdout",
     "output_type": "stream",
     "text": [
      "TRAIN: Epoch [27/70], Autoencoder Loss: 0.0009, Classifier Loss: 0.8410, Accuracy: 90.4173 in 10425 input patches \n",
      "\n"
     ]
    },
    {
     "name": "stderr",
     "output_type": "stream",
     "text": [
      "VALIDATION set: 100%|██████████████████████████████████████████████████████████████████| 38/38 [00:09<00:00,  3.98it/s]\n"
     ]
    },
    {
     "name": "stdout",
     "output_type": "stream",
     "text": [
      "VALIDATION: Autoencoder Loss: 0.0016, Classifier Loss: 0.9740, Accuracy: 68.4211 in 38 input samples\n",
      "\n"
     ]
    },
    {
     "name": "stderr",
     "output_type": "stream",
     "text": [
      "TRAIN Epoch [28/70]: 100%|███████████████████████████████████████████████████████████| 139/139 [00:18<00:00,  7.64it/s]\n"
     ]
    },
    {
     "name": "stdout",
     "output_type": "stream",
     "text": [
      "TRAIN: Epoch [28/70], Autoencoder Loss: 0.0009, Classifier Loss: 0.8413, Accuracy: 90.0432 in 10425 input patches \n",
      "\n"
     ]
    },
    {
     "name": "stderr",
     "output_type": "stream",
     "text": [
      "VALIDATION set: 100%|██████████████████████████████████████████████████████████████████| 38/38 [00:09<00:00,  3.97it/s]\n"
     ]
    },
    {
     "name": "stdout",
     "output_type": "stream",
     "text": [
      "VALIDATION: Autoencoder Loss: 0.0012, Classifier Loss: 0.9912, Accuracy: 65.7895 in 38 input samples\n",
      "\n"
     ]
    },
    {
     "name": "stderr",
     "output_type": "stream",
     "text": [
      "TRAIN Epoch [29/70]: 100%|███████████████████████████████████████████████████████████| 139/139 [00:18<00:00,  7.49it/s]\n"
     ]
    },
    {
     "name": "stdout",
     "output_type": "stream",
     "text": [
      "TRAIN: Epoch [29/70], Autoencoder Loss: 0.0009, Classifier Loss: 0.8424, Accuracy: 89.8513 in 10425 input patches \n",
      "\n"
     ]
    },
    {
     "name": "stderr",
     "output_type": "stream",
     "text": [
      "VALIDATION set: 100%|██████████████████████████████████████████████████████████████████| 38/38 [00:09<00:00,  3.95it/s]\n"
     ]
    },
    {
     "name": "stdout",
     "output_type": "stream",
     "text": [
      "VALIDATION: Autoencoder Loss: 0.0008, Classifier Loss: 0.8542, Accuracy: 94.7368 in 38 input samples\n",
      "\n",
      "\u001b[92mSaved Model: \u001b[0m\u001b[4mbest validation accuracy reached\n",
      "\n",
      "\u001b[0m\n"
     ]
    },
    {
     "name": "stderr",
     "output_type": "stream",
     "text": [
      "TRAIN Epoch [30/70]: 100%|███████████████████████████████████████████████████████████| 139/139 [00:18<00:00,  7.52it/s]\n"
     ]
    },
    {
     "name": "stdout",
     "output_type": "stream",
     "text": [
      "TRAIN: Epoch [30/70], Autoencoder Loss: 0.0009, Classifier Loss: 0.8424, Accuracy: 89.8609 in 10425 input patches \n",
      "\n"
     ]
    },
    {
     "name": "stderr",
     "output_type": "stream",
     "text": [
      "VALIDATION set: 100%|██████████████████████████████████████████████████████████████████| 38/38 [00:09<00:00,  3.98it/s]\n"
     ]
    },
    {
     "name": "stdout",
     "output_type": "stream",
     "text": [
      "VALIDATION: Autoencoder Loss: 0.0009, Classifier Loss: 0.9230, Accuracy: 81.5789 in 38 input samples\n",
      "\n"
     ]
    },
    {
     "name": "stderr",
     "output_type": "stream",
     "text": [
      "TRAIN Epoch [31/70]: 100%|███████████████████████████████████████████████████████████| 139/139 [00:18<00:00,  7.66it/s]\n"
     ]
    },
    {
     "name": "stdout",
     "output_type": "stream",
     "text": [
      "TRAIN: Epoch [31/70], Autoencoder Loss: 0.0009, Classifier Loss: 0.8380, Accuracy: 90.5995 in 10425 input patches \n",
      "\n"
     ]
    },
    {
     "name": "stderr",
     "output_type": "stream",
     "text": [
      "VALIDATION set: 100%|██████████████████████████████████████████████████████████████████| 38/38 [00:09<00:00,  3.97it/s]\n"
     ]
    },
    {
     "name": "stdout",
     "output_type": "stream",
     "text": [
      "VALIDATION: Autoencoder Loss: 0.0009, Classifier Loss: 0.9051, Accuracy: 84.2105 in 38 input samples\n",
      "\n"
     ]
    },
    {
     "name": "stderr",
     "output_type": "stream",
     "text": [
      "TRAIN Epoch [32/70]: 100%|███████████████████████████████████████████████████████████| 139/139 [00:18<00:00,  7.55it/s]\n"
     ]
    },
    {
     "name": "stdout",
     "output_type": "stream",
     "text": [
      "TRAIN: Epoch [32/70], Autoencoder Loss: 0.0009, Classifier Loss: 0.8425, Accuracy: 89.6403 in 10425 input patches \n",
      "\n"
     ]
    },
    {
     "name": "stderr",
     "output_type": "stream",
     "text": [
      "VALIDATION set: 100%|██████████████████████████████████████████████████████████████████| 38/38 [00:09<00:00,  3.98it/s]\n"
     ]
    },
    {
     "name": "stdout",
     "output_type": "stream",
     "text": [
      "VALIDATION: Autoencoder Loss: 0.0012, Classifier Loss: 0.8841, Accuracy: 84.2105 in 38 input samples\n",
      "\n"
     ]
    },
    {
     "name": "stderr",
     "output_type": "stream",
     "text": [
      "TRAIN Epoch [33/70]: 100%|███████████████████████████████████████████████████████████| 139/139 [00:18<00:00,  7.51it/s]\n"
     ]
    },
    {
     "name": "stdout",
     "output_type": "stream",
     "text": [
      "TRAIN: Epoch [33/70], Autoencoder Loss: 0.0009, Classifier Loss: 0.8394, Accuracy: 90.3022 in 10425 input patches \n",
      "\n"
     ]
    },
    {
     "name": "stderr",
     "output_type": "stream",
     "text": [
      "VALIDATION set: 100%|██████████████████████████████████████████████████████████████████| 38/38 [00:09<00:00,  3.97it/s]\n"
     ]
    },
    {
     "name": "stdout",
     "output_type": "stream",
     "text": [
      "VALIDATION: Autoencoder Loss: 0.0010, Classifier Loss: 0.8972, Accuracy: 86.8421 in 38 input samples\n",
      "\n"
     ]
    },
    {
     "name": "stderr",
     "output_type": "stream",
     "text": [
      "TRAIN Epoch [34/70]: 100%|███████████████████████████████████████████████████████████| 139/139 [00:18<00:00,  7.63it/s]\n"
     ]
    },
    {
     "name": "stdout",
     "output_type": "stream",
     "text": [
      "TRAIN: Epoch [34/70], Autoencoder Loss: 0.0009, Classifier Loss: 0.8371, Accuracy: 90.8010 in 10425 input patches \n",
      "\n"
     ]
    },
    {
     "name": "stderr",
     "output_type": "stream",
     "text": [
      "VALIDATION set: 100%|██████████████████████████████████████████████████████████████████| 38/38 [00:09<00:00,  4.00it/s]\n"
     ]
    },
    {
     "name": "stdout",
     "output_type": "stream",
     "text": [
      "VALIDATION: Autoencoder Loss: 0.0013, Classifier Loss: 0.9926, Accuracy: 65.7895 in 38 input samples\n",
      "\n"
     ]
    },
    {
     "name": "stderr",
     "output_type": "stream",
     "text": [
      "TRAIN Epoch [35/70]: 100%|███████████████████████████████████████████████████████████| 139/139 [00:18<00:00,  7.58it/s]\n"
     ]
    },
    {
     "name": "stdout",
     "output_type": "stream",
     "text": [
      "TRAIN: Epoch [35/70], Autoencoder Loss: 0.0009, Classifier Loss: 0.8393, Accuracy: 90.4652 in 10425 input patches \n",
      "\n"
     ]
    },
    {
     "name": "stderr",
     "output_type": "stream",
     "text": [
      "VALIDATION set: 100%|██████████████████████████████████████████████████████████████████| 38/38 [00:09<00:00,  4.00it/s]\n"
     ]
    },
    {
     "name": "stdout",
     "output_type": "stream",
     "text": [
      "VALIDATION: Autoencoder Loss: 0.0009, Classifier Loss: 1.0518, Accuracy: 50.0000 in 38 input samples\n",
      "\n"
     ]
    },
    {
     "name": "stderr",
     "output_type": "stream",
     "text": [
      "TRAIN Epoch [36/70]: 100%|███████████████████████████████████████████████████████████| 139/139 [00:18<00:00,  7.72it/s]\n"
     ]
    },
    {
     "name": "stdout",
     "output_type": "stream",
     "text": [
      "TRAIN: Epoch [36/70], Autoencoder Loss: 0.0009, Classifier Loss: 0.8341, Accuracy: 91.2806 in 10425 input patches \n",
      "\n"
     ]
    },
    {
     "name": "stderr",
     "output_type": "stream",
     "text": [
      "VALIDATION set: 100%|██████████████████████████████████████████████████████████████████| 38/38 [00:09<00:00,  3.99it/s]\n"
     ]
    },
    {
     "name": "stdout",
     "output_type": "stream",
     "text": [
      "VALIDATION: Autoencoder Loss: 0.0014, Classifier Loss: 0.9948, Accuracy: 65.7895 in 38 input samples\n",
      "\n"
     ]
    },
    {
     "name": "stderr",
     "output_type": "stream",
     "text": [
      "TRAIN Epoch [37/70]: 100%|███████████████████████████████████████████████████████████| 139/139 [00:18<00:00,  7.46it/s]\n"
     ]
    },
    {
     "name": "stdout",
     "output_type": "stream",
     "text": [
      "TRAIN: Epoch [37/70], Autoencoder Loss: 0.0009, Classifier Loss: 0.8366, Accuracy: 90.7338 in 10425 input patches \n",
      "\n"
     ]
    },
    {
     "name": "stderr",
     "output_type": "stream",
     "text": [
      "VALIDATION set: 100%|██████████████████████████████████████████████████████████████████| 38/38 [00:09<00:00,  3.99it/s]\n"
     ]
    },
    {
     "name": "stdout",
     "output_type": "stream",
     "text": [
      "VALIDATION: Autoencoder Loss: 0.0011, Classifier Loss: 0.9014, Accuracy: 84.2105 in 38 input samples\n",
      "\n"
     ]
    },
    {
     "name": "stderr",
     "output_type": "stream",
     "text": [
      "TRAIN Epoch [38/70]: 100%|███████████████████████████████████████████████████████████| 139/139 [00:18<00:00,  7.45it/s]\n"
     ]
    },
    {
     "name": "stdout",
     "output_type": "stream",
     "text": [
      "TRAIN: Epoch [38/70], Autoencoder Loss: 0.0009, Classifier Loss: 0.8368, Accuracy: 90.8297 in 10425 input patches \n",
      "\n"
     ]
    },
    {
     "name": "stderr",
     "output_type": "stream",
     "text": [
      "VALIDATION set: 100%|██████████████████████████████████████████████████████████████████| 38/38 [00:09<00:00,  4.02it/s]\n"
     ]
    },
    {
     "name": "stdout",
     "output_type": "stream",
     "text": [
      "VALIDATION: Autoencoder Loss: 0.0009, Classifier Loss: 1.0200, Accuracy: 55.2632 in 38 input samples\n",
      "\n"
     ]
    },
    {
     "name": "stderr",
     "output_type": "stream",
     "text": [
      "TRAIN Epoch [39/70]: 100%|███████████████████████████████████████████████████████████| 139/139 [00:18<00:00,  7.69it/s]\n"
     ]
    },
    {
     "name": "stdout",
     "output_type": "stream",
     "text": [
      "TRAIN: Epoch [39/70], Autoencoder Loss: 0.0009, Classifier Loss: 0.8330, Accuracy: 91.0983 in 10425 input patches \n",
      "\n"
     ]
    },
    {
     "name": "stderr",
     "output_type": "stream",
     "text": [
      "VALIDATION set: 100%|██████████████████████████████████████████████████████████████████| 38/38 [00:09<00:00,  4.00it/s]\n"
     ]
    },
    {
     "name": "stdout",
     "output_type": "stream",
     "text": [
      "VALIDATION: Autoencoder Loss: 0.0012, Classifier Loss: 0.9242, Accuracy: 78.9474 in 38 input samples\n",
      "\n"
     ]
    },
    {
     "name": "stderr",
     "output_type": "stream",
     "text": [
      "TRAIN Epoch [40/70]: 100%|███████████████████████████████████████████████████████████| 139/139 [00:18<00:00,  7.59it/s]\n"
     ]
    },
    {
     "name": "stdout",
     "output_type": "stream",
     "text": [
      "TRAIN: Epoch [40/70], Autoencoder Loss: 0.0009, Classifier Loss: 0.8383, Accuracy: 90.3981 in 10425 input patches \n",
      "\n"
     ]
    },
    {
     "name": "stderr",
     "output_type": "stream",
     "text": [
      "VALIDATION set: 100%|██████████████████████████████████████████████████████████████████| 38/38 [00:09<00:00,  4.02it/s]\n"
     ]
    },
    {
     "name": "stdout",
     "output_type": "stream",
     "text": [
      "VALIDATION: Autoencoder Loss: 0.0013, Classifier Loss: 0.9898, Accuracy: 63.1579 in 38 input samples\n",
      "\n"
     ]
    },
    {
     "name": "stderr",
     "output_type": "stream",
     "text": [
      "TRAIN Epoch [41/70]: 100%|███████████████████████████████████████████████████████████| 139/139 [00:18<00:00,  7.66it/s]\n"
     ]
    },
    {
     "name": "stdout",
     "output_type": "stream",
     "text": [
      "TRAIN: Epoch [41/70], Autoencoder Loss: 0.0009, Classifier Loss: 0.8347, Accuracy: 90.9257 in 10425 input patches \n",
      "\n"
     ]
    },
    {
     "name": "stderr",
     "output_type": "stream",
     "text": [
      "VALIDATION set: 100%|██████████████████████████████████████████████████████████████████| 38/38 [00:09<00:00,  4.00it/s]\n"
     ]
    },
    {
     "name": "stdout",
     "output_type": "stream",
     "text": [
      "VALIDATION: Autoencoder Loss: 0.0008, Classifier Loss: 0.8833, Accuracy: 92.1053 in 38 input samples\n",
      "\n"
     ]
    },
    {
     "name": "stderr",
     "output_type": "stream",
     "text": [
      "TRAIN Epoch [42/70]: 100%|███████████████████████████████████████████████████████████| 139/139 [00:18<00:00,  7.51it/s]\n"
     ]
    },
    {
     "name": "stdout",
     "output_type": "stream",
     "text": [
      "TRAIN: Epoch [42/70], Autoencoder Loss: 0.0009, Classifier Loss: 0.8334, Accuracy: 91.2134 in 10425 input patches \n",
      "\n"
     ]
    },
    {
     "name": "stderr",
     "output_type": "stream",
     "text": [
      "VALIDATION set: 100%|██████████████████████████████████████████████████████████████████| 38/38 [00:09<00:00,  3.98it/s]\n"
     ]
    },
    {
     "name": "stdout",
     "output_type": "stream",
     "text": [
      "VALIDATION: Autoencoder Loss: 0.0009, Classifier Loss: 0.9518, Accuracy: 78.9474 in 38 input samples\n",
      "\n"
     ]
    },
    {
     "name": "stderr",
     "output_type": "stream",
     "text": [
      "TRAIN Epoch [43/70]: 100%|███████████████████████████████████████████████████████████| 139/139 [00:18<00:00,  7.70it/s]\n"
     ]
    },
    {
     "name": "stdout",
     "output_type": "stream",
     "text": [
      "TRAIN: Epoch [43/70], Autoencoder Loss: 0.0009, Classifier Loss: 0.8307, Accuracy: 91.7314 in 10425 input patches \n",
      "\n"
     ]
    },
    {
     "name": "stderr",
     "output_type": "stream",
     "text": [
      "VALIDATION set: 100%|██████████████████████████████████████████████████████████████████| 38/38 [00:09<00:00,  3.99it/s]\n"
     ]
    },
    {
     "name": "stdout",
     "output_type": "stream",
     "text": [
      "VALIDATION: Autoencoder Loss: 0.0009, Classifier Loss: 0.8912, Accuracy: 89.4737 in 38 input samples\n",
      "\n"
     ]
    },
    {
     "name": "stderr",
     "output_type": "stream",
     "text": [
      "TRAIN Epoch [44/70]: 100%|███████████████████████████████████████████████████████████| 139/139 [00:18<00:00,  7.57it/s]\n"
     ]
    },
    {
     "name": "stdout",
     "output_type": "stream",
     "text": [
      "TRAIN: Epoch [44/70], Autoencoder Loss: 0.0009, Classifier Loss: 0.8341, Accuracy: 91.1367 in 10425 input patches \n",
      "\n"
     ]
    },
    {
     "name": "stderr",
     "output_type": "stream",
     "text": [
      "VALIDATION set: 100%|██████████████████████████████████████████████████████████████████| 38/38 [00:09<00:00,  4.00it/s]\n"
     ]
    },
    {
     "name": "stdout",
     "output_type": "stream",
     "text": [
      "VALIDATION: Autoencoder Loss: 0.0015, Classifier Loss: 1.0739, Accuracy: 52.6316 in 38 input samples\n",
      "\n"
     ]
    },
    {
     "name": "stderr",
     "output_type": "stream",
     "text": [
      "TRAIN Epoch [45/70]: 100%|███████████████████████████████████████████████████████████| 139/139 [00:18<00:00,  7.67it/s]\n"
     ]
    },
    {
     "name": "stdout",
     "output_type": "stream",
     "text": [
      "TRAIN: Epoch [45/70], Autoencoder Loss: 0.0009, Classifier Loss: 0.8336, Accuracy: 91.2806 in 10425 input patches \n",
      "\n"
     ]
    },
    {
     "name": "stderr",
     "output_type": "stream",
     "text": [
      "VALIDATION set: 100%|██████████████████████████████████████████████████████████████████| 38/38 [00:09<00:00,  4.00it/s]\n"
     ]
    },
    {
     "name": "stdout",
     "output_type": "stream",
     "text": [
      "VALIDATION: Autoencoder Loss: 0.0008, Classifier Loss: 0.9414, Accuracy: 73.6842 in 38 input samples\n",
      "\n"
     ]
    },
    {
     "name": "stderr",
     "output_type": "stream",
     "text": [
      "TRAIN Epoch [46/70]: 100%|███████████████████████████████████████████████████████████| 139/139 [00:18<00:00,  7.53it/s]\n"
     ]
    },
    {
     "name": "stdout",
     "output_type": "stream",
     "text": [
      "TRAIN: Epoch [46/70], Autoencoder Loss: 0.0009, Classifier Loss: 0.8322, Accuracy: 91.3094 in 10425 input patches \n",
      "\n"
     ]
    },
    {
     "name": "stderr",
     "output_type": "stream",
     "text": [
      "VALIDATION set: 100%|██████████████████████████████████████████████████████████████████| 38/38 [00:09<00:00,  4.01it/s]\n"
     ]
    },
    {
     "name": "stdout",
     "output_type": "stream",
     "text": [
      "VALIDATION: Autoencoder Loss: 0.0009, Classifier Loss: 0.9985, Accuracy: 68.4211 in 38 input samples\n",
      "\n"
     ]
    },
    {
     "name": "stderr",
     "output_type": "stream",
     "text": [
      "TRAIN Epoch [47/70]: 100%|███████████████████████████████████████████████████████████| 139/139 [00:18<00:00,  7.70it/s]\n"
     ]
    },
    {
     "name": "stdout",
     "output_type": "stream",
     "text": [
      "TRAIN: Epoch [47/70], Autoencoder Loss: 0.0009, Classifier Loss: 0.8356, Accuracy: 90.9257 in 10425 input patches \n",
      "\n"
     ]
    },
    {
     "name": "stderr",
     "output_type": "stream",
     "text": [
      "VALIDATION set: 100%|██████████████████████████████████████████████████████████████████| 38/38 [00:09<00:00,  3.99it/s]\n"
     ]
    },
    {
     "name": "stdout",
     "output_type": "stream",
     "text": [
      "VALIDATION: Autoencoder Loss: 0.0013, Classifier Loss: 0.8889, Accuracy: 94.7368 in 38 input samples\n",
      "\n"
     ]
    },
    {
     "name": "stderr",
     "output_type": "stream",
     "text": [
      "TRAIN Epoch [48/70]: 100%|███████████████████████████████████████████████████████████| 139/139 [00:18<00:00,  7.68it/s]\n"
     ]
    },
    {
     "name": "stdout",
     "output_type": "stream",
     "text": [
      "TRAIN: Epoch [48/70], Autoencoder Loss: 0.0009, Classifier Loss: 0.8311, Accuracy: 91.8561 in 10425 input patches \n",
      "\n"
     ]
    },
    {
     "name": "stderr",
     "output_type": "stream",
     "text": [
      "VALIDATION set: 100%|██████████████████████████████████████████████████████████████████| 38/38 [00:09<00:00,  4.00it/s]\n"
     ]
    },
    {
     "name": "stdout",
     "output_type": "stream",
     "text": [
      "VALIDATION: Autoencoder Loss: 0.0018, Classifier Loss: 0.9123, Accuracy: 84.2105 in 38 input samples\n",
      "\n"
     ]
    },
    {
     "name": "stderr",
     "output_type": "stream",
     "text": [
      "TRAIN Epoch [49/70]: 100%|███████████████████████████████████████████████████████████| 139/139 [00:18<00:00,  7.33it/s]\n"
     ]
    },
    {
     "name": "stdout",
     "output_type": "stream",
     "text": [
      "TRAIN: Epoch [49/70], Autoencoder Loss: 0.0009, Classifier Loss: 0.8315, Accuracy: 91.5300 in 10425 input patches \n",
      "\n"
     ]
    },
    {
     "name": "stderr",
     "output_type": "stream",
     "text": [
      "VALIDATION set: 100%|██████████████████████████████████████████████████████████████████| 38/38 [00:09<00:00,  3.95it/s]\n"
     ]
    },
    {
     "name": "stdout",
     "output_type": "stream",
     "text": [
      "VALIDATION: Autoencoder Loss: 0.0011, Classifier Loss: 1.0437, Accuracy: 52.6316 in 38 input samples\n",
      "\n"
     ]
    },
    {
     "name": "stderr",
     "output_type": "stream",
     "text": [
      "TRAIN Epoch [50/70]: 100%|███████████████████████████████████████████████████████████| 139/139 [00:20<00:00,  6.83it/s]\n"
     ]
    },
    {
     "name": "stdout",
     "output_type": "stream",
     "text": [
      "TRAIN: Epoch [50/70], Autoencoder Loss: 0.0009, Classifier Loss: 0.8308, Accuracy: 91.5204 in 10425 input patches \n",
      "\n"
     ]
    },
    {
     "name": "stderr",
     "output_type": "stream",
     "text": [
      "VALIDATION set: 100%|██████████████████████████████████████████████████████████████████| 38/38 [00:10<00:00,  3.78it/s]\n"
     ]
    },
    {
     "name": "stdout",
     "output_type": "stream",
     "text": [
      "VALIDATION: Autoencoder Loss: 0.0014, Classifier Loss: 0.9028, Accuracy: 78.9474 in 38 input samples\n",
      "\n"
     ]
    },
    {
     "name": "stderr",
     "output_type": "stream",
     "text": [
      "TRAIN Epoch [51/70]: 100%|███████████████████████████████████████████████████████████| 139/139 [00:19<00:00,  7.18it/s]\n"
     ]
    },
    {
     "name": "stdout",
     "output_type": "stream",
     "text": [
      "TRAIN: Epoch [51/70], Autoencoder Loss: 0.0009, Classifier Loss: 0.8315, Accuracy: 91.4149 in 10425 input patches \n",
      "\n"
     ]
    },
    {
     "name": "stderr",
     "output_type": "stream",
     "text": [
      "VALIDATION set: 100%|██████████████████████████████████████████████████████████████████| 38/38 [00:09<00:00,  3.84it/s]\n"
     ]
    },
    {
     "name": "stdout",
     "output_type": "stream",
     "text": [
      "VALIDATION: Autoencoder Loss: 0.0008, Classifier Loss: 0.8526, Accuracy: 97.3684 in 38 input samples\n",
      "\n",
      "\u001b[92mSaved Model: \u001b[0m\u001b[4mbest validation accuracy reached\n",
      "\n",
      "\u001b[0m\n"
     ]
    },
    {
     "name": "stderr",
     "output_type": "stream",
     "text": [
      "TRAIN Epoch [52/70]: 100%|███████████████████████████████████████████████████████████| 139/139 [00:19<00:00,  7.18it/s]\n"
     ]
    },
    {
     "name": "stdout",
     "output_type": "stream",
     "text": [
      "TRAIN: Epoch [52/70], Autoencoder Loss: 0.0009, Classifier Loss: 0.8298, Accuracy: 91.9904 in 10425 input patches \n",
      "\n"
     ]
    },
    {
     "name": "stderr",
     "output_type": "stream",
     "text": [
      "VALIDATION set: 100%|██████████████████████████████████████████████████████████████████| 38/38 [00:09<00:00,  3.88it/s]\n"
     ]
    },
    {
     "name": "stdout",
     "output_type": "stream",
     "text": [
      "VALIDATION: Autoencoder Loss: 0.0011, Classifier Loss: 1.0138, Accuracy: 63.1579 in 38 input samples\n",
      "\n"
     ]
    },
    {
     "name": "stderr",
     "output_type": "stream",
     "text": [
      "TRAIN Epoch [53/70]: 100%|███████████████████████████████████████████████████████████| 139/139 [00:20<00:00,  6.78it/s]\n"
     ]
    },
    {
     "name": "stdout",
     "output_type": "stream",
     "text": [
      "TRAIN: Epoch [53/70], Autoencoder Loss: 0.0009, Classifier Loss: 0.8306, Accuracy: 91.8753 in 10425 input patches \n",
      "\n"
     ]
    },
    {
     "name": "stderr",
     "output_type": "stream",
     "text": [
      "VALIDATION set: 100%|██████████████████████████████████████████████████████████████████| 38/38 [00:09<00:00,  3.82it/s]\n"
     ]
    },
    {
     "name": "stdout",
     "output_type": "stream",
     "text": [
      "VALIDATION: Autoencoder Loss: 0.0012, Classifier Loss: 0.9462, Accuracy: 71.0526 in 38 input samples\n",
      "\n"
     ]
    },
    {
     "name": "stderr",
     "output_type": "stream",
     "text": [
      "TRAIN Epoch [54/70]: 100%|███████████████████████████████████████████████████████████| 139/139 [00:19<00:00,  7.23it/s]\n"
     ]
    },
    {
     "name": "stdout",
     "output_type": "stream",
     "text": [
      "TRAIN: Epoch [54/70], Autoencoder Loss: 0.0009, Classifier Loss: 0.8310, Accuracy: 91.5588 in 10425 input patches \n",
      "\n"
     ]
    },
    {
     "name": "stderr",
     "output_type": "stream",
     "text": [
      "VALIDATION set: 100%|██████████████████████████████████████████████████████████████████| 38/38 [00:09<00:00,  3.88it/s]\n"
     ]
    },
    {
     "name": "stdout",
     "output_type": "stream",
     "text": [
      "VALIDATION: Autoencoder Loss: 0.0011, Classifier Loss: 0.9237, Accuracy: 81.5789 in 38 input samples\n",
      "\n"
     ]
    },
    {
     "name": "stderr",
     "output_type": "stream",
     "text": [
      "TRAIN Epoch [55/70]: 100%|███████████████████████████████████████████████████████████| 139/139 [00:19<00:00,  7.26it/s]\n"
     ]
    },
    {
     "name": "stdout",
     "output_type": "stream",
     "text": [
      "TRAIN: Epoch [55/70], Autoencoder Loss: 0.0009, Classifier Loss: 0.8287, Accuracy: 92.4412 in 10425 input patches \n",
      "\n"
     ]
    },
    {
     "name": "stderr",
     "output_type": "stream",
     "text": [
      "VALIDATION set: 100%|██████████████████████████████████████████████████████████████████| 38/38 [00:09<00:00,  3.86it/s]\n"
     ]
    },
    {
     "name": "stdout",
     "output_type": "stream",
     "text": [
      "VALIDATION: Autoencoder Loss: 0.0010, Classifier Loss: 1.0138, Accuracy: 65.7895 in 38 input samples\n",
      "\n"
     ]
    },
    {
     "name": "stderr",
     "output_type": "stream",
     "text": [
      "TRAIN Epoch [56/70]: 100%|███████████████████████████████████████████████████████████| 139/139 [00:18<00:00,  7.35it/s]\n"
     ]
    },
    {
     "name": "stdout",
     "output_type": "stream",
     "text": [
      "TRAIN: Epoch [56/70], Autoencoder Loss: 0.0009, Classifier Loss: 0.8320, Accuracy: 91.2518 in 10425 input patches \n",
      "\n"
     ]
    },
    {
     "name": "stderr",
     "output_type": "stream",
     "text": [
      "VALIDATION set: 100%|██████████████████████████████████████████████████████████████████| 38/38 [00:09<00:00,  3.88it/s]\n"
     ]
    },
    {
     "name": "stdout",
     "output_type": "stream",
     "text": [
      "VALIDATION: Autoencoder Loss: 0.0010, Classifier Loss: 0.9099, Accuracy: 73.6842 in 38 input samples\n",
      "\n"
     ]
    },
    {
     "name": "stderr",
     "output_type": "stream",
     "text": [
      "TRAIN Epoch [57/70]: 100%|███████████████████████████████████████████████████████████| 139/139 [00:18<00:00,  7.34it/s]\n"
     ]
    },
    {
     "name": "stdout",
     "output_type": "stream",
     "text": [
      "TRAIN: Epoch [57/70], Autoencoder Loss: 0.0009, Classifier Loss: 0.8301, Accuracy: 92.0480 in 10425 input patches \n",
      "\n"
     ]
    },
    {
     "name": "stderr",
     "output_type": "stream",
     "text": [
      "VALIDATION set: 100%|██████████████████████████████████████████████████████████████████| 38/38 [00:09<00:00,  3.87it/s]\n"
     ]
    },
    {
     "name": "stdout",
     "output_type": "stream",
     "text": [
      "VALIDATION: Autoencoder Loss: 0.0011, Classifier Loss: 0.9927, Accuracy: 63.1579 in 38 input samples\n",
      "\n"
     ]
    },
    {
     "name": "stderr",
     "output_type": "stream",
     "text": [
      "TRAIN Epoch [58/70]: 100%|███████████████████████████████████████████████████████████| 139/139 [00:19<00:00,  7.22it/s]\n"
     ]
    },
    {
     "name": "stdout",
     "output_type": "stream",
     "text": [
      "TRAIN: Epoch [58/70], Autoencoder Loss: 0.0009, Classifier Loss: 0.8305, Accuracy: 91.7026 in 10425 input patches \n",
      "\n"
     ]
    },
    {
     "name": "stderr",
     "output_type": "stream",
     "text": [
      "VALIDATION set: 100%|██████████████████████████████████████████████████████████████████| 38/38 [00:09<00:00,  3.81it/s]\n"
     ]
    },
    {
     "name": "stdout",
     "output_type": "stream",
     "text": [
      "VALIDATION: Autoencoder Loss: 0.0018, Classifier Loss: 1.0295, Accuracy: 57.8947 in 38 input samples\n",
      "\n"
     ]
    },
    {
     "name": "stderr",
     "output_type": "stream",
     "text": [
      "TRAIN Epoch [59/70]: 100%|███████████████████████████████████████████████████████████| 139/139 [00:18<00:00,  7.35it/s]\n"
     ]
    },
    {
     "name": "stdout",
     "output_type": "stream",
     "text": [
      "TRAIN: Epoch [59/70], Autoencoder Loss: 0.0009, Classifier Loss: 0.8283, Accuracy: 92.0000 in 10425 input patches \n",
      "\n"
     ]
    },
    {
     "name": "stderr",
     "output_type": "stream",
     "text": [
      "VALIDATION set: 100%|██████████████████████████████████████████████████████████████████| 38/38 [00:09<00:00,  3.86it/s]\n"
     ]
    },
    {
     "name": "stdout",
     "output_type": "stream",
     "text": [
      "VALIDATION: Autoencoder Loss: 0.0009, Classifier Loss: 0.8596, Accuracy: 94.7368 in 38 input samples\n",
      "\n"
     ]
    },
    {
     "name": "stderr",
     "output_type": "stream",
     "text": [
      "TRAIN Epoch [60/70]: 100%|███████████████████████████████████████████████████████████| 139/139 [00:18<00:00,  7.32it/s]\n"
     ]
    },
    {
     "name": "stdout",
     "output_type": "stream",
     "text": [
      "TRAIN: Epoch [60/70], Autoencoder Loss: 0.0009, Classifier Loss: 0.8279, Accuracy: 92.2398 in 10425 input patches \n",
      "\n"
     ]
    },
    {
     "name": "stderr",
     "output_type": "stream",
     "text": [
      "VALIDATION set: 100%|██████████████████████████████████████████████████████████████████| 38/38 [00:09<00:00,  3.88it/s]\n"
     ]
    },
    {
     "name": "stdout",
     "output_type": "stream",
     "text": [
      "VALIDATION: Autoencoder Loss: 0.0009, Classifier Loss: 0.8745, Accuracy: 86.8421 in 38 input samples\n",
      "\n"
     ]
    },
    {
     "name": "stderr",
     "output_type": "stream",
     "text": [
      "TRAIN Epoch [61/70]: 100%|███████████████████████████████████████████████████████████| 139/139 [00:18<00:00,  7.37it/s]\n"
     ]
    },
    {
     "name": "stdout",
     "output_type": "stream",
     "text": [
      "TRAIN: Epoch [61/70], Autoencoder Loss: 0.0009, Classifier Loss: 0.8304, Accuracy: 91.6739 in 10425 input patches \n",
      "\n"
     ]
    },
    {
     "name": "stderr",
     "output_type": "stream",
     "text": [
      "VALIDATION set: 100%|██████████████████████████████████████████████████████████████████| 38/38 [00:09<00:00,  3.89it/s]\n"
     ]
    },
    {
     "name": "stdout",
     "output_type": "stream",
     "text": [
      "VALIDATION: Autoencoder Loss: 0.0011, Classifier Loss: 0.8987, Accuracy: 89.4737 in 38 input samples\n",
      "\n"
     ]
    },
    {
     "name": "stderr",
     "output_type": "stream",
     "text": [
      "TRAIN Epoch [62/70]: 100%|███████████████████████████████████████████████████████████| 139/139 [00:18<00:00,  7.35it/s]\n"
     ]
    },
    {
     "name": "stdout",
     "output_type": "stream",
     "text": [
      "TRAIN: Epoch [62/70], Autoencoder Loss: 0.0009, Classifier Loss: 0.8292, Accuracy: 91.9424 in 10425 input patches \n",
      "\n"
     ]
    },
    {
     "name": "stderr",
     "output_type": "stream",
     "text": [
      "VALIDATION set: 100%|██████████████████████████████████████████████████████████████████| 38/38 [00:09<00:00,  3.87it/s]\n"
     ]
    },
    {
     "name": "stdout",
     "output_type": "stream",
     "text": [
      "VALIDATION: Autoencoder Loss: 0.0011, Classifier Loss: 1.0633, Accuracy: 47.3684 in 38 input samples\n",
      "\n"
     ]
    },
    {
     "name": "stderr",
     "output_type": "stream",
     "text": [
      "TRAIN Epoch [63/70]: 100%|███████████████████████████████████████████████████████████| 139/139 [00:18<00:00,  7.34it/s]\n"
     ]
    },
    {
     "name": "stdout",
     "output_type": "stream",
     "text": [
      "TRAIN: Epoch [63/70], Autoencoder Loss: 0.0009, Classifier Loss: 0.8297, Accuracy: 91.9137 in 10425 input patches \n",
      "\n"
     ]
    },
    {
     "name": "stderr",
     "output_type": "stream",
     "text": [
      "VALIDATION set: 100%|██████████████████████████████████████████████████████████████████| 38/38 [00:09<00:00,  3.90it/s]\n"
     ]
    },
    {
     "name": "stdout",
     "output_type": "stream",
     "text": [
      "VALIDATION: Autoencoder Loss: 0.0009, Classifier Loss: 1.0049, Accuracy: 63.1579 in 38 input samples\n",
      "\n"
     ]
    },
    {
     "name": "stderr",
     "output_type": "stream",
     "text": [
      "TRAIN Epoch [64/70]: 100%|███████████████████████████████████████████████████████████| 139/139 [00:18<00:00,  7.33it/s]\n"
     ]
    },
    {
     "name": "stdout",
     "output_type": "stream",
     "text": [
      "TRAIN: Epoch [64/70], Autoencoder Loss: 0.0009, Classifier Loss: 0.8261, Accuracy: 92.4508 in 10425 input patches \n",
      "\n"
     ]
    },
    {
     "name": "stderr",
     "output_type": "stream",
     "text": [
      "VALIDATION set: 100%|██████████████████████████████████████████████████████████████████| 38/38 [00:09<00:00,  3.92it/s]\n"
     ]
    },
    {
     "name": "stdout",
     "output_type": "stream",
     "text": [
      "VALIDATION: Autoencoder Loss: 0.0012, Classifier Loss: 0.9455, Accuracy: 78.9474 in 38 input samples\n",
      "\n"
     ]
    },
    {
     "name": "stderr",
     "output_type": "stream",
     "text": [
      "TRAIN Epoch [65/70]: 100%|███████████████████████████████████████████████████████████| 139/139 [00:19<00:00,  7.22it/s]\n"
     ]
    },
    {
     "name": "stdout",
     "output_type": "stream",
     "text": [
      "TRAIN: Epoch [65/70], Autoencoder Loss: 0.0009, Classifier Loss: 0.8283, Accuracy: 91.7794 in 10425 input patches \n",
      "\n"
     ]
    },
    {
     "name": "stderr",
     "output_type": "stream",
     "text": [
      "VALIDATION set: 100%|██████████████████████████████████████████████████████████████████| 38/38 [00:09<00:00,  3.85it/s]\n"
     ]
    },
    {
     "name": "stdout",
     "output_type": "stream",
     "text": [
      "VALIDATION: Autoencoder Loss: 0.0017, Classifier Loss: 0.9987, Accuracy: 63.1579 in 38 input samples\n",
      "\n"
     ]
    },
    {
     "name": "stderr",
     "output_type": "stream",
     "text": [
      "TRAIN Epoch [66/70]: 100%|███████████████████████████████████████████████████████████| 139/139 [00:20<00:00,  6.93it/s]\n"
     ]
    },
    {
     "name": "stdout",
     "output_type": "stream",
     "text": [
      "TRAIN: Epoch [66/70], Autoencoder Loss: 0.0009, Classifier Loss: 0.8287, Accuracy: 92.0767 in 10425 input patches \n",
      "\n"
     ]
    },
    {
     "name": "stderr",
     "output_type": "stream",
     "text": [
      "VALIDATION set: 100%|██████████████████████████████████████████████████████████████████| 38/38 [00:09<00:00,  3.86it/s]\n"
     ]
    },
    {
     "name": "stdout",
     "output_type": "stream",
     "text": [
      "VALIDATION: Autoencoder Loss: 0.0009, Classifier Loss: 0.9947, Accuracy: 65.7895 in 38 input samples\n",
      "\n"
     ]
    },
    {
     "name": "stderr",
     "output_type": "stream",
     "text": [
      "TRAIN Epoch [67/70]: 100%|███████████████████████████████████████████████████████████| 139/139 [00:19<00:00,  7.27it/s]\n"
     ]
    },
    {
     "name": "stdout",
     "output_type": "stream",
     "text": [
      "TRAIN: Epoch [67/70], Autoencoder Loss: 0.0009, Classifier Loss: 0.8272, Accuracy: 92.3645 in 10425 input patches \n",
      "\n"
     ]
    },
    {
     "name": "stderr",
     "output_type": "stream",
     "text": [
      "VALIDATION set: 100%|██████████████████████████████████████████████████████████████████| 38/38 [00:09<00:00,  3.82it/s]\n"
     ]
    },
    {
     "name": "stdout",
     "output_type": "stream",
     "text": [
      "VALIDATION: Autoencoder Loss: 0.0010, Classifier Loss: 0.8831, Accuracy: 81.5789 in 38 input samples\n",
      "\n"
     ]
    },
    {
     "name": "stderr",
     "output_type": "stream",
     "text": [
      "TRAIN Epoch [68/70]: 100%|███████████████████████████████████████████████████████████| 139/139 [00:19<00:00,  7.04it/s]\n"
     ]
    },
    {
     "name": "stdout",
     "output_type": "stream",
     "text": [
      "TRAIN: Epoch [68/70], Autoencoder Loss: 0.0009, Classifier Loss: 0.8270, Accuracy: 92.3070 in 10425 input patches \n",
      "\n"
     ]
    },
    {
     "name": "stderr",
     "output_type": "stream",
     "text": [
      "VALIDATION set: 100%|██████████████████████████████████████████████████████████████████| 38/38 [00:09<00:00,  3.83it/s]\n"
     ]
    },
    {
     "name": "stdout",
     "output_type": "stream",
     "text": [
      "VALIDATION: Autoencoder Loss: 0.0010, Classifier Loss: 0.9286, Accuracy: 78.9474 in 38 input samples\n",
      "\n"
     ]
    },
    {
     "name": "stderr",
     "output_type": "stream",
     "text": [
      "TRAIN Epoch [69/70]: 100%|███████████████████████████████████████████████████████████| 139/139 [00:19<00:00,  7.16it/s]\n"
     ]
    },
    {
     "name": "stdout",
     "output_type": "stream",
     "text": [
      "TRAIN: Epoch [69/70], Autoencoder Loss: 0.0009, Classifier Loss: 0.8261, Accuracy: 92.7098 in 10425 input patches \n",
      "\n"
     ]
    },
    {
     "name": "stderr",
     "output_type": "stream",
     "text": [
      "VALIDATION set: 100%|██████████████████████████████████████████████████████████████████| 38/38 [00:09<00:00,  3.84it/s]\n"
     ]
    },
    {
     "name": "stdout",
     "output_type": "stream",
     "text": [
      "VALIDATION: Autoencoder Loss: 0.0016, Classifier Loss: 1.1399, Accuracy: 44.7368 in 38 input samples\n",
      "\n"
     ]
    },
    {
     "name": "stderr",
     "output_type": "stream",
     "text": [
      "TRAIN Epoch [70/70]: 100%|███████████████████████████████████████████████████████████| 139/139 [00:19<00:00,  7.05it/s]\n"
     ]
    },
    {
     "name": "stdout",
     "output_type": "stream",
     "text": [
      "TRAIN: Epoch [70/70], Autoencoder Loss: 0.0009, Classifier Loss: 0.8282, Accuracy: 92.0576 in 10425 input patches \n",
      "\n"
     ]
    },
    {
     "name": "stderr",
     "output_type": "stream",
     "text": [
      "VALIDATION set: 100%|██████████████████████████████████████████████████████████████████| 38/38 [00:09<00:00,  3.84it/s]"
     ]
    },
    {
     "name": "stdout",
     "output_type": "stream",
     "text": [
      "VALIDATION: Autoencoder Loss: 0.0009, Classifier Loss: 0.8925, Accuracy: 84.2105 in 38 input samples\n",
      "\n"
     ]
    },
    {
     "name": "stderr",
     "output_type": "stream",
     "text": [
      "\n"
     ]
    }
   ],
   "source": [
    "#training or loading the results of a pre-trained model\n",
    "if(not LOAD_MODEL):\n",
    "    \n",
    "    results = train(train_dataloader,val_dataset) \n",
    "    np.save(os.path.join(models_dir,\"results.npy\"),results)\n",
    "    \n",
    "else: \n",
    "    results = np.load(os.path.join(models_dir,\"results.npy\"),allow_pickle=True)"
   ]
  },
  {
   "cell_type": "code",
   "execution_count": 248,
   "id": "96c6b347",
   "metadata": {},
   "outputs": [],
   "source": [
    "#always load the best model after the training\n",
    "autoencoder =  Autoencoder().to(device)\n",
    "autoencoder.load_state_dict(torch.load(os.path.join(models_dir,\"best_ae.pt\")))\n",
    "autoencoder.eval();"
   ]
  },
  {
   "cell_type": "markdown",
   "id": "f377ae02",
   "metadata": {},
   "source": [
    "### Plot of the losses and accuracy"
   ]
  },
  {
   "cell_type": "code",
   "execution_count": 249,
   "id": "693a5763",
   "metadata": {},
   "outputs": [],
   "source": [
    "#train\n",
    "train_ae = results[0][0] #mse\n",
    "train_c = results[0][1] #cross entropy\n",
    "train_acc = results[0][2] #accuracy\n",
    "\n",
    "#validation\n",
    "val_ae = results[1][0] #mse\n",
    "val_c = results[1][1] #cross entropy\n",
    "val_acc = results[1][2] #accuracy\n",
    "\n",
    "#best epoch number\n",
    "best_epoch = results[2]"
   ]
  },
  {
   "cell_type": "code",
   "execution_count": 250,
   "id": "adc51dc5",
   "metadata": {},
   "outputs": [
    {
     "data": {
      "image/png": "[encoded data removed]",
      "text/plain": [
       "<Figure size 1000x1000 with 1 Axes>"
      ]
     },
     "metadata": {},
     "output_type": "display_data"
    }
   ],
   "source": [
    "#generating the batch indexes\n",
    "batchID = np.array([i+1 for i in range(len(train_ae))])\n",
    "\n",
    "plt.figure(figsize=(10,10))\n",
    "\n",
    "#plotting the losses\n",
    "plt.plot(batchID,train_ae,label = \"Training loss autoencoder\")\n",
    "plt.plot(batchID,val_ae, label = \"Validation loss autoencoder\")\n",
    "plt.xlabel(\"Epoch\")\n",
    "plt.ylabel(\"MSE\")\n",
    "\n",
    "#showing the position of the best values\n",
    "plt.axvline(x = best_epoch, color = 'b', label = \"Max validation accuracy\")\n",
    "\n",
    "#adding the position of the best values in the x axis\n",
    "ticks = list(plt.xticks()[0]) \n",
    "ticks.extend([best_epoch])\n",
    "\n",
    "#limit the plot x-values\n",
    "plt.xticks(ticks)\n",
    "\n",
    "plt.xlim(0,batchID.max()+1)\n",
    "\n",
    "plt.legend()\n",
    "\n",
    "#saving the figure\n",
    "#plt.savefig(\"training-val_mse\")\n",
    "plt.show()"
   ]
  },
  {
   "cell_type": "code",
   "execution_count": 251,
   "id": "a6f27214",
   "metadata": {},
   "outputs": [
    {
     "data": {
      "image/png": "[encoded data removed]",
      "text/plain": [
       "<Figure size 1000x1000 with 1 Axes>"
      ]
     },
     "metadata": {},
     "output_type": "display_data"
    }
   ],
   "source": [
    "plt.figure(figsize=(10,10))\n",
    "\n",
    "#plotting the losses\n",
    "plt.plot(batchID,train_c,label = \"Training loss classifier\")\n",
    "plt.plot(batchID,val_c, label = \"Validation loss classifier\")\n",
    "plt.xlabel(\"Epoch\")\n",
    "plt.ylabel(\"Cross entropy\")\n",
    "\n",
    "#showing the position of the best values\n",
    "plt.axvline(x = best_epoch, color = 'b', label = \"Max validation accuracy\")\n",
    "\n",
    "#adding the position of the best values in the x axis\n",
    "ticks = list(plt.xticks()[0]) \n",
    "ticks.extend([best_epoch])\n",
    "plt.xticks(ticks)\n",
    "\n",
    "#limit the plot x-values\n",
    "plt.xlim(0,batchID.max()+1)\n",
    "\n",
    "plt.legend()\n",
    "\n",
    "#saving the figure\n",
    "#plt.savefig(\"train-val_ce\")\n",
    "plt.show()"
   ]
  },
  {
   "cell_type": "code",
   "execution_count": 252,
   "id": "eafa0ce4",
   "metadata": {},
   "outputs": [
    {
     "name": "stdout",
     "output_type": "stream",
     "text": [
      "70 70\n"
     ]
    },
    {
     "data": {
      "image/png": "[encoded data removed]",
      "text/plain": [
       "<Figure size 1000x1000 with 1 Axes>"
      ]
     },
     "metadata": {},
     "output_type": "display_data"
    }
   ],
   "source": [
    "plt.figure(figsize=(10,10))\n",
    "\n",
    "print(len(batchID),len(train_c+50*np.ones(len(batchID))*train_ae))\n",
    "\n",
    "#plotting the losses\n",
    "plt.plot(batchID,train_c+50*np.ones(len(batchID))*train_ae,label = \"Training total loss\")\n",
    "plt.plot(batchID,val_c+50*np.ones(len(batchID))*val_ae, label = \"Validation total loss\")\n",
    "plt.xlabel(\"Epoch\")\n",
    "plt.ylabel(\"Cross entropy + 50xMSE\")\n",
    "\n",
    "#showing the position of the best values\n",
    "plt.axvline(x = best_epoch, color = 'b', label = \"Max validation accuracy\")\n",
    "\n",
    "#adding the position of the best values in the x axis\n",
    "ticks = list(plt.xticks()[0]) \n",
    "ticks.extend([best_epoch])\n",
    "plt.xticks(ticks)\n",
    "\n",
    "#limit the plot x-values\n",
    "plt.xlim(0,batchID.max()+1)\n",
    "\n",
    "plt.legend()\n",
    "\n",
    "#saving the figure\n",
    "#plt.savefig(\"train-val_totalloss\")\n",
    "plt.show()"
   ]
  },
  {
   "cell_type": "code",
   "execution_count": 253,
   "id": "45b1ed40",
   "metadata": {},
   "outputs": [
    {
     "data": {
      "image/png": "[encoded data removed]",
      "text/plain": [
       "<Figure size 1000x1000 with 1 Axes>"
      ]
     },
     "metadata": {},
     "output_type": "display_data"
    }
   ],
   "source": [
    "plt.figure(figsize=(10,10))\n",
    "\n",
    "#plotting the accuracy\n",
    "plt.plot(batchID,train_acc,label = \"Training accuracy\")\n",
    "plt.plot(batchID,val_acc, label = \"Validation accuracy\")\n",
    "plt.xlabel(\"Epoch\")\n",
    "plt.ylabel(\"Accuracy\")\n",
    "\n",
    "#showing the position of the best values\n",
    "plt.axvline(x = best_epoch, color = 'b', label = \"Max validation accuracy\")\n",
    "\n",
    "#adding the position of the best values in the x axis\n",
    "ticks = list(plt.xticks()[0]) \n",
    "ticks.extend([best_epoch])\n",
    "plt.xticks(ticks)\n",
    "\n",
    "#limit the plot x-values\n",
    "plt.xlim(0,batchID.max()+1)\n",
    "\n",
    "plt.legend()\n",
    "\n",
    "#saving the figure\n",
    "#plt.savefig(\"train-val_accuracy\")\n",
    "plt.show()"
   ]
  },
  {
   "cell_type": "markdown",
   "id": "44dcbf59",
   "metadata": {},
   "source": [
    "### Test"
   ]
  },
  {
   "cell_type": "markdown",
   "id": "17494b39",
   "metadata": {},
   "source": [
    "Notice that the value of the losses and the accuracy for the train set are computed during the training, so they are not very accurate."
   ]
  },
  {
   "cell_type": "code",
   "execution_count": 254,
   "id": "d01c5ff7",
   "metadata": {},
   "outputs": [],
   "source": [
    "def print_confusion_matrix_pandas(labels,predictions,title,save_img = False):\n",
    "    \n",
    "    # Get the confusion matrix using sklearn.\n",
    "    cm = confusion_matrix(y_true=labels, y_pred=predictions)\n",
    "    # Plot the confusion matrix as an image.\n",
    "    class_names = name_to_id.keys()\n",
    "    df_cm = pd.DataFrame(cm, index = class_names, columns = class_names)\n",
    "    plt.figure(figsize = (15,10))\n",
    "    sn.heatmap(df_cm, annot=True, cmap='Blues')\n",
    "    #plt.axis([-0.5, 13.5, 13.5, -0.5])\n",
    "    plt.title(title,fontsize=20)\n",
    "    plt.xlabel('Predicted')\n",
    "    plt.ylabel('True')\n",
    "    \n",
    "    # Ensure the plot is shown correctly with multiple plots\n",
    "    # in a single Notebook cell.\n",
    "    if save_img:\n",
    "        plt.savefig(\"./\"+title+\".png\")\n",
    "    plt.show()"
   ]
  },
  {
   "cell_type": "code",
   "execution_count": 255,
   "id": "3a4bfdd8",
   "metadata": {},
   "outputs": [],
   "source": [
    "train_dir = os.path.join(data_dir,\"train\",\"images\")#images\n",
    "train_dir_patches = os.path.join(data_dir,\"train\",\"images_patch\")#patches\n",
    "train_labels_dir = os.path.join(data_dir,\"train\",\"labels\",\"train.json\")\n",
    "with open(train_labels_dir) as f:\n",
    "    train_labels = json.load(f)#labels\n",
    "\n",
    "train_dataset = HDAdatasetPatches(train_dir,train_dir_patches,train_labels,train = False,\n",
    "                          grayscale=grayscale,fft=fft)"
   ]
  },
  {
   "cell_type": "code",
   "execution_count": 256,
   "id": "641cfb21",
   "metadata": {},
   "outputs": [
    {
     "name": "stderr",
     "output_type": "stream",
     "text": [
      "TRAIN set: 100%|█████████████████████████████████████████████████████████████████████| 261/261 [01:10<00:00,  3.70it/s]\n"
     ]
    },
    {
     "name": "stdout",
     "output_type": "stream",
     "text": [
      "TRAIN: Autoencoder Loss: 0.0008, Classifier Loss: 0.8486, Accuracy: 94.6360 in 261 input samples\n",
      "\n"
     ]
    },
    {
     "name": "stderr",
     "output_type": "stream",
     "text": [
      "VALIDATION set: 100%|██████████████████████████████████████████████████████████████████| 38/38 [00:09<00:00,  3.90it/s]\n"
     ]
    },
    {
     "name": "stdout",
     "output_type": "stream",
     "text": [
      "VALIDATION: Autoencoder Loss: 0.0008, Classifier Loss: 0.8526, Accuracy: 97.3684 in 38 input samples\n",
      "\n"
     ]
    },
    {
     "name": "stderr",
     "output_type": "stream",
     "text": [
      "TEST set: 100%|████████████████████████████████████████████████████████████████████████| 75/75 [00:19<00:00,  3.89it/s]"
     ]
    },
    {
     "name": "stdout",
     "output_type": "stream",
     "text": [
      "TEST: Autoencoder Loss: 0.0008, Classifier Loss: 0.8680, Accuracy: 90.6667 in 75 input samples\n",
      "\n"
     ]
    },
    {
     "name": "stderr",
     "output_type": "stream",
     "text": [
      "\n"
     ]
    }
   ],
   "source": [
    "_,_,_,real_train,pred_train = test(train_dataset,\"TRAIN\")\n",
    "_,_,_,real_val,pred_val = test(val_dataset,\"VALIDATION\")\n",
    "_,_,_,real_test,pred_test = test(test_dataset,\"TEST\");"
   ]
  },
  {
   "cell_type": "code",
   "execution_count": 257,
   "id": "e962ac6b",
   "metadata": {
    "scrolled": false
   },
   "outputs": [
    {
     "data": {
      "image/png": "[encoded data removed]",
      "text/plain": [
       "<Figure size 1500x1000 with 2 Axes>"
      ]
     },
     "metadata": {},
     "output_type": "display_data"
    },
    {
     "data": {
      "image/png": "[encoded data removed]",
      "text/plain": [
       "<Figure size 1500x1000 with 2 Axes>"
      ]
     },
     "metadata": {},
     "output_type": "display_data"
    },
    {
     "data": {
      "image/png": "[encoded data removed]",
      "text/plain": [
       "<Figure size 1500x1000 with 2 Axes>"
      ]
     },
     "metadata": {},
     "output_type": "display_data"
    }
   ],
   "source": [
    "print_confusion_matrix_pandas(real_train,pred_train,\"Train set\",save_img = False)\n",
    "print_confusion_matrix_pandas(real_val,pred_val,\"Validation set\",save_img = False)\n",
    "print_confusion_matrix_pandas(real_test,pred_test,\"Test set\",save_img = False)"
   ]
  },
  {
   "cell_type": "code",
   "execution_count": null,
   "id": "8db46061",
   "metadata": {},
   "outputs": [],
   "source": []
  }
 ],
 "metadata": {
  "kernelspec": {
   "display_name": "Python 3 (ipykernel)",
   "language": "python",
   "name": "python3"
  },
  "language_info": {
   "codemirror_mode": {
    "name": "ipython",
    "version": 3
   },
   "file_extension": ".py",
   "mimetype": "text/x-python",
   "name": "python",
   "nbconvert_exporter": "python",
   "pygments_lexer": "ipython3",
   "version": "3.9.13"
  }
 },
 "nbformat": 4,
 "nbformat_minor": 5
}
