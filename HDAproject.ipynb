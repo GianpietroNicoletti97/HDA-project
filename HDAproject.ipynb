{
 "cells": [
  {
   "cell_type": "markdown",
   "id": "b37b31e6",
   "metadata": {},
   "source": [
    "## Initial configuration"
   ]
  },
  {
   "cell_type": "code",
   "execution_count": 1,
   "id": "41ab6c4f",
   "metadata": {},
   "outputs": [],
   "source": [
    "import numpy as np\n",
    "import os\n",
    "from sklearn.model_selection import train_test_split\n",
    "import cv2\n",
    "import gc\n",
    "from tqdm import tqdm,trange\n",
    "\n",
    "import torch\n",
    "from torchsummary import summary\n",
    "from PIL import Image\n",
    "from torch.utils.data import Dataset, DataLoader\n",
    "\n",
    "import torch.nn as nn\n",
    "import torchvision.transforms as transforms\n",
    "from torch.utils.data import DataLoader\n",
    "from torch.autograd import Variable\n",
    "import torch.optim as optim\n",
    "import matplotlib.pyplot as plt\n",
    "\n",
    "import urllib.request\n",
    "import zipfile\n",
    "import json"
   ]
  },
  {
   "cell_type": "code",
   "execution_count": 2,
   "id": "329a92cb",
   "metadata": {},
   "outputs": [],
   "source": [
    "#Usefull for better outputs visualization\n",
    "PURPLE = \"\\033[95m\"\n",
    "CYAN = \"\\033[96m\"\n",
    "DARKCYAN = \"\\033[36m\"\n",
    "BLUE = \"\\033[94m\"\n",
    "GREEN = \"\\033[92m\"\n",
    "YELLOW = \"\\033[93m\"\n",
    "RED = \"\\033[91m\"\n",
    "BOLD = \"\\033[1m\"\n",
    "UNDERLINE = \"\\033[4m\"\n",
    "END = \"\\033[0m\""
   ]
  },
  {
   "cell_type": "markdown",
   "id": "7564cc00",
   "metadata": {},
   "source": [
    "### Project settings"
   ]
  },
  {
   "cell_type": "code",
   "execution_count": 3,
   "id": "8b42f643",
   "metadata": {},
   "outputs": [],
   "source": [
    "data_dir_unsplitted = \"dataset/unsplitted\"\n",
    "save_dir_splitted = \"dataset/splitted\"\n",
    "data_dir = \"dataset/splitted\"\n",
    "models_dir =\"model/\"\n",
    "\n",
    "learning_rate_e = 0.00001\n",
    "learning_rate_d = 0.00001\n",
    "#learning_rate_c = 0.00001\n",
    "num_epochs = 50\n",
    "\n",
    "ALREADY_SPLITTED = True\n",
    "\n",
    "#to be implemented:\n",
    "\n",
    "LOAD_DATASET = True #if true \"ALREADY_SPLITTED\" is ignored\n",
    "DATASET_ALREADY_DOWNLOADED = True \n",
    "\n",
    "LOAD_MODEL = False \n",
    "MODEL_ALREADY_DOWNLOADED = True "
   ]
  },
  {
   "cell_type": "markdown",
   "id": "c4b6f851",
   "metadata": {},
   "source": [
    "## Dataset preparation"
   ]
  },
  {
   "cell_type": "markdown",
   "id": "07b1385d",
   "metadata": {},
   "source": [
    "### Dataset splitting and data augmentation"
   ]
  },
  {
   "cell_type": "code",
   "execution_count": 4,
   "id": "a30151b8",
   "metadata": {},
   "outputs": [],
   "source": [
    "classes = [\"CLL\", \"FL\", \"MCL\"]\n",
    "id_to_name = {0:\"CLL\",1:\"FL\",2:\"MCL\"}\n",
    "\n",
    "if(not ALREADY_SPLITTED or not LOAD_DATASET):\n",
    "    data = []\n",
    "    labels = []\n",
    "    for i, cl in enumerate(classes):\n",
    "        path = os.path.join(data_dir_unsplitted, cl)\n",
    "        images = os.listdir(path)\n",
    "        for img in tqdm(images,desc=cl):\n",
    "            img_path = os.path.join(path, img)\n",
    "            img = cv2.imread(img_path).astype(np.uint8)\n",
    "\n",
    "#             #DATA AUGMENTATION\n",
    "\n",
    "#             #flipping the image\n",
    "#             flipped_img = np.fliplr(img)\n",
    "#             #gaussian noise\n",
    "#             noise = np.random.normal(0, 5, img.shape).astype(np.uint8)\n",
    "#             noisy_img = img + noise\n",
    "\n",
    "#             #adding the data and the labels to the lists\n",
    "#             data.append(flipped_img)\n",
    "#             labels.append(i)\n",
    "#             data.append(noisy_img)\n",
    "#             labels.append(i)\n",
    "            data.append(img)\n",
    "            labels.append(i) \n",
    "\n",
    "\n",
    "    data = np.array(data)\n",
    "    labels = np.array(labels)\n",
    "\n",
    "\n",
    "    train_data, test_data, train_labels, test_labels = train_test_split(data, labels, test_size=0.2, random_state=42)\n",
    "\n",
    "\n",
    "    train_data, val_data, train_labels, val_labels = train_test_split(train_data, train_labels, test_size=0.125, random_state=42)\n",
    "\n",
    "    print(\"Train samples:\", len(train_data))\n",
    "    print(\"Test samples:\", len(test_data))\n",
    "    print(\"Validation samples:\", len(val_data))"
   ]
  },
  {
   "cell_type": "markdown",
   "id": "2e17f646",
   "metadata": {},
   "source": [
    "### Saving the splitted dataset"
   ]
  },
  {
   "cell_type": "code",
   "execution_count": 5,
   "id": "fd4d2b3e",
   "metadata": {},
   "outputs": [],
   "source": [
    "#SAVING THE DATASET\n",
    "if(not ALREADY_SPLITTED or not LOAD_DATASET):\n",
    "    #TRAIN\n",
    "    os.makedirs(os.path.join(save_dir_splitted,\"train\",\"images\"),exist_ok=True)\n",
    "    os.makedirs(os.path.join(save_dir_splitted,\"train\",\"labels\"),exist_ok=True)\n",
    "\n",
    "     \n",
    "    labels_train_augmented={}\n",
    "    for i, image in enumerate(tqdm(train_data,desc = \"Train\")):                       #images\n",
    "        file_name = str(i)+\"_train\"+\".png\"\n",
    "        path = os.path.join(save_dir_splitted,\"train\",\"images\",file_name)\n",
    "        labels_train_augmented[file_name] = int(train_labels[i])\n",
    "        cv2.imwrite(path,image.astype(np.float64))\n",
    "        \n",
    "        #flipping\n",
    "        flipped_img = np.fliplr(image)\n",
    "        file_name = str(i)+\"_flippend_train\"+\".png\"\n",
    "        path = os.path.join(save_dir_splitted,\"train\",\"images\",file_name)\n",
    "        labels_train_augmented[file_name] = int(train_labels[i])\n",
    "        cv2.imwrite(path,flipped_img.astype(np.float64))\n",
    "        \n",
    "        #gaussian noise\n",
    "        noise = np.random.normal(0, 5, img.shape).astype(np.uint8)\n",
    "        noisy_image = image.astype(np.uint8) + noise\n",
    "        file_name = str(i)+\"_noisy_train\"+\".png\"\n",
    "        path = os.path.join(save_dir_splitted,\"train\",\"images\",file_name)\n",
    "        labels_train_augmented[file_name] = int(train_labels[i])\n",
    "        cv2.imwrite(path,noisy_image.astype(np.float64))\n",
    "    \n",
    "    with open(os.path.join(save_dir_splitted,\"train\",\"labels\",\"train.json\"), 'w') as f:\n",
    "        json.dump(labels_train_augmented, f)#labels\n",
    "\n",
    "    #TEST\n",
    "    os.makedirs(os.path.join(save_dir_splitted,\"test\",\"images\"),exist_ok=True)\n",
    "    os.makedirs(os.path.join(save_dir_splitted,\"test\",\"labels\"),exist_ok=True)\n",
    "\n",
    "    \n",
    "    \n",
    "    test_labels_dict = {}\n",
    "    for i, image in enumerate(tqdm(test_data,desc = \"Test\")):                      #images\n",
    "        file_name = str(i)+\"_test\"+\".png\"\n",
    "        path = os.path.join(save_dir_splitted,\"test\",\"images\",file_name)\n",
    "        cv2.imwrite(path,image.astype(np.float64))\n",
    "        test_labels_dict[file_name] = int(test_labels[i]) \n",
    "\n",
    "    with open(os.path.join(save_dir_splitted,\"test\",\"labels\",\"test.json\"), 'w') as f:\n",
    "        json.dump(test_labels_dict, f)#labels\n",
    "        \n",
    "    #VALIDATION\n",
    "    os.makedirs(os.path.join(save_dir_splitted,\"val\",\"images\"),exist_ok=True)\n",
    "    os.makedirs(os.path.join(save_dir_splitted,\"val\",\"labels\"),exist_ok=True)\n",
    "\n",
    "    \n",
    "    \n",
    "    val_labels_dict = {}\n",
    "    for i, image in enumerate(tqdm(val_data,desc = \"Validation\")):               #images\n",
    "        file_name = str(i)+\"_val\"+\".png\"\n",
    "        path = os.path.join(save_dir_splitted,\"val\",\"images\",file_name)\n",
    "        cv2.imwrite(path,image.astype(np.float64))\n",
    "        val_labels_dict[file_name] = int(val_labels[i])\n",
    "        \n",
    "    with open(os.path.join(save_dir_splitted,\"val\",\"labels\",\"val.json\"), 'w') as f:\n",
    "        json.dump(val_labels_dict, f)#labels"
   ]
  },
  {
   "cell_type": "markdown",
   "id": "ab21346c",
   "metadata": {},
   "source": [
    "### Dataloaders definition"
   ]
  },
  {
   "cell_type": "markdown",
   "id": "a6a1b860",
   "metadata": {},
   "source": [
    "Notice that the labels are saved into a numpy array, while the images are read directly from the folder"
   ]
  },
  {
   "cell_type": "code",
   "execution_count": 6,
   "id": "9cb6438f",
   "metadata": {},
   "outputs": [],
   "source": [
    "class HDAdataset(Dataset):\n",
    "    def __init__(self, root_dir, labels, train = False, transform=None):\n",
    "        self.root_dir = root_dir\n",
    "        self.labels = labels\n",
    "        self.transform = transform\n",
    "        self.train = train\n",
    "\n",
    "    def __len__(self):\n",
    "        return len(os.listdir(self.root_dir))\n",
    "\n",
    "    def __getitem__(self, idx):\n",
    "        img_name = os.listdir(self.root_dir)[idx]\n",
    "        img_path = os.path.join(self.root_dir, img_name)\n",
    "\n",
    "        image = Image.open(img_path)\n",
    "        image = np.asarray(image).astype(np.uint8)\n",
    "        \n",
    "        if self.train:\n",
    "            image = image + np.random.normal(0, 2, image.shape).astype(np.uint8)\n",
    "        \n",
    "        #labels smoothing\n",
    "        label = 0.1*np.ones(3)\n",
    "        label[self.labels[img_name]] = 0.9\n",
    "        \n",
    "        if self.transform:\n",
    "            image = self.transform((image/255.).astype(np.float32))\n",
    "\n",
    "        return image, label"
   ]
  },
  {
   "cell_type": "code",
   "execution_count": 7,
   "id": "26887536",
   "metadata": {},
   "outputs": [],
   "source": [
    "if(LOAD_DATASET and not DATASET_ALREADY_DOWNLOADED):\n",
    "    print(\"download the dataset\")\n",
    "    urllib.request.urlretrieve(\"\", \"dataset.zip\")\n",
    "    with zipfile.ZipFile(\"dataset.zip\", 'r') as zip_ref:\n",
    "        zip_ref.extractall(\"./dataset/\")\n",
    "\n",
    "\n",
    "#convert to tensor each image\n",
    "transform = transforms.Compose([transforms.ToTensor()])    \n",
    "\n",
    "#TRAIN DATASET AND DATALOADER\n",
    "train_dir = os.path.join(data_dir,\"train\",\"images\")#images\n",
    "train_labels_dir = os.path.join(data_dir,\"train\",\"labels\",\"train.json\")\n",
    "with open(train_labels_dir) as f:\n",
    "    train_labels = json.load(f)#labels\n",
    "\n",
    "train_dataset = HDAdataset(train_dir,train_labels,train = False, transform=transform)\n",
    "train_dataloader = DataLoader(train_dataset, batch_size=10, shuffle=True,drop_last=True)\n",
    "\n",
    "#TEST DATASET AND DATALOADER\n",
    "test_dir = os.path.join(data_dir,\"test\",\"images\")#images\n",
    "test_labels_dir = os.path.join(data_dir,\"test\",\"labels\",\"test.json\")\n",
    "with open(test_labels_dir) as f:\n",
    "    test_labels = json.load(f)#labels\n",
    "\n",
    "test_dataset = HDAdataset(test_dir,test_labels,train = False,transform=transform)\n",
    "test_dataloader = DataLoader(test_dataset, batch_size=5, shuffle=False)\n",
    "\n",
    "#VALIDATION DATASET AND DATALOADER\n",
    "val_dir = os.path.join(data_dir,\"val\",\"images\")#images\n",
    "\n",
    "val_labels_dir = os.path.join(data_dir,\"val\",\"labels\",\"val.json\")\n",
    "with open(val_labels_dir) as f:\n",
    "    val_labels = json.load(f)#labels\n",
    "\n",
    "val_dataset = HDAdataset(val_dir,val_labels,train = False,transform=transform)\n",
    "val_dataloader = DataLoader(val_dataset, batch_size=5, shuffle=False)"
   ]
  },
  {
   "cell_type": "markdown",
   "id": "6ae5599d",
   "metadata": {},
   "source": [
    "## Neural network"
   ]
  },
  {
   "cell_type": "code",
   "execution_count": 8,
   "id": "915f464f",
   "metadata": {},
   "outputs": [
    {
     "data": {
      "text/plain": [
       "0"
      ]
     },
     "execution_count": 8,
     "metadata": {},
     "output_type": "execute_result"
    }
   ],
   "source": [
    "torch.cuda.empty_cache()\n",
    "gc.collect()"
   ]
  },
  {
   "cell_type": "markdown",
   "id": "a684cf15",
   "metadata": {},
   "source": [
    "### Models definition"
   ]
  },
  {
   "cell_type": "code",
   "execution_count": 9,
   "id": "f54470d5",
   "metadata": {},
   "outputs": [],
   "source": [
    "class Encoder(nn.Module):\n",
    "    def __init__(self):\n",
    "        super(Encoder, self).__init__()\n",
    "        \n",
    "        self.encoder = nn.Sequential(\n",
    "            nn.Conv2d(in_channels=3, out_channels=6, kernel_size=(3,3), stride=(1,1), padding=(1,1)),\n",
    "            nn.MaxPool2d(2),\n",
    "            nn.BatchNorm2d(6),\n",
    "            nn.LeakyReLU(),\n",
    "            nn.Dropout(p=0.4),\n",
    "            nn.Conv2d(in_channels=6, out_channels=9, kernel_size=(3,3), stride=(3,3), padding=(1,1)),\n",
    "            nn.MaxPool2d(2),\n",
    "            nn.BatchNorm2d(9),\n",
    "            nn.LeakyReLU(),\n",
    "            nn.Dropout(p=0.4),\n",
    "            nn.Conv2d(in_channels=9, out_channels=12, kernel_size=(3,3), stride=(3,3), padding=(1,1)),\n",
    "            nn.MaxPool2d(2),\n",
    "            nn.BatchNorm2d(12),\n",
    "            nn.LeakyReLU(),\n",
    "            nn.Flatten(),\n",
    "            nn.LeakyReLU(),\n",
    "            nn.Dropout(p=0.4),\n",
    "            nn.Linear(3192,10),\n",
    "            nn.BatchNorm1d(10),\n",
    "            nn.LeakyReLU(),\n",
    "            nn.Dropout(p=0.4),\n",
    "            nn.Linear(10,3)\n",
    "        )\n",
    "        \n",
    "        self.classification = nn.Sequential(nn.Softmax(dim=1))\n",
    "\n",
    "    def forward(self, x):\n",
    "        x = self.encoder(x)\n",
    "        return x, self.classification(x)\n",
    "    \n",
    "class Decoder(nn.Module):\n",
    "    def __init__(self):\n",
    "        super(Decoder, self).__init__()\n",
    "        \n",
    "        self.decoder = nn.Sequential(\n",
    "            nn.Linear(3,10),\n",
    "            nn.Dropout(p=0.4),\n",
    "            nn.Linear(10,3192),\n",
    "            nn.BatchNorm1d(3192),\n",
    "            nn.LeakyReLU(),\n",
    "            nn.Dropout(p=0.4),\n",
    "            nn.Unflatten(-1, (12,14,19)),\n",
    "            nn.Upsample(size=(29, 39), mode='nearest'),\n",
    "            nn.ConvTranspose2d(in_channels=12, out_channels=9, kernel_size=(3,3), stride=(3,3), padding=(1,1)),\n",
    "            nn.BatchNorm2d(9),\n",
    "            nn.LeakyReLU(),\n",
    "            nn.Dropout(p=0.4),\n",
    "            nn.Upsample(size=(174, 232), mode='nearest'),\n",
    "            nn.ConvTranspose2d(in_channels=9, out_channels=6, kernel_size=(3,3), stride=(3,3), padding=(1,1)),\n",
    "            nn.BatchNorm2d(6),\n",
    "            nn.LeakyReLU(),\n",
    "            nn.Upsample(size=(1040, 1388), mode='nearest'),\n",
    "            nn.ConvTranspose2d(in_channels=6, out_channels=3, kernel_size=(3,3), stride=(1,1), padding=(1,1),dilation=1,output_padding=(0,0)),\n",
    "            nn.Sigmoid()\n",
    "        )\n",
    "    def forward(self, x):\n",
    "        x = self.decoder(x)\n",
    "        \n",
    "        return x"
   ]
  },
  {
   "cell_type": "code",
   "execution_count": 10,
   "id": "f2c567e1",
   "metadata": {},
   "outputs": [
    {
     "name": "stdout",
     "output_type": "stream",
     "text": [
      "\u001b[1mYou are working on: \u001b[0mcuda\n"
     ]
    }
   ],
   "source": [
    "device = torch.device(\"cuda\" if torch.cuda.is_available() else \"cpu\")\n",
    "print(BOLD+\"You are working on: \"+END+str(device))"
   ]
  },
  {
   "cell_type": "markdown",
   "id": "689f5a37",
   "metadata": {},
   "source": [
    "### Loading of the models"
   ]
  },
  {
   "cell_type": "code",
   "execution_count": 11,
   "id": "9139a620",
   "metadata": {},
   "outputs": [],
   "source": [
    "if(LOAD_MODEL and not MODEL_ALREADY_DOWNLOADED):\n",
    "    print(\"download the model\")"
   ]
  },
  {
   "cell_type": "code",
   "execution_count": 12,
   "id": "c6460ebe",
   "metadata": {},
   "outputs": [],
   "source": [
    "if(not LOAD_MODEL):\n",
    "    encoder = Encoder().to(device)\n",
    "    decoder = Decoder().to(device)\n",
    "    #classifier = Classifier().to(device)\n",
    "    \n",
    "else:\n",
    "    print(\"load the models from the folder\")"
   ]
  },
  {
   "cell_type": "code",
   "execution_count": 13,
   "id": "08164ee3",
   "metadata": {},
   "outputs": [],
   "source": [
    "# inp = np.random.uniform(0,2,(3,3)).astype(np.float32)"
   ]
  },
  {
   "cell_type": "code",
   "execution_count": 14,
   "id": "34754da9",
   "metadata": {},
   "outputs": [],
   "source": [
    "# out = decoder(torch.tensor(inp).to(device))\n",
    "# out.shape"
   ]
  },
  {
   "cell_type": "code",
   "execution_count": 15,
   "id": "d1214cf5",
   "metadata": {},
   "outputs": [],
   "source": [
    "# summary(encoder, (3, 1040, 1388),batch_size=3)\n",
    "# summary(decoder, (3,3),batch_size=3)"
   ]
  },
  {
   "cell_type": "markdown",
   "id": "931580de",
   "metadata": {},
   "source": [
    "### Training "
   ]
  },
  {
   "cell_type": "code",
   "execution_count": 16,
   "id": "9b91a23a",
   "metadata": {},
   "outputs": [],
   "source": [
    "def test(dataloader,name):\n",
    "    \n",
    "    losses_ae = []\n",
    "    losses_c = []\n",
    "    count_correct = 0\n",
    "    count_input = 0\n",
    "\n",
    "    encoder.eval()\n",
    "    decoder.eval()\n",
    "    #classifier.eval()\n",
    "    for data in tqdm(dataloader,desc = name +\" set\"):\n",
    "\n",
    "        img, labels = data\n",
    "        img = img.to(device)\n",
    "        labels = labels.to(device)\n",
    "\n",
    "\n",
    "        compressed_img,pred_labels = encoder(img)\n",
    "        rec_img = decoder(compressed_img)\n",
    "        #pred_labels = classifier(compressed_img)\n",
    "\n",
    "        classifier_loss = criterion_classifier(pred_labels, labels)\n",
    "        ae_loss= criterion_ae(img,rec_img)\n",
    "\n",
    "\n",
    "        losses_ae.append(ae_loss.detach().cpu().numpy())\n",
    "        losses_c.append(classifier_loss.detach().cpu().numpy())\n",
    "\n",
    "        count_input+=pred_labels.detach().cpu().numpy().shape[0]\n",
    "        count_correct+=np.sum((labels.to(\"cpu\").detach().numpy().argmax(axis=1)==pred_labels.to(\"cpu\").detach().numpy().argmax(axis=1)))\n",
    "        del img\n",
    "        del labels\n",
    "        torch.cuda.empty_cache()\n",
    "        gc.collect();\n",
    "\n",
    "    # Print loss at end of each epoch\n",
    "    accuracy= (count_correct/count_input)*100.\n",
    "    print(name,' Autoencoder Loss: %.4f, Classifier Loss: %.4f, Accuracy: %.4f in %d input samples\\n'\n",
    "      % (np.mean(losses_ae), np.mean(losses_c),accuracy,count_input))\n",
    "    \n",
    "    return np.mean(losses_ae),np.mean(losses_c),accuracy"
   ]
  },
  {
   "cell_type": "code",
   "execution_count": 17,
   "id": "17514270",
   "metadata": {},
   "outputs": [],
   "source": [
    "criterion_classifier = nn.CrossEntropyLoss()\n",
    "criterion_ae = nn.MSELoss()\n",
    "\n",
    "def train(train_dataloader,val_dataloader):\n",
    "    optimizer_e = optim.Adam(encoder.parameters(), lr=learning_rate_e,weight_decay=1e-2)\n",
    "    optimizer_d = optim.Adam(decoder.parameters(), lr=learning_rate_d,weight_decay=1e-2)\n",
    "    #optimizer_c = optim.Adam(classifier.parameters(), lr=learning_rate_c,weight_decay=1e-2)\n",
    "    \n",
    "    \n",
    "    best_epoch = 0 #(based on the validation accuracy)\n",
    "    best_accuracy = -np.inf\n",
    "    \n",
    "    #for plotting\n",
    "    train_loss_ae_trend = []\n",
    "    train_loss_c_trend = []\n",
    "    train_accuracy_trend =[]\n",
    "    val_loss_ae_trend = []\n",
    "    val_loss_c_trend = []\n",
    "    val_accuracy_trend = []\n",
    "\n",
    "    \n",
    "    for epoch in range(num_epochs):\n",
    "\n",
    "        ######training#####\n",
    "        losses_ae = []\n",
    "        losses_c = []\n",
    "        count_correct = 0\n",
    "        count_input = 0\n",
    "\n",
    "        encoder.train()\n",
    "        decoder.train()\n",
    "        #classifier.train()\n",
    "        for data in tqdm(train_dataloader,desc = \"Train Epoch [%d/%d]\"%(epoch+1,num_epochs)):\n",
    "\n",
    "\n",
    "\n",
    "            img, labels = data\n",
    "            img = img.to(device)\n",
    "            labels = labels.to(device)\n",
    "\n",
    "\n",
    "            optimizer_e.zero_grad()\n",
    "            optimizer_d.zero_grad()\n",
    "            #optimizer_c.zero_grad()\n",
    "\n",
    "\n",
    "            compressed_img,pred_labels= encoder(img)\n",
    "            rec_img = decoder(compressed_img)\n",
    "            #pred_labels = classifier(compressed_img)\n",
    "\n",
    "            classifier_loss = criterion_classifier(pred_labels, labels)\n",
    "            ae_loss = criterion_ae(img,rec_img)\n",
    "            total_loss = classifier_loss+ae_loss\n",
    "\n",
    "#             classifier_loss.backward(retain_graph=True)\n",
    "#             ae_loss.backward(retain_graph=True)\n",
    "\n",
    "            total_loss.backward()\n",
    "            optimizer_e.step()\n",
    "            optimizer_d.step()\n",
    "            #optimizer_c.step()\n",
    "\n",
    "\n",
    "            losses_ae.append(ae_loss.detach().cpu().numpy())\n",
    "            losses_c.append(classifier_loss.detach().cpu().numpy())\n",
    "\n",
    "            count_input+=pred_labels.detach().cpu().numpy().shape[0]\n",
    "            count_correct+=np.sum((labels.to(\"cpu\").detach().numpy().argmax(axis=1)==pred_labels.to(\"cpu\").detach().numpy().argmax(axis=1)))\n",
    "            del img\n",
    "            del labels\n",
    "            torch.cuda.empty_cache()\n",
    "            gc.collect();\n",
    "            \n",
    "        accuracy = (count_correct/count_input)*100.\n",
    "        \n",
    "        print('TRAIN: Epoch [%d/%d], Autoencoder Loss: %.4f, Classifier Loss: %.4f, Accuracy: %.4f in %d input samples \\n'\n",
    "              % (epoch+1, num_epochs, np.mean(losses_ae), np.mean(losses_c),accuracy,count_input))\n",
    "        \n",
    "        train_loss_ae_trend.append(np.mean(losses_ae))\n",
    "        train_loss_c_trend.append(np.mean(losses_c))\n",
    "        train_accuracy_trend.append(accuracy)\n",
    "        \n",
    "        ######validation######\n",
    "        ae,c,acc = test(val_dataloader,\"VALIDATION\")\n",
    "        \n",
    "        val_loss_ae_trend.append(ae)\n",
    "        val_loss_c_trend.append(c)\n",
    "        val_accuracy_trend.append(acc)\n",
    "        \n",
    "        if acc > best_accuracy:\n",
    "            print(GREEN+\"Saved Model: \"+END+UNDERLINE+\"best validation accuracy reached\\n\\n\"+END)\n",
    "            best_epoch = epoch+1\n",
    "            torch.save(encoder.state_dict(), \"best_e.pt\")\n",
    "            torch.save(decoder.state_dict(), \"best_d.pt\")\n",
    "            #torch.save(classifier.state_dict(), \"best_c.pt\")\n",
    "            best_accuracy = acc\n",
    "\n",
    "    return np.array([[train_loss_ae_trend,train_loss_c_trend,train_accuracy_trend],\n",
    "            [val_loss_ae_trend,val_loss_c_trend,val_accuracy_trend],best_epoch],dtype=np.object_)"
   ]
  },
  {
   "cell_type": "code",
   "execution_count": null,
   "id": "59edc2ed",
   "metadata": {
    "scrolled": true
   },
   "outputs": [
    {
     "name": "stderr",
     "output_type": "stream",
     "text": [
      "Train Epoch [1/50]: 100%|██████████████████████████████████████████████████████████████| 78/78 [01:04<00:00,  1.22it/s]\n"
     ]
    },
    {
     "name": "stdout",
     "output_type": "stream",
     "text": [
      "TRAIN: Epoch [1/50], Autoencoder Loss: 0.0447, Classifier Loss: 1.2333, Accuracy: 27.8205 in 780 input samples \n",
      "\n"
     ]
    },
    {
     "name": "stderr",
     "output_type": "stream",
     "text": [
      "VALIDATION set: 100%|████████████████████████████████████████████████████████████████████| 8/8 [00:03<00:00,  2.56it/s]\n"
     ]
    },
    {
     "name": "stdout",
     "output_type": "stream",
     "text": [
      "VALIDATION  Autoencoder Loss: 0.0314, Classifier Loss: 1.2079, Accuracy: 36.8421 in 38 input samples\n",
      "\n",
      "\u001b[92mSaved Model: \u001b[0m\u001b[4mbest validation accuracy reached\n",
      "\n",
      "\u001b[0m\n"
     ]
    },
    {
     "name": "stderr",
     "output_type": "stream",
     "text": [
      "Train Epoch [2/50]: 100%|██████████████████████████████████████████████████████████████| 78/78 [01:02<00:00,  1.26it/s]\n"
     ]
    },
    {
     "name": "stdout",
     "output_type": "stream",
     "text": [
      "TRAIN: Epoch [2/50], Autoencoder Loss: 0.0441, Classifier Loss: 1.2310, Accuracy: 26.5385 in 780 input samples \n",
      "\n"
     ]
    },
    {
     "name": "stderr",
     "output_type": "stream",
     "text": [
      "VALIDATION set: 100%|████████████████████████████████████████████████████████████████████| 8/8 [00:03<00:00,  2.55it/s]\n"
     ]
    },
    {
     "name": "stdout",
     "output_type": "stream",
     "text": [
      "VALIDATION  Autoencoder Loss: 0.0313, Classifier Loss: 1.2082, Accuracy: 36.8421 in 38 input samples\n",
      "\n"
     ]
    },
    {
     "name": "stderr",
     "output_type": "stream",
     "text": [
      "Train Epoch [3/50]: 100%|██████████████████████████████████████████████████████████████| 78/78 [01:02<00:00,  1.25it/s]\n"
     ]
    },
    {
     "name": "stdout",
     "output_type": "stream",
     "text": [
      "TRAIN: Epoch [3/50], Autoencoder Loss: 0.0434, Classifier Loss: 1.2300, Accuracy: 28.5897 in 780 input samples \n",
      "\n"
     ]
    },
    {
     "name": "stderr",
     "output_type": "stream",
     "text": [
      "VALIDATION set: 100%|████████████████████████████████████████████████████████████████████| 8/8 [00:03<00:00,  2.57it/s]\n"
     ]
    },
    {
     "name": "stdout",
     "output_type": "stream",
     "text": [
      "VALIDATION  Autoencoder Loss: 0.0312, Classifier Loss: 1.2080, Accuracy: 36.8421 in 38 input samples\n",
      "\n"
     ]
    },
    {
     "name": "stderr",
     "output_type": "stream",
     "text": [
      "Train Epoch [4/50]:  27%|████████████████▋                                             | 21/78 [00:17<00:46,  1.23it/s]"
     ]
    }
   ],
   "source": [
    "if(not LOAD_MODEL):\n",
    "    results = train(train_dataloader,val_dataloader) \n",
    "    np.save(\"results.npy\",results)"
   ]
  },
  {
   "cell_type": "markdown",
   "id": "44dcbf59",
   "metadata": {},
   "source": [
    "### Test"
   ]
  },
  {
   "cell_type": "markdown",
   "id": "17494b39",
   "metadata": {},
   "source": [
    "Notice that the value of the losses and the accuracy for the train set are computed during the training, so they are not very accurate."
   ]
  },
  {
   "cell_type": "code",
   "execution_count": null,
   "id": "3a4bfdd8",
   "metadata": {},
   "outputs": [],
   "source": [
    "train_dataset_no_noise = HDAdataset(train_dir,train_labels,train = False, transform=transform)\n",
    "train_dataloader_no_noise = DataLoader(train_dataset_no_noise, batch_size=3, shuffle=False,drop_last=False)"
   ]
  },
  {
   "cell_type": "code",
   "execution_count": null,
   "id": "641cfb21",
   "metadata": {},
   "outputs": [],
   "source": [
    "test(train_dataloader,\"TRAIN\")\n",
    "test(val_dataloader,\"VALIDATION\")\n",
    "test(test_dataloader,\"TEST\");"
   ]
  },
  {
   "cell_type": "code",
   "execution_count": null,
   "id": "d9eed0b9",
   "metadata": {},
   "outputs": [],
   "source": []
  }
 ],
 "metadata": {
  "kernelspec": {
   "display_name": "Python 3 (ipykernel)",
   "language": "python",
   "name": "python3"
  },
  "language_info": {
   "codemirror_mode": {
    "name": "ipython",
    "version": 3
   },
   "file_extension": ".py",
   "mimetype": "text/x-python",
   "name": "python",
   "nbconvert_exporter": "python",
   "pygments_lexer": "ipython3",
   "version": "3.9.13"
  }
 },
 "nbformat": 4,
 "nbformat_minor": 5
}
