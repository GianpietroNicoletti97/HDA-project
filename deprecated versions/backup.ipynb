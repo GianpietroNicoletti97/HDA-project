{
 "cells": [
  {
   "cell_type": "markdown",
   "id": "b37b31e6",
   "metadata": {},
   "source": [
    "## Initial configuration"
   ]
  },
  {
   "cell_type": "code",
   "execution_count": 1,
   "id": "41ab6c4f",
   "metadata": {},
   "outputs": [],
   "source": [
    "import numpy as np\n",
    "import os\n",
    "from sklearn.model_selection import train_test_split\n",
    "import cv2\n",
    "import gc\n",
    "from tqdm import tqdm,trange\n",
    "\n",
    "import torch\n",
    "from torchsummary import summary\n",
    "from PIL import Image\n",
    "from torch.utils.data import Dataset, DataLoader\n",
    "\n",
    "import torch.nn as nn\n",
    "import torchvision.transforms as transforms\n",
    "from torch.utils.data import DataLoader\n",
    "from torch.autograd import Variable\n",
    "import torch.optim as optim\n",
    "import matplotlib.pyplot as plt\n",
    "\n",
    "import urllib.request\n",
    "import zipfile\n",
    "import json"
   ]
  },
  {
   "cell_type": "code",
   "execution_count": 2,
   "id": "329a92cb",
   "metadata": {},
   "outputs": [],
   "source": [
    "#Usefull for better outputs visualization\n",
    "PURPLE = \"\\033[95m\"\n",
    "CYAN = \"\\033[96m\"\n",
    "DARKCYAN = \"\\033[36m\"\n",
    "BLUE = \"\\033[94m\"\n",
    "GREEN = \"\\033[92m\"\n",
    "YELLOW = \"\\033[93m\"\n",
    "RED = \"\\033[91m\"\n",
    "BOLD = \"\\033[1m\"\n",
    "UNDERLINE = \"\\033[4m\"\n",
    "END = \"\\033[0m\""
   ]
  },
  {
   "cell_type": "markdown",
   "id": "7564cc00",
   "metadata": {},
   "source": [
    "### Project settings"
   ]
  },
  {
   "cell_type": "code",
   "execution_count": 3,
   "id": "8b42f643",
   "metadata": {},
   "outputs": [],
   "source": [
    "data_dir_unsplitted = \"dataset/unsplitted\"\n",
    "save_dir_splitted = \"dataset/splitted\"\n",
    "data_dir = \"dataset/splitted\"\n",
    "models_dir =\"models/\" #the resuls will be saved here\n",
    "\n",
    "os.makedirs(models_dir,exist_ok=True)\n",
    "\n",
    "\n",
    "patch_size = 128\n",
    "n_samples = 40\n",
    "batch_size = 40\n",
    "\n",
    "\n",
    "grayscale= False\n",
    "resize_to= None\n",
    "fft = False\n",
    "\n",
    "\n",
    "learning_rate_e = 0.001\n",
    "learning_rate_d = 0.001\n",
    "#learning_rate_c = 0.00001\n",
    "num_epochs = 50\n",
    "\n",
    "\n",
    "#@DEPRECATED VARIABLE\n",
    "ALREADY_SPLITTED = True #-> we will use only \"LOAD_DATASET\"\n",
    "\n",
    "\n",
    "LOAD_DATASET = True #if true \"ALREADY_SPLITTED\" is ignored\n",
    "\n",
    "#to be implemented:\n",
    "\n",
    "DATASET_ALREADY_DOWNLOADED = True \n",
    "DATASET_ALREADY_UNZIPPED = True\n",
    "\n",
    "LOAD_MODEL = False \n",
    "MODEL_ALREADY_DOWNLOADED = True "
   ]
  },
  {
   "cell_type": "markdown",
   "id": "c4b6f851",
   "metadata": {},
   "source": [
    "## Dataset preparation"
   ]
  },
  {
   "cell_type": "markdown",
   "id": "07b1385d",
   "metadata": {},
   "source": [
    "### Dataset splitting and data augmentation"
   ]
  },
  {
   "cell_type": "code",
   "execution_count": 4,
   "id": "a30151b8",
   "metadata": {},
   "outputs": [],
   "source": [
    "classes = [\"CLL\", \"FL\", \"MCL\"]\n",
    "id_to_name = {0:\"CLL\",1:\"FL\",2:\"MCL\"}\n",
    "\n",
    "if(not ALREADY_SPLITTED or not LOAD_DATASET):\n",
    "    data = []\n",
    "    labels = []\n",
    "    for i, cl in enumerate(classes):\n",
    "        path = os.path.join(data_dir_unsplitted, cl)\n",
    "        images = os.listdir(path)\n",
    "        for img in tqdm(images,desc=cl):\n",
    "            img_path = os.path.join(path, img)\n",
    "            img = cv2.imread(img_path).astype(np.uint8)\n",
    "            \n",
    "            data.append(img)\n",
    "            labels.append(i) \n",
    "\n",
    "\n",
    "    data = np.array(data)\n",
    "    labels = np.array(labels)\n",
    "\n",
    "\n",
    "    train_data, test_data, train_labels, test_labels = train_test_split(data, labels, test_size=0.2, random_state=42)\n",
    "\n",
    "\n",
    "    train_data, val_data, train_labels, val_labels = train_test_split(train_data, train_labels, test_size=0.125, random_state=42)\n",
    "\n",
    "    print(\"Train samples:\", len(train_data))\n",
    "    print(\"Test samples:\", len(test_data))\n",
    "    print(\"Validation samples:\", len(val_data))"
   ]
  },
  {
   "cell_type": "markdown",
   "id": "2e17f646",
   "metadata": {},
   "source": [
    "### Saving the splitted dataset"
   ]
  },
  {
   "cell_type": "code",
   "execution_count": 5,
   "id": "90a42d35",
   "metadata": {},
   "outputs": [],
   "source": [
    "def crop_image(image, patch_size, n_samples = 40):\n",
    "    h, w, _ = image.shape\n",
    "    h_eff = h - patch_size\n",
    "    w_eff = w - patch_size\n",
    "    samples = []\n",
    "    \n",
    "    for i in range(n_samples):\n",
    "        h_vertex = np.random.randint(h_eff)\n",
    "        w_vertex = np.random.randint(w_eff)\n",
    "        samples.append(image[h_vertex:h_vertex+patch_size, w_vertex:w_vertex+patch_size, :])\n",
    "    \n",
    "    samples = np.stack(samples)\n",
    "    return samples   "
   ]
  },
  {
   "cell_type": "code",
   "execution_count": 6,
   "id": "fd4d2b3e",
   "metadata": {},
   "outputs": [],
   "source": [
    "#SAVING THE DATASET\n",
    "if(not ALREADY_SPLITTED or not LOAD_DATASET):\n",
    "    #TRAIN\n",
    "    os.makedirs(os.path.join(save_dir_splitted,\"train\",\"images\"),exist_ok=True)\n",
    "    os.makedirs(os.path.join(save_dir_splitted,\"train\",\"images_patch\"),exist_ok=True)\n",
    "    os.makedirs(os.path.join(save_dir_splitted,\"train\",\"labels\"),exist_ok=True)\n",
    "    os.makedirs(os.path.join(save_dir_splitted,\"train\",\"labels_patch\"),exist_ok=True)\n",
    "     \n",
    "    train_labels_dict={}\n",
    "    train_labels_patch_dict={}\n",
    "    \n",
    "    for i, image in enumerate(tqdm(train_data,desc = \"Train\")):                       #images\n",
    "        file_name = str(i)+\"_train\"+\".png\"\n",
    "        \n",
    "        path = os.path.join(save_dir_splitted,\"train\",\"images\",file_name)\n",
    "        train_labels_dict[file_name] = int(train_labels[i])\n",
    "        cv2.imwrite(path,image.astype(np.float64))\n",
    "        \n",
    "        image_patch = crop_image(image, patch_size, n_samples)\n",
    "        for j in range(len(image_patch)):\n",
    "            file_name = str(i)+\"-\"+str(j)+\"_train\"+\".png\"\n",
    "            path = os.path.join(save_dir_splitted,\"train\",\"images_patch\",file_name)\n",
    "            train_labels_patch_dict[file_name] = int(train_labels[i])\n",
    "            cv2.imwrite(path,image_patch[j].astype(np.float64))\n",
    "       \n",
    "    \n",
    "    \n",
    "    with open(os.path.join(save_dir_splitted,\"train\",\"labels\",\"train.json\"), 'w') as f:\n",
    "        json.dump(train_labels_dict, f)#labels\n",
    "    with open(os.path.join(save_dir_splitted,\"train\",\"labels_patch\",\"train_patch.json\"), 'w') as f:\n",
    "        json.dump(train_labels_patch_dict, f)#labels\n",
    "\n",
    "    #TEST\n",
    "    os.makedirs(os.path.join(save_dir_splitted,\"test\",\"images\"),exist_ok=True)\n",
    "    os.makedirs(os.path.join(save_dir_splitted,\"test\",\"images_patch\"),exist_ok=True)\n",
    "    os.makedirs(os.path.join(save_dir_splitted,\"test\",\"labels\"),exist_ok=True)\n",
    "    os.makedirs(os.path.join(save_dir_splitted,\"test\",\"labels_patch\"),exist_ok=True)\n",
    "\n",
    "    test_labels_dict={}\n",
    "    test_labels_patch_dict={}\n",
    "    \n",
    "    for i, image in enumerate(tqdm(test_data,desc = \"Test\")):                      #images\n",
    "        file_name = str(i)+\"_test\"+\".png\"\n",
    "        path = os.path.join(save_dir_splitted,\"test\",\"images\",file_name)\n",
    "        \n",
    "        cv2.imwrite(path,image.astype(np.float64))\n",
    "        test_labels_dict[file_name] = int(test_labels[i]) \n",
    "        \n",
    "        image_patch = crop_image(image, patch_size, n_samples)\n",
    "        for j in range(len(image_patch)):\n",
    "            file_name = str(i)+\"-\"+str(j)+\"_test\"+\".png\"\n",
    "            path = os.path.join(save_dir_splitted,\"test\",\"images_patch\",file_name)\n",
    "            test_labels_patch_dict[file_name] = int(test_labels[i])\n",
    "            cv2.imwrite(path,image_patch[j].astype(np.float64))\n",
    "\n",
    "    with open(os.path.join(save_dir_splitted,\"test\",\"labels\",\"test.json\"), 'w') as f:\n",
    "        json.dump(test_labels_dict, f)#labels\n",
    "    with open(os.path.join(save_dir_splitted,\"test\",\"labels_patch\",\"test_patch.json\"), 'w') as f:\n",
    "        json.dump(test_labels_patch_dict, f)#labels\n",
    "        \n",
    "    #VALIDATION\n",
    "    os.makedirs(os.path.join(save_dir_splitted,\"val\",\"images\"),exist_ok=True)\n",
    "    os.makedirs(os.path.join(save_dir_splitted,\"val\",\"images_patch\"),exist_ok=True)\n",
    "    os.makedirs(os.path.join(save_dir_splitted,\"val\",\"labels\"),exist_ok=True)\n",
    "    os.makedirs(os.path.join(save_dir_splitted,\"val\",\"labels_patch\"),exist_ok=True)\n",
    "    \n",
    "    val_labels_dict = {}\n",
    "    val_labels_patch_dict = {}\n",
    "    \n",
    "    for i, image in enumerate(tqdm(val_data,desc = \"Validation\")):               #images\n",
    "        file_name = str(i)+\"_val\"+\".png\"\n",
    "        path = os.path.join(save_dir_splitted,\"val\",\"images\",file_name)\n",
    "        \n",
    "        cv2.imwrite(path,image.astype(np.float64))\n",
    "        val_labels_dict[file_name] = int(val_labels[i])\n",
    "        \n",
    "        image_patch = crop_image(image, patch_size, n_samples)\n",
    "        for j in range(len(image_patch)):\n",
    "            file_name = str(i)+\"-\"+str(j)+\"_val\"+\".png\"\n",
    "            path = os.path.join(save_dir_splitted,\"val\",\"images_patch\",file_name)\n",
    "            val_labels_patch_dict[file_name] = int(val_labels[i])\n",
    "            cv2.imwrite(path,image_patch[j].astype(np.float64))\n",
    "        \n",
    "    with open(os.path.join(save_dir_splitted,\"val\",\"labels\",\"val.json\"), 'w') as f:\n",
    "        json.dump(val_labels_dict, f)#labels\n",
    "    with open(os.path.join(save_dir_splitted,\"val\",\"labels_patch\",\"val_patch.json\"), 'w') as f:\n",
    "        json.dump(val_labels_patch_dict, f)#labels"
   ]
  },
  {
   "cell_type": "markdown",
   "id": "ab21346c",
   "metadata": {},
   "source": [
    "### Dataloaders definition"
   ]
  },
  {
   "cell_type": "markdown",
   "id": "a6a1b860",
   "metadata": {},
   "source": [
    "Notice that the labels are saved into a numpy array, while the images are read directly from the folder"
   ]
  },
  {
   "cell_type": "code",
   "execution_count": 7,
   "id": "9cb6438f",
   "metadata": {},
   "outputs": [],
   "source": [
    "class HDAdataset(Dataset):\n",
    "    def __init__(self, root_dir, labels, train = False, transform=None, grayscale= False, resize_to= None, fft = False):\n",
    "        self.root_dir = root_dir\n",
    "        self.labels = labels\n",
    "        self.transform = transform\n",
    "        self.train = train\n",
    "        self.grayscale=grayscale\n",
    "        self.fft = fft\n",
    "        self.resize_to = resize_to\n",
    "\n",
    "    def __len__(self):\n",
    "        return len(os.listdir(self.root_dir))\n",
    "\n",
    "    def __getitem__(self, idx):\n",
    "        img_name = os.listdir(self.root_dir)[idx]\n",
    "        img_path = os.path.join(self.root_dir, img_name)\n",
    "        \n",
    "        if self.grayscale or self.fft:\n",
    "            image = cv2.imread(img_path,cv2.IMREAD_GRAYSCALE)\n",
    "            \n",
    "        else:\n",
    "            image = cv2.imread(img_path)\n",
    "\n",
    "        \n",
    "        if self.train:\n",
    "            image = image.astype(np.uint8) + np.random.normal(0, 2, image.shape).astype(np.uint8)\n",
    "        \n",
    "        if self.resize_to is not None:\n",
    "            image = cv2.resize(image, resize_to, interpolation= cv2.INTER_LINEAR)\n",
    "            \n",
    "        if self.fft:\n",
    "            image = np.fft.fft2(image)\n",
    "            fshift = np.fft.fftshift(image)\n",
    "            magnitude_spectrum = 20*np.log(np.abs(fshift))\n",
    "            image = magnitude_spectrum\n",
    "        \n",
    "\n",
    "        \n",
    "        #labels smoothing\n",
    "        label = 0.1*np.ones(3)\n",
    "        label[self.labels[img_name]] = 0.8\n",
    "        \n",
    "        if self.transform:\n",
    "            image = self.transform((image/255.).astype(np.float32))\n",
    "\n",
    "        return image, label"
   ]
  },
  {
   "cell_type": "code",
   "execution_count": 8,
   "id": "1ce0dbb3",
   "metadata": {},
   "outputs": [],
   "source": [
    "class HDAdatasetPatches(Dataset):\n",
    "    def __init__(self, root_dir,patch_dir, labels, train = False, transform=None, grayscale= False, fft = False):\n",
    "        self.root_dir = root_dir\n",
    "        self.patch_dir = patch_dir\n",
    "        self.labels = labels\n",
    "        self.transform = transform\n",
    "        self.train = train\n",
    "        self.grayscale=grayscale\n",
    "        self.fft = fft\n",
    "\n",
    "    def __len__(self):\n",
    "        return len(os.listdir(self.root_dir))\n",
    "\n",
    "    def __getitem__(self, idx):\n",
    "        img_name = os.listdir(self.root_dir)[idx]\n",
    "        img_id = int(img_name.split(\"_\")[0])\n",
    "        \n",
    "        patches_list = os.listdir(self.patch_dir)\n",
    "        patches_image_list = list(filter(lambda name: int(name.split(\"-\")[0]) == img_id, patches_list))\n",
    "        \n",
    "        all_patches = []\n",
    "        for patch in patches_image_list:\n",
    "            patch_path = os.path.join(self.patch_dir, patch)\n",
    "            \n",
    "\n",
    "            if self.grayscale or self.fft:\n",
    "                image = cv2.imread(patch_path,cv2.IMREAD_GRAYSCALE)\n",
    "                channels = 1\n",
    "            \n",
    "            else:\n",
    "                image = cv2.imread(patch_path)\n",
    "                channels = 3\n",
    "\n",
    "            if self.train:\n",
    "                image = image.astype(np.uint8) + np.random.normal(0, 2, image.shape).astype(np.uint8)\n",
    "\n",
    "            if self.fft:\n",
    "                image = np.fft.fft2(image)\n",
    "                fshift = np.fft.fftshift(image)\n",
    "                magnitude_spectrum = 20*np.log(np.abs(fshift))\n",
    "                image = magnitude_spectrum\n",
    "            \n",
    "            image = (image/255.).astype(np.float32)\n",
    "            image = image.reshape(image.shape[0],image.shape[1],channels)\n",
    "            image = np.transpose(image, (2, 0, 1))\n",
    "            all_patches.append(image.reshape(1,image.shape[0],image.shape[1],image.shape[2]))\n",
    "\n",
    "        all_patches=np.stack(all_patches)\n",
    "        \n",
    "        #labels smoothing\n",
    "        label = 0.1*np.ones(3)\n",
    "        label[self.labels[img_name]] = 0.8\n",
    "\n",
    "        return all_patches, label.reshape(1,label.shape[0])"
   ]
  },
  {
   "cell_type": "code",
   "execution_count": 9,
   "id": "d7cc807e",
   "metadata": {},
   "outputs": [],
   "source": [
    "transform = transforms.Compose([transforms.ToTensor()]) \n"
   ]
  },
  {
   "cell_type": "code",
   "execution_count": 11,
   "id": "26887536",
   "metadata": {},
   "outputs": [
    {
     "name": "stderr",
     "output_type": "stream",
     "text": [
      "100%|██████████| 10440/10440 [01:59<00:00, 87.06it/s]\n"
     ]
    }
   ],
   "source": [
    "if(LOAD_DATASET and not DATASET_ALREADY_DOWNLOADED):\n",
    "    \n",
    "    print(\"download and extract the datasets\")\n",
    "    urllib.request.urlretrieve(\"\", \"dataset.zip\")\n",
    "    \n",
    "    with zipfile.ZipFile(\"dataset.zip\", 'r') as zip_ref:\n",
    "        zip_ref.extractall(\"./dataset/\")\n",
    "\n",
    "#convert to tensor each image\n",
    "transform = transforms.Compose([transforms.ToTensor()])    \n",
    "\n",
    "#TRAIN DATASET AND DATALOADER\n",
    "train_dir = os.path.join(data_dir,\"train\",\"images_patch\")#images\n",
    "train_labels_dir = os.path.join(data_dir,\"train\",\"labels_patch\",\"train_patch.json\")\n",
    "with open(train_labels_dir) as f:\n",
    "    train_labels = json.load(f)#labels\n",
    "\n",
    "train_dataset = HDAdataset(train_dir,train_labels,train = True, transform=transform,grayscale=grayscale)\n",
    "train_data = [data for data in tqdm(train_dataset)] #using a list to increase the training speed since the data fit in the ram\n",
    "train_dataloader = DataLoader(train_data, batch_size=batch_size, shuffle=True, drop_last=True)\n",
    "\n",
    "#TEST DATASET AND DATALOADER\n",
    "test_dir = os.path.join(data_dir,\"test\",\"images\")#images\n",
    "test_dir_patches = os.path.join(data_dir,\"test\",\"images_patch\")#patches\n",
    "test_labels_dir = os.path.join(data_dir,\"test\",\"labels\",\"test.json\")\n",
    "with open(test_labels_dir) as f:\n",
    "    test_labels = json.load(f)#labels\n",
    "\n",
    "test_dataset = HDAdatasetPatches(test_dir,test_dir_patches,test_labels,train = False,\n",
    "                          transform=None,grayscale=grayscale,fft=fft)\n",
    "\n",
    "#test_dataloader = DataLoader(test_dataset, batch_size=n_samples, shuffle=False)\n",
    "\n",
    "#VALIDATION DATASET AND DATALOADER\n",
    "val_dir = os.path.join(data_dir,\"val\",\"images\")#images\n",
    "val_dir_patches = os.path.join(data_dir,\"val\",\"images_patch\")#patches\n",
    "val_labels_dir = os.path.join(data_dir,\"val\",\"labels\",\"val.json\")\n",
    "with open(val_labels_dir) as f:\n",
    "    val_labels = json.load(f)#labels\n",
    "\n",
    "val_dataset = HDAdatasetPatches(val_dir,val_dir_patches,val_labels,train = False,\n",
    "                          transform=None,grayscale=grayscale,fft=fft)\n",
    "\n",
    "#val_dataloader = DataLoader(val_dataset, batch_size=n_samples, shuffle=False)"
   ]
  },
  {
   "cell_type": "markdown",
   "id": "6ae5599d",
   "metadata": {},
   "source": [
    "## Neural network"
   ]
  },
  {
   "cell_type": "code",
   "execution_count": 12,
   "id": "915f464f",
   "metadata": {},
   "outputs": [
    {
     "data": {
      "text/plain": [
       "41"
      ]
     },
     "execution_count": 12,
     "metadata": {},
     "output_type": "execute_result"
    }
   ],
   "source": [
    "torch.cuda.empty_cache()\n",
    "gc.collect()"
   ]
  },
  {
   "cell_type": "markdown",
   "id": "a684cf15",
   "metadata": {},
   "source": [
    "### Models definition"
   ]
  },
  {
   "cell_type": "code",
   "execution_count": 13,
   "id": "f54470d5",
   "metadata": {},
   "outputs": [],
   "source": [
    "# class Encoder(nn.Module):\n",
    "#     def __init__(self):\n",
    "#         super(Encoder, self).__init__()\n",
    "        \n",
    "#         self.encoder = nn.Sequential(\n",
    "#             nn.Conv2d(in_channels=1, out_channels=16, kernel_size=(3,3), stride=(2,2), padding=(1,1)),\n",
    "#             ### 6x128x128\n",
    "#             #nn.MaxPool2d(2),\n",
    "#             ### 6x64x64\n",
    "#             nn.BatchNorm2d(16),\n",
    "#             nn.LeakyReLU(),\n",
    "#             #nn.Dropout(p=0.1),\n",
    "#             nn.Conv2d(in_channels=16, out_channels=32, kernel_size=(3,3), stride=(2,2), padding=(1,1)),\n",
    "#             ### 9x22x22\n",
    "#             #nn.MaxPool2d(2),\n",
    "#             ### 9x11x11\n",
    "#             nn.BatchNorm2d(32),\n",
    "#             nn.LeakyReLU(),\n",
    "#             #nn.Dropout(p=0.1),\n",
    "#             nn.Conv2d(in_channels=32, out_channels=64, kernel_size=(3,3), stride=(2,2), padding=(1,1)),\n",
    "#             ### 12x4x4\n",
    "#             #nn.MaxPool2d(2),\n",
    "#             ### 12x2x2\n",
    "#             nn.BatchNorm2d(64),\n",
    "#             nn.LeakyReLU(),\n",
    "#             nn.Flatten(),\n",
    "#             ### 12*2*2\n",
    "#             #nn.Dropout(p=0.1),\n",
    "#             nn.Linear(16384,150),\n",
    "#             nn.BatchNorm1d(150),\n",
    "#             nn.LeakyReLU(),\n",
    "#             nn.Dropout(p=0.2),\n",
    "#             nn.Linear(150,20),\n",
    "#             nn.LeakyReLU(),\n",
    "#         )\n",
    "\n",
    "#         self.classification = nn.Sequential(\n",
    "#             nn.Linear(20,10),\n",
    "#             nn.BatchNorm1d(10),\n",
    "#             nn.LeakyReLU(),\n",
    "#             nn.Dropout(p=0.2),\n",
    "#             nn.Linear(10,3),\n",
    "#             nn.Softmax(dim=1)\n",
    "#         )\n",
    "\n",
    "#     def forward(self, x):\n",
    "#         x = self.encoder(x)\n",
    "#         return x, self.classification(x)\n",
    "    \n",
    "# class Decoder(nn.Module):\n",
    "#     def __init__(self):\n",
    "#         super(Decoder, self).__init__()\n",
    "        \n",
    "#         self.decoder = nn.Sequential(\n",
    "#             nn.Linear(20,150),\n",
    "#             nn.BatchNorm1d(150),\n",
    "#             nn.LeakyReLU(),\n",
    "#             #nn.Dropout(p=0.1),\n",
    "#             nn.Linear(150,16384),\n",
    "#             nn.BatchNorm1d(16384),\n",
    "#             nn.LeakyReLU(),\n",
    "#             #nn.Dropout(p=0.1),\n",
    "#             nn.Unflatten(-1, (64,16,16)),\n",
    "#             #nn.Upsample(size=(8, 8), mode='bilinear'),\n",
    "#             nn.ConvTranspose2d(in_channels=64, out_channels=32, kernel_size=(3,3), stride=(2,2), padding=(1,1)),\n",
    "#             nn.BatchNorm2d(32),\n",
    "#             nn.LeakyReLU(),\n",
    "#             #nn.Dropout(p=0.1),\n",
    "#             #nn.Upsample(size=(32, 32), mode='bilinear'),\n",
    "#             nn.ConvTranspose2d(in_channels=32, out_channels=16, kernel_size=(3,3), stride=(2,2), padding=(0,0)),\n",
    "#             nn.BatchNorm2d(16),\n",
    "#             nn.LeakyReLU(),\n",
    "#             #nn.Dropout(p=0.1),\n",
    "#             #nn.Upsample(size=(128, 128), mode='bilinear'),\n",
    "#             nn.ConvTranspose2d(in_channels=16, out_channels=1, kernel_size=(3,3), stride=(2,2), padding=(0,0), dilation=1,output_padding=(1,1)),\n",
    "#             nn.Sigmoid()\n",
    "#         )\n",
    "#     def forward(self, x):\n",
    "#         x = self.decoder(x)\n",
    "        \n",
    "#         return x"
   ]
  },
  {
   "cell_type": "code",
   "execution_count": 14,
   "id": "f89e0fb9",
   "metadata": {},
   "outputs": [],
   "source": [
    "class Autoencoder(nn.Module):\n",
    "    def __init__(self):\n",
    "        super(Autoencoder, self).__init__()\n",
    "        \n",
    "        #encoder\n",
    "        self.convE1 = nn.Conv2d(in_channels=3, out_channels=16, kernel_size=(3,3), stride=(2,2), padding=(0,0))\n",
    "        self.convE2 = nn.Conv2d(in_channels=16, out_channels=32, kernel_size=(3,3), stride=(2,2), padding=(0,0))\n",
    "        self.convE3 = nn.Conv2d(in_channels=32, out_channels=64, kernel_size=(3,3), stride=(2,2), padding=(0,0))\n",
    "        self.flatten = nn.Flatten()\n",
    "        self.BNE16 = nn.BatchNorm2d(16)\n",
    "        self.BNE32 = nn.BatchNorm2d(32)\n",
    "        self.BNE64 = nn.BatchNorm2d(64)\n",
    "        self.linearE1 = nn.Linear(14400,50)\n",
    "        self.linearE2 = nn.Linear(50,3)\n",
    "        self.BNE150linear = nn.BatchNorm1d(50)\n",
    "        \n",
    "        self.act = nn.LeakyReLU()\n",
    "        self.drop = nn.Dropout(p=0.2)\n",
    "        \n",
    "        #decoder\n",
    "        \n",
    "        self.convD1 = nn.ConvTranspose2d(in_channels=64, out_channels=32, kernel_size=(3,3), stride=(2,2), padding=(0,0))\n",
    "        self.convD2 = nn.ConvTranspose2d(in_channels=32, out_channels=16, kernel_size=(3,3), stride=(2,2), padding=(0,0))\n",
    "        self.convD3 = nn.ConvTranspose2d(in_channels=16, out_channels=3, kernel_size=(3,3), \n",
    "                                         stride=(2,2), padding=(0,0), dilation=1,output_padding=(1,1))\n",
    "        self.reshape = nn.Unflatten(-1, (64,15,15))\n",
    "        self.BND16 = nn.BatchNorm2d(16)\n",
    "        self.BND32 = nn.BatchNorm2d(32)\n",
    "        self.linearD1 = nn.Linear(3,50)\n",
    "        self.linearD2 = nn.Linear(50,14400)\n",
    "        self.BND150linear = nn.BatchNorm1d(50)\n",
    "        self.BND16klinear = nn.BatchNorm1d(14400)\n",
    "        \n",
    "        self.out = nn.Sigmoid()\n",
    "        self.softmax = nn.Softmax(dim=1)\n",
    "        \n",
    "    def forward(self, x):\n",
    "\n",
    "        x1 = self.act(self.BNE16(self.convE1(x)))\n",
    "        x2 = self.act(self.BNE32(self.convE2(x1)))\n",
    "        x3 = self.act(self.BNE64(self.convE3(x2)))\n",
    "        x3linear = self.flatten(x3)\n",
    "        x4 = self.drop(self.act(self.BNE150linear(self.linearE1(x3linear))))\n",
    "        x5 = self.linearE2(x4)\n",
    "\n",
    "        x = self.act(self.BND150linear(self.linearD1(x5)))\n",
    "        x = self.act(self.BND16klinear(self.linearD2(x+x4)))\n",
    "        x = self.reshape(x)\n",
    "        x = self.act(self.BND32(self.convD1(x+x3)))\n",
    "        x = self.act(self.BND16(self.convD2(x+x2)))\n",
    "        x = self.out(self.convD3(x+x1))\n",
    "\n",
    "        return x,self.softmax(x5)\n"
   ]
  },
  {
   "cell_type": "code",
   "execution_count": 15,
   "id": "f2c567e1",
   "metadata": {},
   "outputs": [
    {
     "name": "stdout",
     "output_type": "stream",
     "text": [
      "\u001b[1mYou are working on: \u001b[0mcpu\n"
     ]
    }
   ],
   "source": [
    "device = torch.device(\"cuda\" if torch.cuda.is_available() else \"cpu\")\n",
    "print(BOLD+\"You are working on: \"+END+str(device))"
   ]
  },
  {
   "cell_type": "markdown",
   "id": "689f5a37",
   "metadata": {},
   "source": [
    "### Loading of the models"
   ]
  },
  {
   "cell_type": "code",
   "execution_count": 16,
   "id": "9139a620",
   "metadata": {},
   "outputs": [],
   "source": [
    "if(LOAD_MODEL and not MODEL_ALREADY_DOWNLOADED):\n",
    "    print(\"download the model\")"
   ]
  },
  {
   "cell_type": "code",
   "execution_count": 19,
   "id": "c6460ebe",
   "metadata": {},
   "outputs": [],
   "source": [
    "if(not LOAD_MODEL):\n",
    "    autoencoder = Autoencoder().to(device)\n",
    "    #classifier = Classifier().to(device)"
   ]
  },
  {
   "cell_type": "code",
   "execution_count": 20,
   "id": "d1214cf5",
   "metadata": {},
   "outputs": [
    {
     "name": "stdout",
     "output_type": "stream",
     "text": [
      "----------------------------------------------------------------\n",
      "        Layer (type)               Output Shape         Param #\n",
      "================================================================\n",
      "            Conv2d-1            [2, 16, 63, 63]             448\n",
      "       BatchNorm2d-2            [2, 16, 63, 63]              32\n",
      "         LeakyReLU-3            [2, 16, 63, 63]               0\n",
      "            Conv2d-4            [2, 32, 31, 31]           4,640\n",
      "       BatchNorm2d-5            [2, 32, 31, 31]              64\n",
      "         LeakyReLU-6            [2, 32, 31, 31]               0\n",
      "            Conv2d-7            [2, 64, 15, 15]          18,496\n",
      "       BatchNorm2d-8            [2, 64, 15, 15]             128\n",
      "         LeakyReLU-9            [2, 64, 15, 15]               0\n",
      "          Flatten-10                 [2, 14400]               0\n",
      "           Linear-11                    [2, 50]         720,050\n",
      "      BatchNorm1d-12                    [2, 50]             100\n",
      "        LeakyReLU-13                    [2, 50]               0\n",
      "          Dropout-14                    [2, 50]               0\n",
      "           Linear-15                     [2, 3]             153\n",
      "           Linear-16                    [2, 50]             200\n",
      "      BatchNorm1d-17                    [2, 50]             100\n",
      "        LeakyReLU-18                    [2, 50]               0\n",
      "           Linear-19                 [2, 14400]         734,400\n",
      "      BatchNorm1d-20                 [2, 14400]          28,800\n",
      "        LeakyReLU-21                 [2, 14400]               0\n",
      "        Unflatten-22            [2, 64, 15, 15]               0\n",
      "  ConvTranspose2d-23            [2, 32, 31, 31]          18,464\n",
      "      BatchNorm2d-24            [2, 32, 31, 31]              64\n",
      "        LeakyReLU-25            [2, 32, 31, 31]               0\n",
      "  ConvTranspose2d-26            [2, 16, 63, 63]           4,624\n",
      "      BatchNorm2d-27            [2, 16, 63, 63]              32\n",
      "        LeakyReLU-28            [2, 16, 63, 63]               0\n",
      "  ConvTranspose2d-29           [2, 3, 128, 128]             435\n",
      "          Sigmoid-30           [2, 3, 128, 128]               0\n",
      "          Softmax-31                     [2, 3]               0\n",
      "================================================================\n",
      "Total params: 1,531,230\n",
      "Trainable params: 1,531,230\n",
      "Non-trainable params: 0\n",
      "----------------------------------------------------------------\n",
      "Input size (MB): 0.38\n",
      "Forward/backward pass size (MB): 11.89\n",
      "Params size (MB): 5.84\n",
      "Estimated Total Size (MB): 18.11\n",
      "----------------------------------------------------------------\n"
     ]
    }
   ],
   "source": [
    "summary(autoencoder, (3, 128, 128),batch_size=2)\n",
    "\n",
    "# summary(encoder, (1, 128, 128),batch_size=40)\n",
    "# summary(decoder, (20, ), batch_size=40)"
   ]
  },
  {
   "cell_type": "markdown",
   "id": "931580de",
   "metadata": {},
   "source": [
    "### Training \n",
    "\n",
    "The accuracy in the training is patch wise while the accuracy in validation and test is image wise(i.e. the most common class for the patches of the same image)"
   ]
  },
  {
   "cell_type": "code",
   "execution_count": 21,
   "id": "9b91a23a",
   "metadata": {},
   "outputs": [],
   "source": [
    "def test(dataset,name):\n",
    "    \n",
    "    losses_ae = []\n",
    "    losses_c = []\n",
    "    count_correct = 0\n",
    "    count_input = 0\n",
    "    count_correct_patches = 0\n",
    "    count_input_patches = 0\n",
    "\n",
    "    autoencoder.eval()\n",
    "    \n",
    "    #single image\n",
    "    for data in tqdm(dataset,desc = name +\" set\"):\n",
    "        pred = []\n",
    "        labels = torch.tensor(data[1]).to(device)\n",
    "        true_image_label = labels.to(\"cpu\").detach().numpy().argmax(axis=1)[0]\n",
    "        \n",
    "        #iterate over all the patches\n",
    "        for patch in data[0]:\n",
    "            \n",
    "            img = torch.tensor(patch).to(device)\n",
    "            \n",
    "            rec_img,pred_labels= autoencoder(img)  \n",
    "            \n",
    "            classifier_loss = criterion_classifier(pred_labels, labels)\n",
    "            ae_loss= criterion_ae(img,rec_img)\n",
    "            \n",
    "            count_input_patches += 1\n",
    "            count_correct_patches += (pred_labels.to(\"cpu\").detach().numpy().argmax(axis=1)[0] == true_image_label)\n",
    "\n",
    "            losses_ae.append(ae_loss.detach().cpu().numpy())\n",
    "            losses_c.append(classifier_loss.detach().cpu().numpy())\n",
    "            \n",
    "            pred.append(pred_labels.to(\"cpu\").detach().numpy().argmax(axis=1)[0])\n",
    "            \n",
    "            \n",
    "        count_input += 1\n",
    "            \n",
    "        final_image_label = max(set(pred), key=pred.count) \n",
    "        count_correct+= (final_image_label == true_image_label)\n",
    "        \n",
    "        del img\n",
    "        del labels\n",
    "        torch.cuda.empty_cache()\n",
    "        gc.collect();\n",
    "\n",
    "    # Print loss at end of each epoch\n",
    "    accuracy= (count_correct/count_input)*100.\n",
    "    accuracy_patches = (count_correct_patches/count_input_patches)*100.\n",
    "    print(name,': Autoencoder Loss: %.4f, Classifier Loss: %.4f,\\n Accuracy patches: %.4f in %d input samples, Accuracy: %.4f in %d input samples\\n'\n",
    "      % (np.mean(losses_ae), np.mean(losses_c),accuracy_patches,count_input_patches,accuracy,count_input))\n",
    "    \n",
    "    return np.mean(losses_ae),np.mean(losses_c), accuracy_patches, accuracy"
   ]
  },
  {
   "cell_type": "code",
   "execution_count": 24,
   "id": "17514270",
   "metadata": {},
   "outputs": [],
   "source": [
    "criterion_classifier = nn.CrossEntropyLoss()\n",
    "criterion_ae = nn.MSELoss()\n",
    "\n",
    "def train(train_dataloader,val_dataset):\n",
    "    optimizer_ae = optim.RMSprop(autoencoder.parameters(), lr=learning_rate_e,weight_decay=1e-3)\n",
    "\n",
    "    \n",
    "    \n",
    "    best_epoch = 0 #(based on the validation accuracy)\n",
    "    best_accuracy = -np.inf\n",
    "    \n",
    "    #for plotting\n",
    "    train_loss_ae_trend = []\n",
    "    train_loss_c_trend = []\n",
    "    train_accuracy_trend =[]\n",
    "    val_loss_ae_trend = []\n",
    "    val_loss_c_trend = []\n",
    "    val_accuracy_trend = []\n",
    "\n",
    "    \n",
    "    for epoch in range(num_epochs):\n",
    "\n",
    "        ######training#####\n",
    "        losses_ae = []\n",
    "        losses_c = []\n",
    "        count_correct = 0\n",
    "        count_input = 0\n",
    "\n",
    "        autoencoder.train()\n",
    "       \n",
    "        \n",
    "        #train classifier for one epoch    \n",
    "        for data in tqdm(train_dataloader,desc = \"Train classifier Epoch [%d/%d]\"%(epoch+1,num_epochs)):\n",
    "\n",
    "            img, labels = data\n",
    "            img = torch.tensor(img).to(device)\n",
    "            labels = torch.tensor(labels).to(device)\n",
    "            \n",
    "           \n",
    "            \n",
    "            optimizer_ae.zero_grad()\n",
    "            \n",
    "            \n",
    "            rec_img,pred_labels= autoencoder(img)  \n",
    "            \n",
    "\n",
    "            classifier_loss = criterion_classifier(pred_labels, labels)\n",
    "            ae_loss = criterion_ae(img,rec_img)\n",
    "            total_loss = classifier_loss+10*ae_loss\n",
    "            \n",
    "            total_loss.backward()\n",
    "            \n",
    "            optimizer_ae.step()\n",
    "            \n",
    "            losses_ae.append(ae_loss.detach().cpu().numpy())\n",
    "            losses_c.append(classifier_loss.detach().cpu().numpy())\n",
    "\n",
    "            \n",
    "            count_input+=pred_labels.detach().cpu().numpy().shape[0]\n",
    "            count_correct+=np.sum((labels.to(\"cpu\").detach().numpy().argmax(axis=1)==pred_labels.to(\"cpu\").detach().numpy().argmax(axis=1)))\n",
    "            del img\n",
    "            del labels\n",
    "            torch.cuda.empty_cache()\n",
    "            gc.collect();\n",
    "            \n",
    "        accuracy = (count_correct/count_input)*100.\n",
    "        \n",
    "        print('TRAIN: Epoch [%d/%d], Autoencoder Loss: %.4f, Classifier Loss: %.4f, Accuracy: %.4f in %d input patches \\n'\n",
    "              % (epoch+1, num_epochs, np.mean(losses_ae), np.mean(losses_c),accuracy,count_input))\n",
    "        \n",
    "        train_loss_ae_trend.append(np.mean(losses_ae))\n",
    "        train_loss_c_trend.append(np.mean(losses_c))\n",
    "        train_accuracy_trend.append(accuracy)\n",
    "        \n",
    "        ######validation######\n",
    "        ae,c,acc_p,acc= test(val_dataset,\"VALIDATION\")\n",
    "        \n",
    "        val_loss_ae_trend.append(ae)\n",
    "        val_loss_c_trend.append(c)\n",
    "        val_accuracy_trend.append(acc)\n",
    "        \n",
    "        if acc > best_accuracy:\n",
    "            print(GREEN+\"Saved Model: \"+END+UNDERLINE+\"best validation accuracy reached\\n\\n\"+END)\n",
    "            best_epoch = epoch+1\n",
    "            torch.save(autoencoder.state_dict(), os.path.join(models_dir,\"best_ae.pt\"))\n",
    "            \n",
    "            best_accuracy = acc\n",
    "\n",
    "    return np.array([[train_loss_ae_trend,train_loss_c_trend,train_accuracy_trend],\n",
    "            [val_loss_ae_trend,val_loss_c_trend,val_accuracy_trend],best_epoch],dtype=np.object_)"
   ]
  },
  {
   "cell_type": "code",
   "execution_count": 25,
   "id": "59edc2ed",
   "metadata": {
    "scrolled": true
   },
   "outputs": [
    {
     "name": "stderr",
     "output_type": "stream",
     "text": [
      "Train classifier Epoch [1/50]:   0%|          | 0/261 [00:00<?, ?it/s]<ipython-input-24-6b4c09530c74>:36: UserWarning: To copy construct from a tensor, it is recommended to use sourceTensor.clone().detach() or sourceTensor.clone().detach().requires_grad_(True), rather than torch.tensor(sourceTensor).\n",
      "  img = torch.tensor(img).to(device)\n",
      "<ipython-input-24-6b4c09530c74>:37: UserWarning: To copy construct from a tensor, it is recommended to use sourceTensor.clone().detach() or sourceTensor.clone().detach().requires_grad_(True), rather than torch.tensor(sourceTensor).\n",
      "  labels = torch.tensor(labels).to(device)\n",
      "Train classifier Epoch [1/50]: 100%|██████████| 261/261 [01:13<00:00,  3.53it/s]\n",
      "VALIDATION set:   0%|          | 0/38 [00:00<?, ?it/s]"
     ]
    },
    {
     "name": "stdout",
     "output_type": "stream",
     "text": [
      "TRAIN: Epoch [1/50], Autoencoder Loss: 0.0014, Classifier Loss: 0.9286, Accuracy: 73.6398 in 10440 input patches \n",
      "\n"
     ]
    },
    {
     "name": "stderr",
     "output_type": "stream",
     "text": [
      "VALIDATION set: 100%|██████████| 38/38 [00:12<00:00,  3.06it/s]\n",
      "Train classifier Epoch [2/50]:   0%|          | 0/261 [00:00<?, ?it/s]"
     ]
    },
    {
     "name": "stdout",
     "output_type": "stream",
     "text": [
      "VALIDATION : Autoencoder Loss: 0.0019, Classifier Loss: 1.0505,\n",
      " Accuracy patches: 52.9605 in 1520 input samples, Accuracy: 55.2632 in 38 input samples\n",
      "\n",
      "\u001b[92mSaved Model: \u001b[0m\u001b[4mbest validation accuracy reached\n",
      "\n",
      "\u001b[0m\n"
     ]
    },
    {
     "name": "stderr",
     "output_type": "stream",
     "text": [
      "Train classifier Epoch [2/50]: 100%|██████████| 261/261 [01:19<00:00,  3.26it/s]\n",
      "VALIDATION set:   0%|          | 0/38 [00:00<?, ?it/s]"
     ]
    },
    {
     "name": "stdout",
     "output_type": "stream",
     "text": [
      "TRAIN: Epoch [2/50], Autoencoder Loss: 0.0012, Classifier Loss: 0.8766, Accuracy: 81.5038 in 10440 input patches \n",
      "\n"
     ]
    },
    {
     "name": "stderr",
     "output_type": "stream",
     "text": [
      "VALIDATION set: 100%|██████████| 38/38 [00:12<00:00,  3.09it/s]\n",
      "Train classifier Epoch [3/50]:   0%|          | 0/261 [00:00<?, ?it/s]"
     ]
    },
    {
     "name": "stdout",
     "output_type": "stream",
     "text": [
      "VALIDATION : Autoencoder Loss: 0.0012, Classifier Loss: 0.9113,\n",
      " Accuracy patches: 77.5658 in 1520 input samples, Accuracy: 84.2105 in 38 input samples\n",
      "\n",
      "\u001b[92mSaved Model: \u001b[0m\u001b[4mbest validation accuracy reached\n",
      "\n",
      "\u001b[0m\n"
     ]
    },
    {
     "name": "stderr",
     "output_type": "stream",
     "text": [
      "Train classifier Epoch [3/50]: 100%|██████████| 261/261 [01:21<00:00,  3.22it/s]\n",
      "VALIDATION set:   0%|          | 0/38 [00:00<?, ?it/s]"
     ]
    },
    {
     "name": "stdout",
     "output_type": "stream",
     "text": [
      "TRAIN: Epoch [3/50], Autoencoder Loss: 0.0011, Classifier Loss: 0.8641, Accuracy: 83.6207 in 10440 input patches \n",
      "\n"
     ]
    },
    {
     "name": "stderr",
     "output_type": "stream",
     "text": [
      "VALIDATION set: 100%|██████████| 38/38 [00:12<00:00,  3.05it/s]\n",
      "Train classifier Epoch [4/50]:   0%|          | 0/261 [00:00<?, ?it/s]"
     ]
    },
    {
     "name": "stdout",
     "output_type": "stream",
     "text": [
      "VALIDATION : Autoencoder Loss: 0.0014, Classifier Loss: 0.9734,\n",
      " Accuracy patches: 64.8026 in 1520 input samples, Accuracy: 71.0526 in 38 input samples\n",
      "\n"
     ]
    },
    {
     "name": "stderr",
     "output_type": "stream",
     "text": [
      "Train classifier Epoch [4/50]: 100%|██████████| 261/261 [01:19<00:00,  3.29it/s]\n",
      "VALIDATION set:   0%|          | 0/38 [00:00<?, ?it/s]"
     ]
    },
    {
     "name": "stdout",
     "output_type": "stream",
     "text": [
      "TRAIN: Epoch [4/50], Autoencoder Loss: 0.0011, Classifier Loss: 0.8546, Accuracy: 85.1533 in 10440 input patches \n",
      "\n"
     ]
    },
    {
     "name": "stderr",
     "output_type": "stream",
     "text": [
      "VALIDATION set: 100%|██████████| 38/38 [00:12<00:00,  3.07it/s]\n",
      "Train classifier Epoch [5/50]:   0%|          | 0/261 [00:00<?, ?it/s]"
     ]
    },
    {
     "name": "stdout",
     "output_type": "stream",
     "text": [
      "VALIDATION : Autoencoder Loss: 0.0010, Classifier Loss: 1.0183,\n",
      " Accuracy patches: 59.4079 in 1520 input samples, Accuracy: 57.8947 in 38 input samples\n",
      "\n"
     ]
    },
    {
     "name": "stderr",
     "output_type": "stream",
     "text": [
      "Train classifier Epoch [5/50]: 100%|██████████| 261/261 [01:19<00:00,  3.28it/s]\n",
      "VALIDATION set:   0%|          | 0/38 [00:00<?, ?it/s]"
     ]
    },
    {
     "name": "stdout",
     "output_type": "stream",
     "text": [
      "TRAIN: Epoch [5/50], Autoencoder Loss: 0.0010, Classifier Loss: 0.8500, Accuracy: 85.6226 in 10440 input patches \n",
      "\n"
     ]
    },
    {
     "name": "stderr",
     "output_type": "stream",
     "text": [
      "VALIDATION set: 100%|██████████| 38/38 [00:12<00:00,  2.92it/s]\n",
      "Train classifier Epoch [6/50]:   0%|          | 0/261 [00:00<?, ?it/s]"
     ]
    },
    {
     "name": "stdout",
     "output_type": "stream",
     "text": [
      "VALIDATION : Autoencoder Loss: 0.0020, Classifier Loss: 0.8887,\n",
      " Accuracy patches: 79.2105 in 1520 input samples, Accuracy: 86.8421 in 38 input samples\n",
      "\n",
      "\u001b[92mSaved Model: \u001b[0m\u001b[4mbest validation accuracy reached\n",
      "\n",
      "\u001b[0m\n"
     ]
    },
    {
     "name": "stderr",
     "output_type": "stream",
     "text": [
      "Train classifier Epoch [6/50]: 100%|██████████| 261/261 [01:32<00:00,  2.82it/s]\n",
      "VALIDATION set:   0%|          | 0/38 [00:00<?, ?it/s]"
     ]
    },
    {
     "name": "stdout",
     "output_type": "stream",
     "text": [
      "TRAIN: Epoch [6/50], Autoencoder Loss: 0.0010, Classifier Loss: 0.8464, Accuracy: 86.0728 in 10440 input patches \n",
      "\n"
     ]
    },
    {
     "name": "stderr",
     "output_type": "stream",
     "text": [
      "VALIDATION set: 100%|██████████| 38/38 [00:14<00:00,  2.71it/s]\n",
      "Train classifier Epoch [7/50]:   0%|          | 0/261 [00:00<?, ?it/s]"
     ]
    },
    {
     "name": "stdout",
     "output_type": "stream",
     "text": [
      "VALIDATION : Autoencoder Loss: 0.0009, Classifier Loss: 0.9503,\n",
      " Accuracy patches: 70.3947 in 1520 input samples, Accuracy: 71.0526 in 38 input samples\n",
      "\n"
     ]
    },
    {
     "name": "stderr",
     "output_type": "stream",
     "text": [
      "Train classifier Epoch [7/50]: 100%|██████████| 261/261 [01:29<00:00,  2.92it/s]\n",
      "VALIDATION set:   0%|          | 0/38 [00:00<?, ?it/s]"
     ]
    },
    {
     "name": "stdout",
     "output_type": "stream",
     "text": [
      "TRAIN: Epoch [7/50], Autoencoder Loss: 0.0010, Classifier Loss: 0.8374, Accuracy: 87.3084 in 10440 input patches \n",
      "\n"
     ]
    },
    {
     "name": "stderr",
     "output_type": "stream",
     "text": [
      "VALIDATION set: 100%|██████████| 38/38 [00:13<00:00,  2.78it/s]\n",
      "Train classifier Epoch [8/50]:   0%|          | 0/261 [00:00<?, ?it/s]"
     ]
    },
    {
     "name": "stdout",
     "output_type": "stream",
     "text": [
      "VALIDATION : Autoencoder Loss: 0.0011, Classifier Loss: 0.9338,\n",
      " Accuracy patches: 70.7895 in 1520 input samples, Accuracy: 73.6842 in 38 input samples\n",
      "\n"
     ]
    },
    {
     "name": "stderr",
     "output_type": "stream",
     "text": [
      "Train classifier Epoch [8/50]: 100%|██████████| 261/261 [01:28<00:00,  2.96it/s]\n",
      "VALIDATION set:   0%|          | 0/38 [00:00<?, ?it/s]"
     ]
    },
    {
     "name": "stdout",
     "output_type": "stream",
     "text": [
      "TRAIN: Epoch [8/50], Autoencoder Loss: 0.0010, Classifier Loss: 0.8339, Accuracy: 88.0077 in 10440 input patches \n",
      "\n"
     ]
    },
    {
     "name": "stderr",
     "output_type": "stream",
     "text": [
      "VALIDATION set: 100%|██████████| 38/38 [00:13<00:00,  2.74it/s]\n",
      "Train classifier Epoch [9/50]:   0%|          | 0/261 [00:00<?, ?it/s]"
     ]
    },
    {
     "name": "stdout",
     "output_type": "stream",
     "text": [
      "VALIDATION : Autoencoder Loss: 0.0009, Classifier Loss: 0.9492,\n",
      " Accuracy patches: 69.2105 in 1520 input samples, Accuracy: 73.6842 in 38 input samples\n",
      "\n"
     ]
    },
    {
     "name": "stderr",
     "output_type": "stream",
     "text": [
      "Train classifier Epoch [9/50]: 100%|██████████| 261/261 [01:29<00:00,  2.92it/s]\n",
      "VALIDATION set:   0%|          | 0/38 [00:00<?, ?it/s]"
     ]
    },
    {
     "name": "stdout",
     "output_type": "stream",
     "text": [
      "TRAIN: Epoch [9/50], Autoencoder Loss: 0.0010, Classifier Loss: 0.8293, Accuracy: 88.7548 in 10440 input patches \n",
      "\n"
     ]
    },
    {
     "name": "stderr",
     "output_type": "stream",
     "text": [
      "VALIDATION set: 100%|██████████| 38/38 [00:13<00:00,  2.74it/s]\n",
      "Train classifier Epoch [10/50]:   0%|          | 0/261 [00:00<?, ?it/s]"
     ]
    },
    {
     "name": "stdout",
     "output_type": "stream",
     "text": [
      "VALIDATION : Autoencoder Loss: 0.0011, Classifier Loss: 1.0015,\n",
      " Accuracy patches: 62.0395 in 1520 input samples, Accuracy: 68.4211 in 38 input samples\n",
      "\n"
     ]
    },
    {
     "name": "stderr",
     "output_type": "stream",
     "text": [
      "Train classifier Epoch [10/50]: 100%|██████████| 261/261 [01:32<00:00,  2.82it/s]\n",
      "VALIDATION set:   0%|          | 0/38 [00:00<?, ?it/s]"
     ]
    },
    {
     "name": "stdout",
     "output_type": "stream",
     "text": [
      "TRAIN: Epoch [10/50], Autoencoder Loss: 0.0010, Classifier Loss: 0.8234, Accuracy: 89.8276 in 10440 input patches \n",
      "\n"
     ]
    },
    {
     "name": "stderr",
     "output_type": "stream",
     "text": [
      "VALIDATION set: 100%|██████████| 38/38 [00:13<00:00,  2.75it/s]\n",
      "Train classifier Epoch [11/50]:   0%|          | 0/261 [00:00<?, ?it/s]"
     ]
    },
    {
     "name": "stdout",
     "output_type": "stream",
     "text": [
      "VALIDATION : Autoencoder Loss: 0.0009, Classifier Loss: 0.9558,\n",
      " Accuracy patches: 69.4737 in 1520 input samples, Accuracy: 73.6842 in 38 input samples\n",
      "\n"
     ]
    },
    {
     "name": "stderr",
     "output_type": "stream",
     "text": [
      "Train classifier Epoch [11/50]: 100%|██████████| 261/261 [01:28<00:00,  2.95it/s]\n",
      "VALIDATION set:   0%|          | 0/38 [00:00<?, ?it/s]"
     ]
    },
    {
     "name": "stdout",
     "output_type": "stream",
     "text": [
      "TRAIN: Epoch [11/50], Autoencoder Loss: 0.0010, Classifier Loss: 0.8236, Accuracy: 89.6073 in 10440 input patches \n",
      "\n"
     ]
    },
    {
     "name": "stderr",
     "output_type": "stream",
     "text": [
      "VALIDATION set: 100%|██████████| 38/38 [00:13<00:00,  2.73it/s]\n",
      "Train classifier Epoch [12/50]:   0%|          | 0/261 [00:00<?, ?it/s]"
     ]
    },
    {
     "name": "stdout",
     "output_type": "stream",
     "text": [
      "VALIDATION : Autoencoder Loss: 0.0013, Classifier Loss: 0.9731,\n",
      " Accuracy patches: 67.0395 in 1520 input samples, Accuracy: 73.6842 in 38 input samples\n",
      "\n"
     ]
    },
    {
     "name": "stderr",
     "output_type": "stream",
     "text": [
      "Train classifier Epoch [12/50]: 100%|██████████| 261/261 [01:28<00:00,  2.94it/s]\n",
      "VALIDATION set:   0%|          | 0/38 [00:00<?, ?it/s]"
     ]
    },
    {
     "name": "stdout",
     "output_type": "stream",
     "text": [
      "TRAIN: Epoch [12/50], Autoencoder Loss: 0.0010, Classifier Loss: 0.8187, Accuracy: 90.6034 in 10440 input patches \n",
      "\n"
     ]
    },
    {
     "name": "stderr",
     "output_type": "stream",
     "text": [
      "VALIDATION set: 100%|██████████| 38/38 [00:13<00:00,  2.75it/s]\n",
      "Train classifier Epoch [13/50]:   0%|          | 0/261 [00:00<?, ?it/s]"
     ]
    },
    {
     "name": "stdout",
     "output_type": "stream",
     "text": [
      "VALIDATION : Autoencoder Loss: 0.0009, Classifier Loss: 0.8699,\n",
      " Accuracy patches: 82.9605 in 1520 input samples, Accuracy: 89.4737 in 38 input samples\n",
      "\n",
      "\u001b[92mSaved Model: \u001b[0m\u001b[4mbest validation accuracy reached\n",
      "\n",
      "\u001b[0m\n"
     ]
    },
    {
     "name": "stderr",
     "output_type": "stream",
     "text": [
      "Train classifier Epoch [13/50]: 100%|██████████| 261/261 [01:30<00:00,  2.90it/s]\n",
      "VALIDATION set:   0%|          | 0/38 [00:00<?, ?it/s]"
     ]
    },
    {
     "name": "stdout",
     "output_type": "stream",
     "text": [
      "TRAIN: Epoch [13/50], Autoencoder Loss: 0.0010, Classifier Loss: 0.8164, Accuracy: 90.8046 in 10440 input patches \n",
      "\n"
     ]
    },
    {
     "name": "stderr",
     "output_type": "stream",
     "text": [
      "VALIDATION set: 100%|██████████| 38/38 [00:13<00:00,  2.73it/s]\n",
      "Train classifier Epoch [14/50]:   0%|          | 0/261 [00:00<?, ?it/s]"
     ]
    },
    {
     "name": "stdout",
     "output_type": "stream",
     "text": [
      "VALIDATION : Autoencoder Loss: 0.0009, Classifier Loss: 0.9162,\n",
      " Accuracy patches: 75.0000 in 1520 input samples, Accuracy: 76.3158 in 38 input samples\n",
      "\n"
     ]
    },
    {
     "name": "stderr",
     "output_type": "stream",
     "text": [
      "Train classifier Epoch [14/50]: 100%|██████████| 261/261 [01:29<00:00,  2.93it/s]\n",
      "VALIDATION set:   0%|          | 0/38 [00:00<?, ?it/s]"
     ]
    },
    {
     "name": "stdout",
     "output_type": "stream",
     "text": [
      "TRAIN: Epoch [14/50], Autoencoder Loss: 0.0010, Classifier Loss: 0.8136, Accuracy: 91.1111 in 10440 input patches \n",
      "\n"
     ]
    },
    {
     "name": "stderr",
     "output_type": "stream",
     "text": [
      "VALIDATION set: 100%|██████████| 38/38 [00:14<00:00,  2.69it/s]\n",
      "Train classifier Epoch [15/50]:   0%|          | 0/261 [00:00<?, ?it/s]"
     ]
    },
    {
     "name": "stdout",
     "output_type": "stream",
     "text": [
      "VALIDATION : Autoencoder Loss: 0.0009, Classifier Loss: 0.9167,\n",
      " Accuracy patches: 74.8684 in 1520 input samples, Accuracy: 78.9474 in 38 input samples\n",
      "\n"
     ]
    },
    {
     "name": "stderr",
     "output_type": "stream",
     "text": [
      "Train classifier Epoch [15/50]: 100%|██████████| 261/261 [01:38<00:00,  2.65it/s]\n",
      "VALIDATION set:   0%|          | 0/38 [00:00<?, ?it/s]"
     ]
    },
    {
     "name": "stdout",
     "output_type": "stream",
     "text": [
      "TRAIN: Epoch [15/50], Autoencoder Loss: 0.0010, Classifier Loss: 0.8097, Accuracy: 91.9444 in 10440 input patches \n",
      "\n"
     ]
    },
    {
     "name": "stderr",
     "output_type": "stream",
     "text": [
      "VALIDATION set: 100%|██████████| 38/38 [00:14<00:00,  2.70it/s]\n",
      "Train classifier Epoch [16/50]:   0%|          | 0/261 [00:00<?, ?it/s]"
     ]
    },
    {
     "name": "stdout",
     "output_type": "stream",
     "text": [
      "VALIDATION : Autoencoder Loss: 0.0008, Classifier Loss: 0.8920,\n",
      " Accuracy patches: 77.9605 in 1520 input samples, Accuracy: 84.2105 in 38 input samples\n",
      "\n"
     ]
    },
    {
     "name": "stderr",
     "output_type": "stream",
     "text": [
      "Train classifier Epoch [16/50]: 100%|██████████| 261/261 [01:29<00:00,  2.91it/s]\n",
      "VALIDATION set:   0%|          | 0/38 [00:00<?, ?it/s]"
     ]
    },
    {
     "name": "stdout",
     "output_type": "stream",
     "text": [
      "TRAIN: Epoch [16/50], Autoencoder Loss: 0.0010, Classifier Loss: 0.8076, Accuracy: 92.0211 in 10440 input patches \n",
      "\n"
     ]
    },
    {
     "name": "stderr",
     "output_type": "stream",
     "text": [
      "VALIDATION set: 100%|██████████| 38/38 [00:13<00:00,  2.77it/s]\n",
      "Train classifier Epoch [17/50]:   0%|          | 0/261 [00:00<?, ?it/s]"
     ]
    },
    {
     "name": "stdout",
     "output_type": "stream",
     "text": [
      "VALIDATION : Autoencoder Loss: 0.0013, Classifier Loss: 1.0267,\n",
      " Accuracy patches: 58.4868 in 1520 input samples, Accuracy: 55.2632 in 38 input samples\n",
      "\n"
     ]
    },
    {
     "name": "stderr",
     "output_type": "stream",
     "text": [
      "Train classifier Epoch [17/50]: 100%|██████████| 261/261 [01:28<00:00,  2.94it/s]\n",
      "VALIDATION set:   0%|          | 0/38 [00:00<?, ?it/s]"
     ]
    },
    {
     "name": "stdout",
     "output_type": "stream",
     "text": [
      "TRAIN: Epoch [17/50], Autoencoder Loss: 0.0009, Classifier Loss: 0.8044, Accuracy: 92.5575 in 10440 input patches \n",
      "\n"
     ]
    },
    {
     "name": "stderr",
     "output_type": "stream",
     "text": [
      "VALIDATION set: 100%|██████████| 38/38 [00:14<00:00,  2.67it/s]\n",
      "Train classifier Epoch [18/50]:   0%|          | 0/261 [00:00<?, ?it/s]"
     ]
    },
    {
     "name": "stdout",
     "output_type": "stream",
     "text": [
      "VALIDATION : Autoencoder Loss: 0.0009, Classifier Loss: 0.9313,\n",
      " Accuracy patches: 72.1711 in 1520 input samples, Accuracy: 78.9474 in 38 input samples\n",
      "\n"
     ]
    },
    {
     "name": "stderr",
     "output_type": "stream",
     "text": [
      "Train classifier Epoch [18/50]: 100%|██████████| 261/261 [01:29<00:00,  2.90it/s]\n",
      "VALIDATION set:   0%|          | 0/38 [00:00<?, ?it/s]"
     ]
    },
    {
     "name": "stdout",
     "output_type": "stream",
     "text": [
      "TRAIN: Epoch [18/50], Autoencoder Loss: 0.0010, Classifier Loss: 0.8056, Accuracy: 92.4330 in 10440 input patches \n",
      "\n"
     ]
    },
    {
     "name": "stderr",
     "output_type": "stream",
     "text": [
      "VALIDATION set: 100%|██████████| 38/38 [00:15<00:00,  2.49it/s]\n",
      "Train classifier Epoch [19/50]:   0%|          | 0/261 [00:00<?, ?it/s]"
     ]
    },
    {
     "name": "stdout",
     "output_type": "stream",
     "text": [
      "VALIDATION : Autoencoder Loss: 0.0009, Classifier Loss: 0.8872,\n",
      " Accuracy patches: 79.8026 in 1520 input samples, Accuracy: 84.2105 in 38 input samples\n",
      "\n"
     ]
    },
    {
     "name": "stderr",
     "output_type": "stream",
     "text": [
      "Train classifier Epoch [19/50]: 100%|██████████| 261/261 [01:33<00:00,  2.79it/s]\n",
      "VALIDATION set:   0%|          | 0/38 [00:00<?, ?it/s]"
     ]
    },
    {
     "name": "stdout",
     "output_type": "stream",
     "text": [
      "TRAIN: Epoch [19/50], Autoencoder Loss: 0.0009, Classifier Loss: 0.8024, Accuracy: 92.9215 in 10440 input patches \n",
      "\n"
     ]
    },
    {
     "name": "stderr",
     "output_type": "stream",
     "text": [
      "VALIDATION set: 100%|██████████| 38/38 [00:13<00:00,  2.74it/s]\n",
      "Train classifier Epoch [20/50]:   0%|          | 0/261 [00:00<?, ?it/s]"
     ]
    },
    {
     "name": "stdout",
     "output_type": "stream",
     "text": [
      "VALIDATION : Autoencoder Loss: 0.0012, Classifier Loss: 0.9333,\n",
      " Accuracy patches: 72.6316 in 1520 input samples, Accuracy: 78.9474 in 38 input samples\n",
      "\n"
     ]
    },
    {
     "name": "stderr",
     "output_type": "stream",
     "text": [
      "Train classifier Epoch [20/50]: 100%|██████████| 261/261 [01:32<00:00,  2.82it/s]\n",
      "VALIDATION set:   0%|          | 0/38 [00:00<?, ?it/s]"
     ]
    },
    {
     "name": "stdout",
     "output_type": "stream",
     "text": [
      "TRAIN: Epoch [20/50], Autoencoder Loss: 0.0010, Classifier Loss: 0.8014, Accuracy: 93.2471 in 10440 input patches \n",
      "\n"
     ]
    },
    {
     "name": "stderr",
     "output_type": "stream",
     "text": [
      "VALIDATION set: 100%|██████████| 38/38 [00:15<00:00,  2.52it/s]\n",
      "Train classifier Epoch [21/50]:   0%|          | 0/261 [00:00<?, ?it/s]"
     ]
    },
    {
     "name": "stdout",
     "output_type": "stream",
     "text": [
      "VALIDATION : Autoencoder Loss: 0.0009, Classifier Loss: 0.8475,\n",
      " Accuracy patches: 86.0526 in 1520 input samples, Accuracy: 97.3684 in 38 input samples\n",
      "\n",
      "\u001b[92mSaved Model: \u001b[0m\u001b[4mbest validation accuracy reached\n",
      "\n",
      "\u001b[0m\n"
     ]
    },
    {
     "name": "stderr",
     "output_type": "stream",
     "text": [
      "Train classifier Epoch [21/50]: 100%|██████████| 261/261 [01:32<00:00,  2.81it/s]\n",
      "VALIDATION set:   0%|          | 0/38 [00:00<?, ?it/s]"
     ]
    },
    {
     "name": "stdout",
     "output_type": "stream",
     "text": [
      "TRAIN: Epoch [21/50], Autoencoder Loss: 0.0010, Classifier Loss: 0.7998, Accuracy: 93.2759 in 10440 input patches \n",
      "\n"
     ]
    },
    {
     "name": "stderr",
     "output_type": "stream",
     "text": [
      "VALIDATION set: 100%|██████████| 38/38 [00:14<00:00,  2.71it/s]\n",
      "Train classifier Epoch [22/50]:   0%|          | 0/261 [00:00<?, ?it/s]"
     ]
    },
    {
     "name": "stdout",
     "output_type": "stream",
     "text": [
      "VALIDATION : Autoencoder Loss: 0.0008, Classifier Loss: 0.8624,\n",
      " Accuracy patches: 82.8289 in 1520 input samples, Accuracy: 92.1053 in 38 input samples\n",
      "\n"
     ]
    },
    {
     "name": "stderr",
     "output_type": "stream",
     "text": [
      "Train classifier Epoch [22/50]: 100%|██████████| 261/261 [01:36<00:00,  2.71it/s]\n",
      "VALIDATION set:   0%|          | 0/38 [00:00<?, ?it/s]"
     ]
    },
    {
     "name": "stdout",
     "output_type": "stream",
     "text": [
      "TRAIN: Epoch [22/50], Autoencoder Loss: 0.0009, Classifier Loss: 0.7973, Accuracy: 93.7452 in 10440 input patches \n",
      "\n"
     ]
    },
    {
     "name": "stderr",
     "output_type": "stream",
     "text": [
      "VALIDATION set: 100%|██████████| 38/38 [00:14<00:00,  2.63it/s]\n",
      "Train classifier Epoch [23/50]:   0%|          | 0/261 [00:00<?, ?it/s]"
     ]
    },
    {
     "name": "stdout",
     "output_type": "stream",
     "text": [
      "VALIDATION : Autoencoder Loss: 0.0010, Classifier Loss: 0.8526,\n",
      " Accuracy patches: 85.1974 in 1520 input samples, Accuracy: 92.1053 in 38 input samples\n",
      "\n"
     ]
    },
    {
     "name": "stderr",
     "output_type": "stream",
     "text": [
      "Train classifier Epoch [23/50]: 100%|██████████| 261/261 [01:26<00:00,  3.03it/s]\n",
      "VALIDATION set:   0%|          | 0/38 [00:00<?, ?it/s]"
     ]
    },
    {
     "name": "stdout",
     "output_type": "stream",
     "text": [
      "TRAIN: Epoch [23/50], Autoencoder Loss: 0.0010, Classifier Loss: 0.7974, Accuracy: 93.7739 in 10440 input patches \n",
      "\n"
     ]
    },
    {
     "name": "stderr",
     "output_type": "stream",
     "text": [
      "VALIDATION set: 100%|██████████| 38/38 [00:12<00:00,  3.04it/s]\n",
      "Train classifier Epoch [24/50]:   0%|          | 0/261 [00:00<?, ?it/s]"
     ]
    },
    {
     "name": "stdout",
     "output_type": "stream",
     "text": [
      "VALIDATION : Autoencoder Loss: 0.0008, Classifier Loss: 0.8620,\n",
      " Accuracy patches: 83.4868 in 1520 input samples, Accuracy: 92.1053 in 38 input samples\n",
      "\n"
     ]
    },
    {
     "name": "stderr",
     "output_type": "stream",
     "text": [
      "Train classifier Epoch [24/50]: 100%|██████████| 261/261 [01:20<00:00,  3.23it/s]\n",
      "VALIDATION set:   0%|          | 0/38 [00:00<?, ?it/s]"
     ]
    },
    {
     "name": "stdout",
     "output_type": "stream",
     "text": [
      "TRAIN: Epoch [24/50], Autoencoder Loss: 0.0010, Classifier Loss: 0.7937, Accuracy: 94.3295 in 10440 input patches \n",
      "\n"
     ]
    },
    {
     "name": "stderr",
     "output_type": "stream",
     "text": [
      "VALIDATION set: 100%|██████████| 38/38 [00:12<00:00,  3.05it/s]\n",
      "Train classifier Epoch [25/50]:   0%|          | 0/261 [00:00<?, ?it/s]"
     ]
    },
    {
     "name": "stdout",
     "output_type": "stream",
     "text": [
      "VALIDATION : Autoencoder Loss: 0.0013, Classifier Loss: 0.8931,\n",
      " Accuracy patches: 78.1579 in 1520 input samples, Accuracy: 81.5789 in 38 input samples\n",
      "\n"
     ]
    },
    {
     "name": "stderr",
     "output_type": "stream",
     "text": [
      "Train classifier Epoch [25/50]: 100%|██████████| 261/261 [01:22<00:00,  3.17it/s]\n",
      "VALIDATION set:   0%|          | 0/38 [00:00<?, ?it/s]"
     ]
    },
    {
     "name": "stdout",
     "output_type": "stream",
     "text": [
      "TRAIN: Epoch [25/50], Autoencoder Loss: 0.0010, Classifier Loss: 0.7966, Accuracy: 93.6877 in 10440 input patches \n",
      "\n"
     ]
    },
    {
     "name": "stderr",
     "output_type": "stream",
     "text": [
      "VALIDATION set: 100%|██████████| 38/38 [00:13<00:00,  2.90it/s]\n",
      "Train classifier Epoch [26/50]:   0%|          | 0/261 [00:00<?, ?it/s]"
     ]
    },
    {
     "name": "stdout",
     "output_type": "stream",
     "text": [
      "VALIDATION : Autoencoder Loss: 0.0009, Classifier Loss: 0.8616,\n",
      " Accuracy patches: 83.4868 in 1520 input samples, Accuracy: 86.8421 in 38 input samples\n",
      "\n"
     ]
    },
    {
     "name": "stderr",
     "output_type": "stream",
     "text": [
      "Train classifier Epoch [26/50]: 100%|██████████| 261/261 [01:21<00:00,  3.21it/s]\n",
      "VALIDATION set:   0%|          | 0/38 [00:00<?, ?it/s]"
     ]
    },
    {
     "name": "stdout",
     "output_type": "stream",
     "text": [
      "TRAIN: Epoch [26/50], Autoencoder Loss: 0.0010, Classifier Loss: 0.7939, Accuracy: 94.4636 in 10440 input patches \n",
      "\n"
     ]
    },
    {
     "name": "stderr",
     "output_type": "stream",
     "text": [
      "VALIDATION set: 100%|██████████| 38/38 [00:12<00:00,  3.02it/s]\n",
      "Train classifier Epoch [27/50]:   0%|          | 0/261 [00:00<?, ?it/s]"
     ]
    },
    {
     "name": "stdout",
     "output_type": "stream",
     "text": [
      "VALIDATION : Autoencoder Loss: 0.0009, Classifier Loss: 0.8835,\n",
      " Accuracy patches: 80.1316 in 1520 input samples, Accuracy: 81.5789 in 38 input samples\n",
      "\n"
     ]
    },
    {
     "name": "stderr",
     "output_type": "stream",
     "text": [
      "Train classifier Epoch [27/50]: 100%|██████████| 261/261 [01:21<00:00,  3.21it/s]\n",
      "VALIDATION set:   0%|          | 0/38 [00:00<?, ?it/s]"
     ]
    },
    {
     "name": "stdout",
     "output_type": "stream",
     "text": [
      "TRAIN: Epoch [27/50], Autoencoder Loss: 0.0009, Classifier Loss: 0.7932, Accuracy: 94.4157 in 10440 input patches \n",
      "\n"
     ]
    },
    {
     "name": "stderr",
     "output_type": "stream",
     "text": [
      "VALIDATION set: 100%|██████████| 38/38 [00:12<00:00,  3.04it/s]\n",
      "Train classifier Epoch [28/50]:   0%|          | 0/261 [00:00<?, ?it/s]"
     ]
    },
    {
     "name": "stdout",
     "output_type": "stream",
     "text": [
      "VALIDATION : Autoencoder Loss: 0.0010, Classifier Loss: 0.9537,\n",
      " Accuracy patches: 68.2237 in 1520 input samples, Accuracy: 76.3158 in 38 input samples\n",
      "\n"
     ]
    },
    {
     "name": "stderr",
     "output_type": "stream",
     "text": [
      "Train classifier Epoch [28/50]: 100%|██████████| 261/261 [01:21<00:00,  3.21it/s]\n",
      "VALIDATION set:   0%|          | 0/38 [00:00<?, ?it/s]"
     ]
    },
    {
     "name": "stdout",
     "output_type": "stream",
     "text": [
      "TRAIN: Epoch [28/50], Autoencoder Loss: 0.0009, Classifier Loss: 0.7894, Accuracy: 95.0575 in 10440 input patches \n",
      "\n"
     ]
    },
    {
     "name": "stderr",
     "output_type": "stream",
     "text": [
      "VALIDATION set: 100%|██████████| 38/38 [00:12<00:00,  3.05it/s]\n",
      "Train classifier Epoch [29/50]:   0%|          | 0/261 [00:00<?, ?it/s]"
     ]
    },
    {
     "name": "stdout",
     "output_type": "stream",
     "text": [
      "VALIDATION : Autoencoder Loss: 0.0009, Classifier Loss: 0.8673,\n",
      " Accuracy patches: 82.7632 in 1520 input samples, Accuracy: 92.1053 in 38 input samples\n",
      "\n"
     ]
    },
    {
     "name": "stderr",
     "output_type": "stream",
     "text": [
      "Train classifier Epoch [29/50]: 100%|██████████| 261/261 [01:20<00:00,  3.24it/s]\n",
      "VALIDATION set:   0%|          | 0/38 [00:00<?, ?it/s]"
     ]
    },
    {
     "name": "stdout",
     "output_type": "stream",
     "text": [
      "TRAIN: Epoch [29/50], Autoencoder Loss: 0.0010, Classifier Loss: 0.7905, Accuracy: 94.6264 in 10440 input patches \n",
      "\n"
     ]
    },
    {
     "name": "stderr",
     "output_type": "stream",
     "text": [
      "VALIDATION set: 100%|██████████| 38/38 [00:12<00:00,  3.04it/s]\n",
      "Train classifier Epoch [30/50]:   0%|          | 0/261 [00:00<?, ?it/s]"
     ]
    },
    {
     "name": "stdout",
     "output_type": "stream",
     "text": [
      "VALIDATION : Autoencoder Loss: 0.0008, Classifier Loss: 0.8753,\n",
      " Accuracy patches: 81.4474 in 1520 input samples, Accuracy: 89.4737 in 38 input samples\n",
      "\n"
     ]
    },
    {
     "name": "stderr",
     "output_type": "stream",
     "text": [
      "Train classifier Epoch [30/50]: 100%|██████████| 261/261 [01:20<00:00,  3.23it/s]\n",
      "VALIDATION set:   0%|          | 0/38 [00:00<?, ?it/s]"
     ]
    },
    {
     "name": "stdout",
     "output_type": "stream",
     "text": [
      "TRAIN: Epoch [30/50], Autoencoder Loss: 0.0009, Classifier Loss: 0.7890, Accuracy: 94.9138 in 10440 input patches \n",
      "\n"
     ]
    },
    {
     "name": "stderr",
     "output_type": "stream",
     "text": [
      "VALIDATION set: 100%|██████████| 38/38 [00:12<00:00,  3.03it/s]\n",
      "Train classifier Epoch [31/50]:   0%|          | 0/261 [00:00<?, ?it/s]"
     ]
    },
    {
     "name": "stdout",
     "output_type": "stream",
     "text": [
      "VALIDATION : Autoencoder Loss: 0.0011, Classifier Loss: 0.9178,\n",
      " Accuracy patches: 73.7500 in 1520 input samples, Accuracy: 76.3158 in 38 input samples\n",
      "\n"
     ]
    },
    {
     "name": "stderr",
     "output_type": "stream",
     "text": [
      "Train classifier Epoch [31/50]: 100%|██████████| 261/261 [01:22<00:00,  3.16it/s]\n",
      "VALIDATION set:   0%|          | 0/38 [00:00<?, ?it/s]"
     ]
    },
    {
     "name": "stdout",
     "output_type": "stream",
     "text": [
      "TRAIN: Epoch [31/50], Autoencoder Loss: 0.0010, Classifier Loss: 0.7913, Accuracy: 94.6360 in 10440 input patches \n",
      "\n"
     ]
    },
    {
     "name": "stderr",
     "output_type": "stream",
     "text": [
      "VALIDATION set: 100%|██████████| 38/38 [00:12<00:00,  2.96it/s]\n",
      "Train classifier Epoch [32/50]:   0%|          | 0/261 [00:00<?, ?it/s]"
     ]
    },
    {
     "name": "stdout",
     "output_type": "stream",
     "text": [
      "VALIDATION : Autoencoder Loss: 0.0007, Classifier Loss: 0.8523,\n",
      " Accuracy patches: 84.3421 in 1520 input samples, Accuracy: 97.3684 in 38 input samples\n",
      "\n"
     ]
    },
    {
     "name": "stderr",
     "output_type": "stream",
     "text": [
      "Train classifier Epoch [32/50]: 100%|██████████| 261/261 [01:22<00:00,  3.16it/s]\n",
      "VALIDATION set:   0%|          | 0/38 [00:00<?, ?it/s]"
     ]
    },
    {
     "name": "stdout",
     "output_type": "stream",
     "text": [
      "TRAIN: Epoch [32/50], Autoencoder Loss: 0.0010, Classifier Loss: 0.7868, Accuracy: 95.3448 in 10440 input patches \n",
      "\n"
     ]
    },
    {
     "name": "stderr",
     "output_type": "stream",
     "text": [
      "VALIDATION set: 100%|██████████| 38/38 [00:12<00:00,  2.99it/s]\n",
      "Train classifier Epoch [33/50]:   0%|          | 0/261 [00:00<?, ?it/s]"
     ]
    },
    {
     "name": "stdout",
     "output_type": "stream",
     "text": [
      "VALIDATION : Autoencoder Loss: 0.0011, Classifier Loss: 0.9592,\n",
      " Accuracy patches: 68.0263 in 1520 input samples, Accuracy: 76.3158 in 38 input samples\n",
      "\n"
     ]
    },
    {
     "name": "stderr",
     "output_type": "stream",
     "text": [
      "Train classifier Epoch [33/50]: 100%|██████████| 261/261 [01:21<00:00,  3.19it/s]\n",
      "VALIDATION set:   0%|          | 0/38 [00:00<?, ?it/s]"
     ]
    },
    {
     "name": "stdout",
     "output_type": "stream",
     "text": [
      "TRAIN: Epoch [33/50], Autoencoder Loss: 0.0009, Classifier Loss: 0.7877, Accuracy: 95.1916 in 10440 input patches \n",
      "\n"
     ]
    },
    {
     "name": "stderr",
     "output_type": "stream",
     "text": [
      "VALIDATION set: 100%|██████████| 38/38 [00:12<00:00,  2.95it/s]\n",
      "Train classifier Epoch [34/50]:   0%|          | 0/261 [00:00<?, ?it/s]"
     ]
    },
    {
     "name": "stdout",
     "output_type": "stream",
     "text": [
      "VALIDATION : Autoencoder Loss: 0.0011, Classifier Loss: 0.9713,\n",
      " Accuracy patches: 67.0395 in 1520 input samples, Accuracy: 76.3158 in 38 input samples\n",
      "\n"
     ]
    },
    {
     "name": "stderr",
     "output_type": "stream",
     "text": [
      "Train classifier Epoch [34/50]: 100%|██████████| 261/261 [01:22<00:00,  3.17it/s]\n",
      "VALIDATION set:   0%|          | 0/38 [00:00<?, ?it/s]"
     ]
    },
    {
     "name": "stdout",
     "output_type": "stream",
     "text": [
      "TRAIN: Epoch [34/50], Autoencoder Loss: 0.0010, Classifier Loss: 0.7877, Accuracy: 95.2969 in 10440 input patches \n",
      "\n"
     ]
    },
    {
     "name": "stderr",
     "output_type": "stream",
     "text": [
      "VALIDATION set: 100%|██████████| 38/38 [00:12<00:00,  2.97it/s]\n",
      "Train classifier Epoch [35/50]:   0%|          | 0/261 [00:00<?, ?it/s]"
     ]
    },
    {
     "name": "stdout",
     "output_type": "stream",
     "text": [
      "VALIDATION : Autoencoder Loss: 0.0009, Classifier Loss: 0.8885,\n",
      " Accuracy patches: 78.7500 in 1520 input samples, Accuracy: 84.2105 in 38 input samples\n",
      "\n"
     ]
    },
    {
     "name": "stderr",
     "output_type": "stream",
     "text": [
      "Train classifier Epoch [35/50]: 100%|██████████| 261/261 [01:22<00:00,  3.16it/s]\n",
      "VALIDATION set:   0%|          | 0/38 [00:00<?, ?it/s]"
     ]
    },
    {
     "name": "stdout",
     "output_type": "stream",
     "text": [
      "TRAIN: Epoch [35/50], Autoencoder Loss: 0.0009, Classifier Loss: 0.7865, Accuracy: 95.5364 in 10440 input patches \n",
      "\n"
     ]
    },
    {
     "name": "stderr",
     "output_type": "stream",
     "text": [
      "VALIDATION set: 100%|██████████| 38/38 [00:12<00:00,  2.96it/s]\n",
      "Train classifier Epoch [36/50]:   0%|          | 0/261 [00:00<?, ?it/s]"
     ]
    },
    {
     "name": "stdout",
     "output_type": "stream",
     "text": [
      "VALIDATION : Autoencoder Loss: 0.0009, Classifier Loss: 0.9029,\n",
      " Accuracy patches: 76.9737 in 1520 input samples, Accuracy: 84.2105 in 38 input samples\n",
      "\n"
     ]
    },
    {
     "name": "stderr",
     "output_type": "stream",
     "text": [
      "Train classifier Epoch [36/50]: 100%|██████████| 261/261 [01:21<00:00,  3.19it/s]\n",
      "VALIDATION set:   0%|          | 0/38 [00:00<?, ?it/s]"
     ]
    },
    {
     "name": "stdout",
     "output_type": "stream",
     "text": [
      "TRAIN: Epoch [36/50], Autoencoder Loss: 0.0009, Classifier Loss: 0.7876, Accuracy: 95.3257 in 10440 input patches \n",
      "\n"
     ]
    },
    {
     "name": "stderr",
     "output_type": "stream",
     "text": [
      "VALIDATION set: 100%|██████████| 38/38 [00:12<00:00,  3.02it/s]\n",
      "Train classifier Epoch [37/50]:   0%|          | 0/261 [00:00<?, ?it/s]"
     ]
    },
    {
     "name": "stdout",
     "output_type": "stream",
     "text": [
      "VALIDATION : Autoencoder Loss: 0.0009, Classifier Loss: 0.8784,\n",
      " Accuracy patches: 80.5263 in 1520 input samples, Accuracy: 86.8421 in 38 input samples\n",
      "\n"
     ]
    },
    {
     "name": "stderr",
     "output_type": "stream",
     "text": [
      "Train classifier Epoch [37/50]: 100%|██████████| 261/261 [01:23<00:00,  3.14it/s]\n",
      "VALIDATION set:   0%|          | 0/38 [00:00<?, ?it/s]"
     ]
    },
    {
     "name": "stdout",
     "output_type": "stream",
     "text": [
      "TRAIN: Epoch [37/50], Autoencoder Loss: 0.0009, Classifier Loss: 0.7854, Accuracy: 95.6130 in 10440 input patches \n",
      "\n"
     ]
    },
    {
     "name": "stderr",
     "output_type": "stream",
     "text": [
      "VALIDATION set: 100%|██████████| 38/38 [00:12<00:00,  2.99it/s]\n",
      "Train classifier Epoch [38/50]:   0%|          | 0/261 [00:00<?, ?it/s]"
     ]
    },
    {
     "name": "stdout",
     "output_type": "stream",
     "text": [
      "VALIDATION : Autoencoder Loss: 0.0009, Classifier Loss: 0.9051,\n",
      " Accuracy patches: 76.7105 in 1520 input samples, Accuracy: 81.5789 in 38 input samples\n",
      "\n"
     ]
    },
    {
     "name": "stderr",
     "output_type": "stream",
     "text": [
      "Train classifier Epoch [38/50]: 100%|██████████| 261/261 [01:23<00:00,  3.13it/s]\n",
      "VALIDATION set:   0%|          | 0/38 [00:00<?, ?it/s]"
     ]
    },
    {
     "name": "stdout",
     "output_type": "stream",
     "text": [
      "TRAIN: Epoch [38/50], Autoencoder Loss: 0.0010, Classifier Loss: 0.7859, Accuracy: 95.4789 in 10440 input patches \n",
      "\n"
     ]
    },
    {
     "name": "stderr",
     "output_type": "stream",
     "text": [
      "VALIDATION set: 100%|██████████| 38/38 [00:12<00:00,  2.95it/s]\n",
      "Train classifier Epoch [39/50]:   0%|          | 0/261 [00:00<?, ?it/s]"
     ]
    },
    {
     "name": "stdout",
     "output_type": "stream",
     "text": [
      "VALIDATION : Autoencoder Loss: 0.0008, Classifier Loss: 0.8508,\n",
      " Accuracy patches: 85.3289 in 1520 input samples, Accuracy: 94.7368 in 38 input samples\n",
      "\n"
     ]
    },
    {
     "name": "stderr",
     "output_type": "stream",
     "text": [
      "Train classifier Epoch [39/50]: 100%|██████████| 261/261 [01:22<00:00,  3.17it/s]\n",
      "VALIDATION set:   0%|          | 0/38 [00:00<?, ?it/s]"
     ]
    },
    {
     "name": "stdout",
     "output_type": "stream",
     "text": [
      "TRAIN: Epoch [39/50], Autoencoder Loss: 0.0010, Classifier Loss: 0.7848, Accuracy: 95.6513 in 10440 input patches \n",
      "\n"
     ]
    },
    {
     "name": "stderr",
     "output_type": "stream",
     "text": [
      "VALIDATION set: 100%|██████████| 38/38 [00:12<00:00,  2.98it/s]\n",
      "Train classifier Epoch [40/50]:   0%|          | 0/261 [00:00<?, ?it/s]"
     ]
    },
    {
     "name": "stdout",
     "output_type": "stream",
     "text": [
      "VALIDATION : Autoencoder Loss: 0.0010, Classifier Loss: 0.8642,\n",
      " Accuracy patches: 82.8947 in 1520 input samples, Accuracy: 94.7368 in 38 input samples\n",
      "\n"
     ]
    },
    {
     "name": "stderr",
     "output_type": "stream",
     "text": [
      "Train classifier Epoch [40/50]: 100%|██████████| 261/261 [01:22<00:00,  3.16it/s]\n",
      "VALIDATION set:   0%|          | 0/38 [00:00<?, ?it/s]"
     ]
    },
    {
     "name": "stdout",
     "output_type": "stream",
     "text": [
      "TRAIN: Epoch [40/50], Autoencoder Loss: 0.0009, Classifier Loss: 0.7839, Accuracy: 95.8238 in 10440 input patches \n",
      "\n"
     ]
    },
    {
     "name": "stderr",
     "output_type": "stream",
     "text": [
      "VALIDATION set: 100%|██████████| 38/38 [00:12<00:00,  2.96it/s]\n",
      "Train classifier Epoch [41/50]:   0%|          | 0/261 [00:00<?, ?it/s]"
     ]
    },
    {
     "name": "stdout",
     "output_type": "stream",
     "text": [
      "VALIDATION : Autoencoder Loss: 0.0010, Classifier Loss: 0.8557,\n",
      " Accuracy patches: 84.6053 in 1520 input samples, Accuracy: 92.1053 in 38 input samples\n",
      "\n"
     ]
    },
    {
     "name": "stderr",
     "output_type": "stream",
     "text": [
      "Train classifier Epoch [41/50]: 100%|██████████| 261/261 [01:22<00:00,  3.16it/s]\n",
      "VALIDATION set:   0%|          | 0/38 [00:00<?, ?it/s]"
     ]
    },
    {
     "name": "stdout",
     "output_type": "stream",
     "text": [
      "TRAIN: Epoch [41/50], Autoencoder Loss: 0.0009, Classifier Loss: 0.7852, Accuracy: 95.6705 in 10440 input patches \n",
      "\n"
     ]
    },
    {
     "name": "stderr",
     "output_type": "stream",
     "text": [
      "VALIDATION set: 100%|██████████| 38/38 [00:12<00:00,  2.97it/s]\n",
      "Train classifier Epoch [42/50]:   0%|          | 0/261 [00:00<?, ?it/s]"
     ]
    },
    {
     "name": "stdout",
     "output_type": "stream",
     "text": [
      "VALIDATION : Autoencoder Loss: 0.0009, Classifier Loss: 0.8789,\n",
      " Accuracy patches: 80.8553 in 1520 input samples, Accuracy: 86.8421 in 38 input samples\n",
      "\n"
     ]
    },
    {
     "name": "stderr",
     "output_type": "stream",
     "text": [
      "Train classifier Epoch [42/50]: 100%|██████████| 261/261 [01:22<00:00,  3.15it/s]\n",
      "VALIDATION set:   0%|          | 0/38 [00:00<?, ?it/s]"
     ]
    },
    {
     "name": "stdout",
     "output_type": "stream",
     "text": [
      "TRAIN: Epoch [42/50], Autoencoder Loss: 0.0010, Classifier Loss: 0.7857, Accuracy: 95.6034 in 10440 input patches \n",
      "\n"
     ]
    },
    {
     "name": "stderr",
     "output_type": "stream",
     "text": [
      "VALIDATION set: 100%|██████████| 38/38 [00:12<00:00,  2.96it/s]\n",
      "Train classifier Epoch [43/50]:   0%|          | 0/261 [00:00<?, ?it/s]"
     ]
    },
    {
     "name": "stdout",
     "output_type": "stream",
     "text": [
      "VALIDATION : Autoencoder Loss: 0.0008, Classifier Loss: 0.8766,\n",
      " Accuracy patches: 80.7895 in 1520 input samples, Accuracy: 89.4737 in 38 input samples\n",
      "\n"
     ]
    },
    {
     "name": "stderr",
     "output_type": "stream",
     "text": [
      "Train classifier Epoch [43/50]: 100%|██████████| 261/261 [01:22<00:00,  3.17it/s]\n",
      "VALIDATION set:   0%|          | 0/38 [00:00<?, ?it/s]"
     ]
    },
    {
     "name": "stdout",
     "output_type": "stream",
     "text": [
      "TRAIN: Epoch [43/50], Autoencoder Loss: 0.0010, Classifier Loss: 0.7849, Accuracy: 95.5556 in 10440 input patches \n",
      "\n"
     ]
    },
    {
     "name": "stderr",
     "output_type": "stream",
     "text": [
      "VALIDATION set: 100%|██████████| 38/38 [00:12<00:00,  2.95it/s]\n",
      "Train classifier Epoch [44/50]:   0%|          | 0/261 [00:00<?, ?it/s]"
     ]
    },
    {
     "name": "stdout",
     "output_type": "stream",
     "text": [
      "VALIDATION : Autoencoder Loss: 0.0009, Classifier Loss: 0.9276,\n",
      " Accuracy patches: 73.7500 in 1520 input samples, Accuracy: 81.5789 in 38 input samples\n",
      "\n"
     ]
    },
    {
     "name": "stderr",
     "output_type": "stream",
     "text": [
      "Train classifier Epoch [44/50]: 100%|██████████| 261/261 [01:22<00:00,  3.16it/s]\n",
      "VALIDATION set:   0%|          | 0/38 [00:00<?, ?it/s]"
     ]
    },
    {
     "name": "stdout",
     "output_type": "stream",
     "text": [
      "TRAIN: Epoch [44/50], Autoencoder Loss: 0.0010, Classifier Loss: 0.7833, Accuracy: 96.0728 in 10440 input patches \n",
      "\n"
     ]
    },
    {
     "name": "stderr",
     "output_type": "stream",
     "text": [
      "VALIDATION set: 100%|██████████| 38/38 [00:12<00:00,  2.93it/s]\n",
      "Train classifier Epoch [45/50]:   0%|          | 0/261 [00:00<?, ?it/s]"
     ]
    },
    {
     "name": "stdout",
     "output_type": "stream",
     "text": [
      "VALIDATION : Autoencoder Loss: 0.0007, Classifier Loss: 0.9421,\n",
      " Accuracy patches: 70.9211 in 1520 input samples, Accuracy: 78.9474 in 38 input samples\n",
      "\n"
     ]
    },
    {
     "name": "stderr",
     "output_type": "stream",
     "text": [
      "Train classifier Epoch [45/50]: 100%|██████████| 261/261 [01:22<00:00,  3.15it/s]\n",
      "VALIDATION set:   0%|          | 0/38 [00:00<?, ?it/s]"
     ]
    },
    {
     "name": "stdout",
     "output_type": "stream",
     "text": [
      "TRAIN: Epoch [45/50], Autoencoder Loss: 0.0009, Classifier Loss: 0.7833, Accuracy: 95.8621 in 10440 input patches \n",
      "\n"
     ]
    },
    {
     "name": "stderr",
     "output_type": "stream",
     "text": [
      "VALIDATION set: 100%|██████████| 38/38 [00:12<00:00,  2.94it/s]\n",
      "Train classifier Epoch [46/50]:   0%|          | 0/261 [00:00<?, ?it/s]"
     ]
    },
    {
     "name": "stdout",
     "output_type": "stream",
     "text": [
      "VALIDATION : Autoencoder Loss: 0.0008, Classifier Loss: 0.8708,\n",
      " Accuracy patches: 81.7105 in 1520 input samples, Accuracy: 92.1053 in 38 input samples\n",
      "\n"
     ]
    },
    {
     "name": "stderr",
     "output_type": "stream",
     "text": [
      "Train classifier Epoch [46/50]: 100%|██████████| 261/261 [01:22<00:00,  3.15it/s]\n",
      "VALIDATION set:   0%|          | 0/38 [00:00<?, ?it/s]"
     ]
    },
    {
     "name": "stdout",
     "output_type": "stream",
     "text": [
      "TRAIN: Epoch [46/50], Autoencoder Loss: 0.0010, Classifier Loss: 0.7797, Accuracy: 96.4368 in 10440 input patches \n",
      "\n"
     ]
    },
    {
     "name": "stderr",
     "output_type": "stream",
     "text": [
      "VALIDATION set: 100%|██████████| 38/38 [00:12<00:00,  2.97it/s]\n",
      "Train classifier Epoch [47/50]:   0%|          | 0/261 [00:00<?, ?it/s]"
     ]
    },
    {
     "name": "stdout",
     "output_type": "stream",
     "text": [
      "VALIDATION : Autoencoder Loss: 0.0008, Classifier Loss: 0.8457,\n",
      " Accuracy patches: 85.7237 in 1520 input samples, Accuracy: 94.7368 in 38 input samples\n",
      "\n"
     ]
    },
    {
     "name": "stderr",
     "output_type": "stream",
     "text": [
      "Train classifier Epoch [47/50]: 100%|██████████| 261/261 [01:23<00:00,  3.14it/s]\n",
      "VALIDATION set:   0%|          | 0/38 [00:00<?, ?it/s]"
     ]
    },
    {
     "name": "stdout",
     "output_type": "stream",
     "text": [
      "TRAIN: Epoch [47/50], Autoencoder Loss: 0.0009, Classifier Loss: 0.7832, Accuracy: 95.9100 in 10440 input patches \n",
      "\n"
     ]
    },
    {
     "name": "stderr",
     "output_type": "stream",
     "text": [
      "VALIDATION set: 100%|██████████| 38/38 [00:12<00:00,  3.04it/s]\n",
      "Train classifier Epoch [48/50]:   0%|          | 0/261 [00:00<?, ?it/s]"
     ]
    },
    {
     "name": "stdout",
     "output_type": "stream",
     "text": [
      "VALIDATION : Autoencoder Loss: 0.0011, Classifier Loss: 0.8987,\n",
      " Accuracy patches: 77.5000 in 1520 input samples, Accuracy: 86.8421 in 38 input samples\n",
      "\n"
     ]
    },
    {
     "name": "stderr",
     "output_type": "stream",
     "text": [
      "Train classifier Epoch [48/50]: 100%|██████████| 261/261 [01:21<00:00,  3.19it/s]\n",
      "VALIDATION set:   0%|          | 0/38 [00:00<?, ?it/s]"
     ]
    },
    {
     "name": "stdout",
     "output_type": "stream",
     "text": [
      "TRAIN: Epoch [48/50], Autoencoder Loss: 0.0009, Classifier Loss: 0.7820, Accuracy: 96.0441 in 10440 input patches \n",
      "\n"
     ]
    },
    {
     "name": "stderr",
     "output_type": "stream",
     "text": [
      "VALIDATION set: 100%|██████████| 38/38 [00:12<00:00,  3.05it/s]\n",
      "Train classifier Epoch [49/50]:   0%|          | 0/261 [00:00<?, ?it/s]"
     ]
    },
    {
     "name": "stdout",
     "output_type": "stream",
     "text": [
      "VALIDATION : Autoencoder Loss: 0.0011, Classifier Loss: 0.9762,\n",
      " Accuracy patches: 66.1184 in 1520 input samples, Accuracy: 71.0526 in 38 input samples\n",
      "\n"
     ]
    },
    {
     "name": "stderr",
     "output_type": "stream",
     "text": [
      "Train classifier Epoch [49/50]: 100%|██████████| 261/261 [01:20<00:00,  3.23it/s]\n",
      "VALIDATION set:   0%|          | 0/38 [00:00<?, ?it/s]"
     ]
    },
    {
     "name": "stdout",
     "output_type": "stream",
     "text": [
      "TRAIN: Epoch [49/50], Autoencoder Loss: 0.0009, Classifier Loss: 0.7833, Accuracy: 95.8908 in 10440 input patches \n",
      "\n"
     ]
    },
    {
     "name": "stderr",
     "output_type": "stream",
     "text": [
      "VALIDATION set: 100%|██████████| 38/38 [00:12<00:00,  3.00it/s]\n",
      "Train classifier Epoch [50/50]:   0%|          | 0/261 [00:00<?, ?it/s]"
     ]
    },
    {
     "name": "stdout",
     "output_type": "stream",
     "text": [
      "VALIDATION : Autoencoder Loss: 0.0010, Classifier Loss: 0.9711,\n",
      " Accuracy patches: 67.1711 in 1520 input samples, Accuracy: 68.4211 in 38 input samples\n",
      "\n"
     ]
    },
    {
     "name": "stderr",
     "output_type": "stream",
     "text": [
      "Train classifier Epoch [50/50]: 100%|██████████| 261/261 [01:21<00:00,  3.21it/s]\n",
      "VALIDATION set:   0%|          | 0/38 [00:00<?, ?it/s]"
     ]
    },
    {
     "name": "stdout",
     "output_type": "stream",
     "text": [
      "TRAIN: Epoch [50/50], Autoencoder Loss: 0.0009, Classifier Loss: 0.7839, Accuracy: 95.8142 in 10440 input patches \n",
      "\n"
     ]
    },
    {
     "name": "stderr",
     "output_type": "stream",
     "text": [
      "VALIDATION set: 100%|██████████| 38/38 [00:12<00:00,  3.00it/s]"
     ]
    },
    {
     "name": "stdout",
     "output_type": "stream",
     "text": [
      "VALIDATION : Autoencoder Loss: 0.0009, Classifier Loss: 0.9175,\n",
      " Accuracy patches: 74.5395 in 1520 input samples, Accuracy: 92.1053 in 38 input samples\n",
      "\n"
     ]
    },
    {
     "name": "stderr",
     "output_type": "stream",
     "text": [
      "\n"
     ]
    }
   ],
   "source": [
    "#training or loading the results of a pretrained model\n",
    "if(not LOAD_MODEL):\n",
    "    results = train(train_dataloader,val_dataset) \n",
    "    np.save(os.path.join(models_dir,\"results.npy\"),results)\n",
    "    \n",
    "else: \n",
    "    results = np.load(os.path.join(models_dir,\"results.npy\"),allow_pickle=True)"
   ]
  },
  {
   "cell_type": "code",
   "execution_count": 26,
   "id": "96c6b347",
   "metadata": {},
   "outputs": [],
   "source": [
    "#always load the best model after the training\n",
    "autoencoder =  Autoencoder().to(device)\n",
    "autoencoder.load_state_dict(torch.load(os.path.join(models_dir,\"best_ae.pt\")))\n",
    "autoencoder.eval();"
   ]
  },
  {
   "cell_type": "markdown",
   "id": "f377ae02",
   "metadata": {},
   "source": [
    "### Plot of the losses and accuracy"
   ]
  },
  {
   "cell_type": "code",
   "execution_count": 27,
   "id": "693a5763",
   "metadata": {},
   "outputs": [],
   "source": [
    "train_ae = results[0][0]\n",
    "train_c = results[0][1]\n",
    "train_acc = results[0][2]\n",
    " \n",
    "val_ae = results[1][0]\n",
    "val_c = results[1][1]\n",
    "val_acc = results[1][2]\n",
    "\n",
    "best_epoch = results[2]"
   ]
  },
  {
   "cell_type": "code",
   "execution_count": 28,
   "id": "adc51dc5",
   "metadata": {},
   "outputs": [
    {
     "data": {
      "image/png": "[encoded data removed]",
      "text/plain": [
       "<Figure size 720x720 with 1 Axes>"
      ]
     },
     "metadata": {
      "needs_background": "light"
     },
     "output_type": "display_data"
    }
   ],
   "source": [
    "#generating the batch indexes\n",
    "batchID = np.array([i+1 for i in range(len(train_ae))])\n",
    "\n",
    "plt.figure(figsize=(10,10))\n",
    "\n",
    "#plotting the losses\n",
    "plt.plot(batchID,train_ae,label = \"Training loss autoencoder\")\n",
    "plt.plot(batchID,val_ae, label = \"Validation loss autoencoder\")\n",
    "plt.xlabel(\"Epoch\")\n",
    "plt.ylabel(\"MSE\")\n",
    "\n",
    "#showing the position of the best values\n",
    "plt.axvline(x = best_epoch, color = 'b', label = \"Max validation accuracy\")\n",
    "\n",
    "#adding the position of the best values in the x axis\n",
    "ticks = list(plt.xticks()[0]) \n",
    "ticks.extend([best_epoch])\n",
    "plt.xticks(ticks)\n",
    "plt.xlim(0,batchID.max()+1)\n",
    "\n",
    "plt.legend()\n",
    "\n",
    "#saving the figure\n",
    "#plt.savefig(\"Training_mse\")\n",
    "plt.show()"
   ]
  },
  {
   "cell_type": "code",
   "execution_count": 29,
   "id": "a6f27214",
   "metadata": {},
   "outputs": [
    {
     "data": {
      "image/png": "[encoded data removed]",
      "text/plain": [
       "<Figure size 720x720 with 1 Axes>"
      ]
     },
     "metadata": {
      "needs_background": "light"
     },
     "output_type": "display_data"
    }
   ],
   "source": [
    "plt.figure(figsize=(10,10))\n",
    "\n",
    "#plotting the losses\n",
    "plt.plot(batchID,train_c,label = \"Training loss classifier\")\n",
    "plt.plot(batchID,val_c, label = \"Validation loss classifier\")\n",
    "plt.xlabel(\"Epoch\")\n",
    "plt.ylabel(\"Cross entropy\")\n",
    "\n",
    "#showing the position of the best values\n",
    "plt.axvline(x = best_epoch, color = 'b', label = \"Max validation accuracy\")\n",
    "\n",
    "#adding the position of the best values in the x axis\n",
    "ticks = list(plt.xticks()[0]) \n",
    "ticks.extend([best_epoch])\n",
    "plt.xticks(ticks)\n",
    "plt.xlim(0,batchID.max()+1)\n",
    "plt.legend()\n",
    "\n",
    "#saving the figure\n",
    "#plt.savefig(\"Training_ce\")\n",
    "plt.show()"
   ]
  },
  {
   "cell_type": "code",
   "execution_count": 30,
   "id": "45b1ed40",
   "metadata": {},
   "outputs": [
    {
     "data": {
      "image/png": "[encoded data removed]",
      "text/plain": [
       "<Figure size 720x720 with 1 Axes>"
      ]
     },
     "metadata": {
      "needs_background": "light"
     },
     "output_type": "display_data"
    }
   ],
   "source": [
    "plt.figure(figsize=(10,10))\n",
    "\n",
    "#plotting the losses\n",
    "plt.plot(batchID,train_acc,label = \"Training accuracy\")\n",
    "plt.plot(batchID,val_acc, label = \"Validation accuracy \")\n",
    "plt.xlabel(\"Epoch\")\n",
    "plt.ylabel(\"Accuracy\")\n",
    "\n",
    "#showing the position of the best values\n",
    "plt.axvline(x = best_epoch, color = 'b', label = \"Max validation accuracy\")\n",
    "\n",
    "#adding the position of the best values in the x axis\n",
    "ticks = list(plt.xticks()[0]) \n",
    "ticks.extend([best_epoch])\n",
    "plt.xticks(ticks)\n",
    "plt.xlim(0,batchID.max()+1)\n",
    "plt.legend()\n",
    "\n",
    "#saving the figure\n",
    "#plt.savefig(\"Training_accuracy\")\n",
    "plt.show()"
   ]
  },
  {
   "cell_type": "markdown",
   "id": "44dcbf59",
   "metadata": {},
   "source": [
    "### Test"
   ]
  },
  {
   "cell_type": "markdown",
   "id": "17494b39",
   "metadata": {},
   "source": [
    "Notice that the value of the losses and the accuracy for the train set are computed during the training, so they are not very accurate."
   ]
  },
  {
   "cell_type": "code",
   "execution_count": 31,
   "id": "3a4bfdd8",
   "metadata": {},
   "outputs": [],
   "source": [
    "train_dir = os.path.join(data_dir,\"train\",\"images\")#images\n",
    "train_dir_patches = os.path.join(data_dir,\"train\",\"images_patch\")#patches\n",
    "train_labels_dir = os.path.join(data_dir,\"train\",\"labels\",\"train.json\")\n",
    "with open(train_labels_dir) as f:\n",
    "    train_labels = json.load(f)#labels\n",
    "\n",
    "train_dataset = HDAdatasetPatches(train_dir,train_dir_patches,train_labels,train = False,\n",
    "                          transform=None,grayscale=grayscale,fft=fft)"
   ]
  },
  {
   "cell_type": "code",
   "execution_count": 32,
   "id": "641cfb21",
   "metadata": {},
   "outputs": [
    {
     "name": "stderr",
     "output_type": "stream",
     "text": [
      "TRAIN set: 100%|██████████| 261/261 [01:45<00:00,  2.47it/s]\n"
     ]
    },
    {
     "name": "stdout",
     "output_type": "stream",
     "text": [
      "TRAIN : Autoencoder Loss: 0.0008, Classifier Loss: 0.7916,\n",
      " Accuracy patches: 94.4444 in 10440 input samples, Accuracy: 98.8506 in 261 input samples\n",
      "\n"
     ]
    },
    {
     "name": "stderr",
     "output_type": "stream",
     "text": [
      "VALIDATION set: 100%|██████████| 38/38 [00:12<00:00,  3.03it/s]\n",
      "TEST set:   0%|          | 0/75 [00:00<?, ?it/s]"
     ]
    },
    {
     "name": "stdout",
     "output_type": "stream",
     "text": [
      "VALIDATION : Autoencoder Loss: 0.0009, Classifier Loss: 0.8475,\n",
      " Accuracy patches: 86.0526 in 1520 input samples, Accuracy: 97.3684 in 38 input samples\n",
      "\n"
     ]
    },
    {
     "name": "stderr",
     "output_type": "stream",
     "text": [
      "TEST set: 100%|██████████| 75/75 [00:27<00:00,  2.76it/s]"
     ]
    },
    {
     "name": "stdout",
     "output_type": "stream",
     "text": [
      "TEST : Autoencoder Loss: 0.0008, Classifier Loss: 0.8630,\n",
      " Accuracy patches: 82.8333 in 3000 input samples, Accuracy: 85.3333 in 75 input samples\n",
      "\n"
     ]
    },
    {
     "name": "stderr",
     "output_type": "stream",
     "text": [
      "\n"
     ]
    }
   ],
   "source": [
    "test(train_dataset,\"TRAIN\")\n",
    "test(val_dataset,\"VALIDATION\")\n",
    "test(test_dataset,\"TEST\");"
   ]
  },
  {
   "cell_type": "code",
   "execution_count": null,
   "id": "d34a6b3d",
   "metadata": {},
   "outputs": [],
   "source": []
  }
 ],
 "metadata": {
  "kernelspec": {
   "display_name": "Python 3",
   "language": "python",
   "name": "python3"
  },
  "language_info": {
   "codemirror_mode": {
    "name": "ipython",
    "version": 3
   },
   "file_extension": ".py",
   "mimetype": "text/x-python",
   "name": "python",
   "nbconvert_exporter": "python",
   "pygments_lexer": "ipython3",
   "version": "3.8.8"
  }
 },
 "nbformat": 4,
 "nbformat_minor": 5
}
