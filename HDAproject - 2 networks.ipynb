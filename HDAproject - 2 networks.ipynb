{
 "cells": [
  {
   "cell_type": "markdown",
   "id": "b37b31e6",
   "metadata": {},
   "source": [
    "## Initial configuration"
   ]
  },
  {
   "cell_type": "code",
   "execution_count": 1,
   "id": "41ab6c4f",
   "metadata": {},
   "outputs": [],
   "source": [
    "import numpy as np\n",
    "import os\n",
    "from sklearn.model_selection import train_test_split\n",
    "import cv2\n",
    "import gc\n",
    "from tqdm import tqdm,trange\n",
    "\n",
    "import torch\n",
    "from torchsummary import summary\n",
    "from PIL import Image\n",
    "from torch.utils.data import Dataset, DataLoader\n",
    "\n",
    "import torch.nn as nn\n",
    "import torchvision.transforms as transforms\n",
    "from torch.utils.data import DataLoader\n",
    "from torch.autograd import Variable\n",
    "import torch.optim as optim\n",
    "import matplotlib.pyplot as plt\n",
    "\n",
    "import urllib.request\n",
    "import zipfile\n",
    "import json"
   ]
  },
  {
   "cell_type": "code",
   "execution_count": 2,
   "id": "329a92cb",
   "metadata": {},
   "outputs": [],
   "source": [
    "#Usefull for better outputs visualization\n",
    "PURPLE = \"\\033[95m\"\n",
    "CYAN = \"\\033[96m\"\n",
    "DARKCYAN = \"\\033[36m\"\n",
    "BLUE = \"\\033[94m\"\n",
    "GREEN = \"\\033[92m\"\n",
    "YELLOW = \"\\033[93m\"\n",
    "RED = \"\\033[91m\"\n",
    "BOLD = \"\\033[1m\"\n",
    "UNDERLINE = \"\\033[4m\"\n",
    "END = \"\\033[0m\""
   ]
  },
  {
   "cell_type": "markdown",
   "id": "7564cc00",
   "metadata": {},
   "source": [
    "### Project settings"
   ]
  },
  {
   "cell_type": "code",
   "execution_count": 3,
   "id": "8b42f643",
   "metadata": {},
   "outputs": [],
   "source": [
    "data_dir_unsplitted = \"dataset/unsplitted\"\n",
    "save_dir_splitted = \"dataset/splitted\"\n",
    "data_dir = \"dataset/splitted\"\n",
    "models_dir =\"models/\" #the resuls will be saved here\n",
    "\n",
    "os.makedirs(models_dir,exist_ok=True)\n",
    "\n",
    "grayscale= True\n",
    "resize_to= (694,520)\n",
    "fft = True\n",
    "\n",
    "learning_rate_e = 0.001\n",
    "learning_rate_d = 0.001\n",
    "#learning_rate_c = 0.00001\n",
    "num_epochs = 50\n",
    "\n",
    "\n",
    "#@DEPRECATED VARIABLE\n",
    "ALREADY_SPLITTED = True #-> we will use only \"LOAD_DATASET\"\n",
    "\n",
    "\n",
    "LOAD_DATASET = True #if true \"ALREADY_SPLITTED\" is ignored\n",
    "\n",
    "#to be implemented:\n",
    "\n",
    "DATASET_ALREADY_DOWNLOADED = True \n",
    "DATASET_ALREADY_UNZIPPED = True\n",
    "\n",
    "LOAD_MODEL = False \n",
    "MODEL_ALREADY_DOWNLOADED = True "
   ]
  },
  {
   "cell_type": "markdown",
   "id": "c4b6f851",
   "metadata": {},
   "source": [
    "## Dataset preparation"
   ]
  },
  {
   "cell_type": "markdown",
   "id": "07b1385d",
   "metadata": {},
   "source": [
    "### Dataset splitting and data augmentation"
   ]
  },
  {
   "cell_type": "code",
   "execution_count": 4,
   "id": "a30151b8",
   "metadata": {},
   "outputs": [],
   "source": [
    "classes = [\"CLL\", \"FL\", \"MCL\"]\n",
    "id_to_name = {0:\"CLL\",1:\"FL\",2:\"MCL\"}\n",
    "\n",
    "if(not LOAD_DATASET):\n",
    "    data = []\n",
    "    labels = []\n",
    "    for i, cl in enumerate(classes):\n",
    "        path = os.path.join(data_dir_unsplitted, cl)\n",
    "        images = os.listdir(path)\n",
    "        for img in tqdm(images,desc=cl):\n",
    "            img_path = os.path.join(path, img)\n",
    "            img = cv2.imread(img_path).astype(np.uint8)\n",
    "            \n",
    "            data.append(img)\n",
    "            labels.append(i) \n",
    "\n",
    "\n",
    "    data = np.array(data)\n",
    "    labels = np.array(labels)\n",
    "\n",
    "\n",
    "    train_data, test_data, train_labels, test_labels = train_test_split(data, labels, test_size=0.2, random_state=42)\n",
    "\n",
    "\n",
    "    train_data, val_data, train_labels, val_labels = train_test_split(train_data, train_labels, test_size=0.125, random_state=42)\n",
    "\n",
    "    print(\"Train samples:\", len(train_data))\n",
    "    print(\"Test samples:\", len(test_data))\n",
    "    print(\"Validation samples:\", len(val_data))"
   ]
  },
  {
   "cell_type": "markdown",
   "id": "2e17f646",
   "metadata": {},
   "source": [
    "### Saving the splitted dataset"
   ]
  },
  {
   "cell_type": "code",
   "execution_count": 5,
   "id": "fd4d2b3e",
   "metadata": {},
   "outputs": [],
   "source": [
    "#SAVING THE DATASET\n",
    "if(not LOAD_DATASET):\n",
    "    #TRAIN\n",
    "    os.makedirs(os.path.join(save_dir_splitted,\"train\",\"images\"),exist_ok=True)\n",
    "    os.makedirs(os.path.join(save_dir_splitted,\"train\",\"labels\"),exist_ok=True)\n",
    "\n",
    "     \n",
    "    labels_train_augmented={}\n",
    "    for i, image in enumerate(tqdm(train_data,desc = \"Train\")):                       #images\n",
    "        file_name = str(i)+\"_train\"+\".png\"\n",
    "        \n",
    "        path = os.path.join(save_dir_splitted,\"train\",\"images\",file_name)\n",
    "        labels_train_augmented[file_name] = int(train_labels[i])\n",
    "        cv2.imwrite(path,image.astype(np.float64))\n",
    "        \n",
    "        #flipping\n",
    "        flipped_img = np.fliplr(image)\n",
    "        \n",
    "        file_name = str(i)+\"_flippend_train\"+\".png\"\n",
    "        path = os.path.join(save_dir_splitted,\"train\",\"images\",file_name)\n",
    "        labels_train_augmented[file_name] = int(train_labels[i])\n",
    "        cv2.imwrite(path,flipped_img.astype(np.float64))\n",
    "        \n",
    "        #gaussian noise\n",
    "        noise = np.random.normal(0, 5, img.shape).astype(np.uint8)\n",
    "        noisy_image = image.astype(np.uint8) + noise\n",
    "        \n",
    "        file_name = str(i)+\"_noisy_train\"+\".png\"\n",
    "        path = os.path.join(save_dir_splitted,\"train\",\"images\",file_name)\n",
    "        labels_train_augmented[file_name] = int(train_labels[i])\n",
    "        cv2.imwrite(path,noisy_image.astype(np.float64))\n",
    "    \n",
    "    with open(os.path.join(save_dir_splitted,\"train\",\"labels\",\"train.json\"), 'w') as f:\n",
    "        json.dump(labels_train_augmented, f)#labels\n",
    "\n",
    "    #TEST\n",
    "    os.makedirs(os.path.join(save_dir_splitted,\"test\",\"images\"),exist_ok=True)\n",
    "    os.makedirs(os.path.join(save_dir_splitted,\"test\",\"labels\"),exist_ok=True)\n",
    "\n",
    "    \n",
    "    \n",
    "    test_labels_dict = {}\n",
    "    for i, image in enumerate(tqdm(test_data,desc = \"Test\")):                      #images\n",
    "        file_name = str(i)+\"_test\"+\".png\"\n",
    "        path = os.path.join(save_dir_splitted,\"test\",\"images\",file_name)\n",
    "        \n",
    "        cv2.imwrite(path,image.astype(np.float64))\n",
    "        test_labels_dict[file_name] = int(test_labels[i]) \n",
    "\n",
    "    with open(os.path.join(save_dir_splitted,\"test\",\"labels\",\"test.json\"), 'w') as f:\n",
    "        json.dump(test_labels_dict, f)#labels\n",
    "        \n",
    "    #VALIDATION\n",
    "    os.makedirs(os.path.join(save_dir_splitted,\"val\",\"images\"),exist_ok=True)\n",
    "    os.makedirs(os.path.join(save_dir_splitted,\"val\",\"labels\"),exist_ok=True)\n",
    "\n",
    "    \n",
    "    \n",
    "    val_labels_dict = {}\n",
    "    for i, image in enumerate(tqdm(val_data,desc = \"Validation\")):               #images\n",
    "        file_name = str(i)+\"_val\"+\".png\"\n",
    "        path = os.path.join(save_dir_splitted,\"val\",\"images\",file_name)\n",
    "        \n",
    "        cv2.imwrite(path,image.astype(np.float64))\n",
    "        val_labels_dict[file_name] = int(val_labels[i])\n",
    "        \n",
    "    with open(os.path.join(save_dir_splitted,\"val\",\"labels\",\"val.json\"), 'w') as f:\n",
    "        json.dump(val_labels_dict, f)#labels"
   ]
  },
  {
   "cell_type": "markdown",
   "id": "ab21346c",
   "metadata": {},
   "source": [
    "### Dataloaders definition"
   ]
  },
  {
   "cell_type": "markdown",
   "id": "a6a1b860",
   "metadata": {},
   "source": [
    "Notice that the labels are saved into a numpy array, while the images are read directly from the folder"
   ]
  },
  {
   "cell_type": "code",
   "execution_count": 6,
   "id": "9cb6438f",
   "metadata": {},
   "outputs": [],
   "source": [
    "class HDAdataset(Dataset):\n",
    "    def __init__(self, root_dir, labels, train = False, transform=None, grayscale= False, resize_to= None, fft = False):\n",
    "        self.root_dir = root_dir\n",
    "        self.labels = labels\n",
    "        self.transform = transform\n",
    "        self.train = train\n",
    "        self.grayscale=grayscale\n",
    "        self.fft = fft\n",
    "        self.resize_to = resize_to\n",
    "\n",
    "    def __len__(self):\n",
    "        return len(os.listdir(self.root_dir))\n",
    "\n",
    "    def __getitem__(self, idx):\n",
    "        img_name = os.listdir(self.root_dir)[idx]\n",
    "        img_path = os.path.join(self.root_dir, img_name)\n",
    "        \n",
    "        if self.grayscale or self.fft:\n",
    "            image = cv2.imread(img_path,cv2.IMREAD_GRAYSCALE)\n",
    "        \n",
    "        if self.train:\n",
    "            image = image.astype(np.uint8) + np.random.normal(0, 2, image.shape).astype(np.uint8)\n",
    "        \n",
    "        if self.resize_to is not None:\n",
    "            image = cv2.resize(image, resize_to, interpolation= cv2.INTER_LINEAR)\n",
    "            \n",
    "        if self.fft:\n",
    "            image_fft = np.fft.fft2(image)\n",
    "            fshift = np.fft.fftshift(image_fft)\n",
    "            magnitude_spectrum = 20*np.log(np.abs(fshift))\n",
    "            image_fft = magnitude_spectrum\n",
    "        \n",
    "\n",
    "        \n",
    "        #labels smoothing\n",
    "        label = 0.1*np.ones(3)\n",
    "        label[self.labels[img_name]] = 0.8\n",
    "        \n",
    "        if self.transform:\n",
    "            image = self.transform((image/255.).astype(np.float32))\n",
    "            image_fft = self.transform((image_fft/255.).astype(np.float32))\n",
    "\n",
    "        return image,image_fft, label"
   ]
  },
  {
   "cell_type": "code",
   "execution_count": 7,
   "id": "26887536",
   "metadata": {},
   "outputs": [],
   "source": [
    "if(LOAD_DATASET and not DATASET_ALREADY_DOWNLOADED):\n",
    "    print(\"download the dataset\")\n",
    "    urllib.request.urlretrieve(\"\", \"dataset.zip\")\n",
    "    \n",
    "if(LOAD_DATASET and not DATASET_ALREADY_UNZIPPED):\n",
    "    with zipfile.ZipFile(\"dataset.zip\", 'r') as zip_ref:\n",
    "        zip_ref.extractall(\"./dataset/\")\n",
    "\n",
    "\n",
    "#convert to tensor each image\n",
    "transform = transforms.Compose([transforms.ToTensor()])    \n",
    "\n",
    "#TRAIN DATASET AND DATALOADER\n",
    "train_dir = os.path.join(data_dir,\"train\",\"images\")#images\n",
    "train_labels_dir = os.path.join(data_dir,\"train\",\"labels\",\"train.json\")\n",
    "with open(train_labels_dir) as f:\n",
    "    train_labels = json.load(f)#labels\n",
    "\n",
    "train_dataset = HDAdataset(train_dir,train_labels,train = False,grayscale = grayscale, resize_to= resize_to,\n",
    "                           transform=transform,fft = fft)\n",
    "train_dataloader = DataLoader(train_dataset, batch_size=10, shuffle=True,drop_last=True)\n",
    "\n",
    "#TEST DATASET AND DATALOADER\n",
    "test_dir = os.path.join(data_dir,\"test\",\"images\")#images\n",
    "test_labels_dir = os.path.join(data_dir,\"test\",\"labels\",\"test.json\")\n",
    "with open(test_labels_dir) as f:\n",
    "    test_labels = json.load(f)#labels\n",
    "\n",
    "test_dataset = HDAdataset(test_dir,test_labels,train = False,grayscale = grayscale, resize_to= resize_to,\n",
    "                           transform=transform,fft = fft)\n",
    "test_dataloader = DataLoader(test_dataset, batch_size=10, shuffle=False)\n",
    "\n",
    "#VALIDATION DATASET AND DATALOADER\n",
    "val_dir = os.path.join(data_dir,\"val\",\"images\")#images\n",
    "\n",
    "val_labels_dir = os.path.join(data_dir,\"val\",\"labels\",\"val.json\")\n",
    "with open(val_labels_dir) as f:\n",
    "    val_labels = json.load(f)#labels\n",
    "\n",
    "val_dataset = HDAdataset(val_dir,val_labels,train = False,grayscale = grayscale, resize_to= resize_to,\n",
    "                           transform=transform,fft = fft)\n",
    "val_dataloader = DataLoader(val_dataset, batch_size=10, shuffle=False)"
   ]
  },
  {
   "cell_type": "markdown",
   "id": "6ae5599d",
   "metadata": {},
   "source": [
    "## Neural network"
   ]
  },
  {
   "cell_type": "code",
   "execution_count": 8,
   "id": "915f464f",
   "metadata": {},
   "outputs": [
    {
     "data": {
      "text/plain": [
       "0"
      ]
     },
     "execution_count": 8,
     "metadata": {},
     "output_type": "execute_result"
    }
   ],
   "source": [
    "torch.cuda.empty_cache()\n",
    "gc.collect()"
   ]
  },
  {
   "cell_type": "markdown",
   "id": "a684cf15",
   "metadata": {},
   "source": [
    "### Models definition"
   ]
  },
  {
   "cell_type": "code",
   "execution_count": 9,
   "id": "f54470d5",
   "metadata": {},
   "outputs": [],
   "source": [
    "class Rgb(nn.Module):\n",
    "    def __init__(self):\n",
    "        super(Rgb, self).__init__()\n",
    "        \n",
    "        self.features_extraction = nn.Sequential(\n",
    "            nn.Conv2d(in_channels=1, out_channels=16, kernel_size=(4,4), stride=(4,4), padding=(1,1)),\n",
    "            \n",
    "            nn.BatchNorm2d(16),\n",
    "            nn.LeakyReLU(),\n",
    "            nn.Dropout(p=0.1),\n",
    "            nn.Conv2d(in_channels=16, out_channels=32, kernel_size=(4,4), stride=(4,4), padding=(1,1)),\n",
    "           \n",
    "            nn.BatchNorm2d(32),\n",
    "            nn.LeakyReLU(),\n",
    "            nn.Dropout(p=0.1),\n",
    "            nn.Conv2d(in_channels=32, out_channels=64, kernel_size=(4,4), stride=(4,4), padding=(1,1)),\n",
    "            \n",
    "            nn.BatchNorm2d(64),\n",
    "            nn.LeakyReLU(),\n",
    "            nn.Flatten(),\n",
    "            nn.LeakyReLU(),\n",
    "            nn.Dropout(p=0.1),\n",
    "            nn.Linear(5632,1000),\n",
    "            nn.BatchNorm1d(1000),\n",
    "            nn.LeakyReLU(),\n",
    "            nn.Dropout(p=0.1),\n",
    "            nn.Linear(1000,200),\n",
    "            nn.LeakyReLU()\n",
    "        )\n",
    "\n",
    "    def forward(self, x):\n",
    "        x = self.features_extraction(x)\n",
    "        return x\n",
    "    \n",
    "class Fft(nn.Module):\n",
    "    def __init__(self):\n",
    "        super(Fft, self).__init__()\n",
    "        \n",
    "        self.features_extraction = nn.Sequential(\n",
    "            nn.Conv2d(in_channels=1, out_channels=16, kernel_size=(4,4), stride=(4,4), padding=(1,1)),\n",
    "            \n",
    "            nn.BatchNorm2d(16),\n",
    "            nn.LeakyReLU(),\n",
    "            nn.Dropout(p=0.1),\n",
    "            nn.Conv2d(in_channels=16, out_channels=32, kernel_size=(4,4), stride=(4,4), padding=(1,1)),\n",
    "            \n",
    "            nn.BatchNorm2d(32),\n",
    "            nn.LeakyReLU(),\n",
    "            nn.Dropout(p=0.1),\n",
    "            nn.Conv2d(in_channels=32, out_channels=64, kernel_size=(4,4), stride=(4,4), padding=(1,1)),\n",
    "            \n",
    "            nn.BatchNorm2d(64),\n",
    "            nn.LeakyReLU(),\n",
    "            nn.Flatten(),\n",
    "            nn.LeakyReLU(),\n",
    "            nn.Dropout(p=0.1),\n",
    "            nn.Linear(5632,1000),\n",
    "            nn.BatchNorm1d(1000),\n",
    "            nn.LeakyReLU(),\n",
    "            nn.Dropout(p=0.1),\n",
    "            nn.Linear(1000,200),\n",
    "            nn.LeakyReLU()\n",
    "        )\n",
    "\n",
    "    def forward(self, x):\n",
    "        x = self.features_extraction(x)\n",
    "        return x\n",
    "    \n",
    "    \n",
    "    \n",
    "class Classifier(nn.Module):\n",
    "    def __init__(self,rgb,fft):\n",
    "        super(Classifier, self).__init__()\n",
    "\n",
    "        self.rgb = rgb\n",
    "        self.fft = fft\n",
    "        self.classifier = nn.Sequential(\n",
    "            nn.Linear(400,200),\n",
    "            nn.BatchNorm1d(200),\n",
    "            nn.LeakyReLU(),\n",
    "            nn.Dropout(p=0.1),\n",
    "            nn.Linear(200,50),\n",
    "            nn.BatchNorm1d(50),\n",
    "            nn.LeakyReLU(),\n",
    "            nn.Dropout(p=0.1),\n",
    "            nn.Linear(50,3),\n",
    "            nn.Softmax(dim=1)\n",
    "        )\n",
    "\n",
    "    def forward(self, x,x_fft):\n",
    "        x1 = self.rgb(x)\n",
    "        x2 = self.fft(x_fft)\n",
    "        x = torch.cat((x1,x2), 1)\n",
    "        x = self.classifier(x)\n",
    "\n",
    "        return x\n"
   ]
  },
  {
   "cell_type": "code",
   "execution_count": 10,
   "id": "f2c567e1",
   "metadata": {},
   "outputs": [
    {
     "name": "stdout",
     "output_type": "stream",
     "text": [
      "\u001b[1mYou are working on: \u001b[0mcuda\n"
     ]
    }
   ],
   "source": [
    "device = torch.device(\"cuda\" if torch.cuda.is_available() else \"cpu\")\n",
    "print(BOLD+\"You are working on: \"+END+str(device))"
   ]
  },
  {
   "cell_type": "markdown",
   "id": "689f5a37",
   "metadata": {},
   "source": [
    "### Loading of the models"
   ]
  },
  {
   "cell_type": "code",
   "execution_count": 11,
   "id": "9139a620",
   "metadata": {},
   "outputs": [],
   "source": [
    "if(LOAD_MODEL and not MODEL_ALREADY_DOWNLOADED):\n",
    "    print(\"download the model\")"
   ]
  },
  {
   "cell_type": "code",
   "execution_count": 12,
   "id": "c6460ebe",
   "metadata": {},
   "outputs": [],
   "source": [
    "if(not LOAD_MODEL):\n",
    "    rgb = Rgb().to(device)\n",
    "    fft = Fft().to(device)\n",
    "    classifier = Classifier(rgb,fft).to(device)"
   ]
  },
  {
   "cell_type": "code",
   "execution_count": 13,
   "id": "d1214cf5",
   "metadata": {},
   "outputs": [
    {
     "name": "stdout",
     "output_type": "stream",
     "text": [
      "----------------------------------------------------------------\n",
      "        Layer (type)               Output Shape         Param #\n",
      "================================================================\n",
      "            Conv2d-1          [3, 16, 130, 174]             272\n",
      "       BatchNorm2d-2          [3, 16, 130, 174]              32\n",
      "         LeakyReLU-3          [3, 16, 130, 174]               0\n",
      "           Dropout-4          [3, 16, 130, 174]               0\n",
      "            Conv2d-5            [3, 32, 33, 44]           8,224\n",
      "       BatchNorm2d-6            [3, 32, 33, 44]              64\n",
      "         LeakyReLU-7            [3, 32, 33, 44]               0\n",
      "           Dropout-8            [3, 32, 33, 44]               0\n",
      "            Conv2d-9             [3, 64, 8, 11]          32,832\n",
      "      BatchNorm2d-10             [3, 64, 8, 11]             128\n",
      "        LeakyReLU-11             [3, 64, 8, 11]               0\n",
      "          Flatten-12                  [3, 5632]               0\n",
      "        LeakyReLU-13                  [3, 5632]               0\n",
      "          Dropout-14                  [3, 5632]               0\n",
      "           Linear-15                  [3, 1000]       5,633,000\n",
      "      BatchNorm1d-16                  [3, 1000]           2,000\n",
      "        LeakyReLU-17                  [3, 1000]               0\n",
      "          Dropout-18                  [3, 1000]               0\n",
      "           Linear-19                   [3, 200]         200,200\n",
      "        LeakyReLU-20                   [3, 200]               0\n",
      "              Rgb-21                   [3, 200]               0\n",
      "           Conv2d-22          [3, 16, 130, 174]             272\n",
      "      BatchNorm2d-23          [3, 16, 130, 174]              32\n",
      "        LeakyReLU-24          [3, 16, 130, 174]               0\n",
      "          Dropout-25          [3, 16, 130, 174]               0\n",
      "           Conv2d-26            [3, 32, 33, 44]           8,224\n",
      "      BatchNorm2d-27            [3, 32, 33, 44]              64\n",
      "        LeakyReLU-28            [3, 32, 33, 44]               0\n",
      "          Dropout-29            [3, 32, 33, 44]               0\n",
      "           Conv2d-30             [3, 64, 8, 11]          32,832\n",
      "      BatchNorm2d-31             [3, 64, 8, 11]             128\n",
      "        LeakyReLU-32             [3, 64, 8, 11]               0\n",
      "          Flatten-33                  [3, 5632]               0\n",
      "        LeakyReLU-34                  [3, 5632]               0\n",
      "          Dropout-35                  [3, 5632]               0\n",
      "           Linear-36                  [3, 1000]       5,633,000\n",
      "      BatchNorm1d-37                  [3, 1000]           2,000\n",
      "        LeakyReLU-38                  [3, 1000]               0\n",
      "          Dropout-39                  [3, 1000]               0\n",
      "           Linear-40                   [3, 200]         200,200\n",
      "        LeakyReLU-41                   [3, 200]               0\n",
      "              Fft-42                   [3, 200]               0\n",
      "           Linear-43                   [3, 200]          80,200\n",
      "      BatchNorm1d-44                   [3, 200]             400\n",
      "        LeakyReLU-45                   [3, 200]               0\n",
      "          Dropout-46                   [3, 200]               0\n",
      "           Linear-47                    [3, 50]          10,050\n",
      "      BatchNorm1d-48                    [3, 50]             100\n",
      "        LeakyReLU-49                    [3, 50]               0\n",
      "          Dropout-50                    [3, 50]               0\n",
      "           Linear-51                     [3, 3]             153\n",
      "          Softmax-52                     [3, 3]               0\n",
      "================================================================\n",
      "Total params: 11,844,407\n",
      "Trainable params: 11,844,407\n",
      "Non-trainable params: 0\n",
      "----------------------------------------------------------------\n",
      "Input size (MB): 529.86\n",
      "Forward/backward pass size (MB): 76.56\n",
      "Params size (MB): 45.18\n",
      "Estimated Total Size (MB): 651.60\n",
      "----------------------------------------------------------------\n"
     ]
    },
    {
     "name": "stderr",
     "output_type": "stream",
     "text": [
      "C:\\Users\\Gianpietro\\anaconda3\\lib\\site-packages\\torchsummary\\torchsummary.py:100: RuntimeWarning: overflow encountered in long_scalars\n",
      "  total_input_size = abs(np.prod(input_size) * batch_size * 4. / (1024 ** 2.))\n"
     ]
    }
   ],
   "source": [
    "summary(classifier, [(1, 520, 694),(1, 520, 694)],batch_size=3)\n"
   ]
  },
  {
   "cell_type": "markdown",
   "id": "931580de",
   "metadata": {},
   "source": [
    "### Training "
   ]
  },
  {
   "cell_type": "code",
   "execution_count": 14,
   "id": "9b91a23a",
   "metadata": {},
   "outputs": [],
   "source": [
    "def test(dataloader,name):\n",
    "    \n",
    "    losses = []\n",
    "\n",
    "    count_correct = 0\n",
    "    count_input = 0\n",
    "\n",
    "    classifier.eval()\n",
    "    \n",
    "    for data in tqdm(dataloader,desc = name +\" set\"):\n",
    "\n",
    "        img,img_fft, labels = data\n",
    "        img = img.to(device)\n",
    "        labels = labels.to(device)\n",
    "        img_fft = img_fft.to(device)\n",
    "\n",
    "\n",
    "        pred_labels = classifier(img,img_fft)\n",
    "\n",
    "\n",
    "        classifier_loss = criterion_classifier(pred_labels, labels)\n",
    "        \n",
    "        losses.append(classifier_loss.detach().cpu().numpy())\n",
    "\n",
    "        count_input+=pred_labels.detach().cpu().numpy().shape[0]\n",
    "        count_correct+=np.sum((labels.to(\"cpu\").detach().numpy().argmax(axis=1)==pred_labels.to(\"cpu\").detach().numpy().argmax(axis=1)))\n",
    "        del img\n",
    "        del labels\n",
    "        torch.cuda.empty_cache()\n",
    "        gc.collect();\n",
    "\n",
    "    # Print loss at end of each epoch\n",
    "    accuracy= (count_correct/count_input)*100.\n",
    "    print(name,' Classifier Loss: %.4f, Accuracy: %.4f in %d input samples\\n'\n",
    "      % (np.mean(losses),accuracy,count_input))\n",
    "    \n",
    "    return np.mean(losses),accuracy"
   ]
  },
  {
   "cell_type": "code",
   "execution_count": 15,
   "id": "17514270",
   "metadata": {},
   "outputs": [],
   "source": [
    "criterion_classifier = nn.CrossEntropyLoss()\n",
    "\n",
    "def train(train_dataloader,val_dataloader):\n",
    "    optimizer = optim.Adam(classifier.parameters(), lr=learning_rate_e,weight_decay=1e-2)\n",
    "\n",
    "\n",
    "    \n",
    "    \n",
    "    best_epoch = 0 #(based on the validation accuracy)\n",
    "    best_accuracy = -np.inf\n",
    "    \n",
    "    #for plotting\n",
    "    train_loss_trend = []\n",
    "    train_accuracy_trend =[]\n",
    "    val_loss_trend = []\n",
    "    val_accuracy_trend = []\n",
    "\n",
    "    \n",
    "    for epoch in range(num_epochs):\n",
    "\n",
    "        ######training#####\n",
    "        losses = []\n",
    "        count_correct = 0\n",
    "        count_input = 0\n",
    "\n",
    "        classifier.train()\n",
    "            \n",
    "\n",
    "        #train classifier for one epoch    \n",
    "        for data in tqdm(train_dataloader,desc = \"Train classifier Epoch [%d/%d]\"%(epoch+1,num_epochs)):\n",
    " \n",
    "            img,img_fft, labels = data\n",
    "            img = img.to(device)\n",
    "            labels = labels.to(device)\n",
    "            img_fft = img_fft.to(device)\n",
    "            optimizer.zero_grad()\n",
    "            \n",
    "\n",
    "            pred_labels= classifier(img,img_fft)\n",
    "            \n",
    "\n",
    "            classifier_loss = criterion_classifier(pred_labels, labels)\n",
    "\n",
    "            classifier_loss.backward()\n",
    "            \n",
    "            losses.append(classifier_loss.detach().cpu().numpy())\n",
    "\n",
    "            count_input+=pred_labels.detach().cpu().numpy().shape[0]\n",
    "            count_correct+=np.sum((labels.to(\"cpu\").detach().numpy().argmax(axis=1)==pred_labels.to(\"cpu\").detach().numpy().argmax(axis=1)))\n",
    "            del img\n",
    "            del labels\n",
    "            torch.cuda.empty_cache()\n",
    "            gc.collect();\n",
    "            \n",
    "        accuracy = (count_correct/count_input)*100.\n",
    "        \n",
    "        print('TRAIN: Epoch [%d/%d], Classifier Loss: %.4f, Accuracy: %.4f in %d input samples \\n'\n",
    "              % (epoch+1, num_epochs,np.mean(losses),accuracy,count_input))\n",
    "        \n",
    "        train_loss_trend.append(np.mean(losses))\n",
    "        train_accuracy_trend.append(accuracy)\n",
    "        \n",
    "        ######validation######\n",
    "        l,acc = test(val_dataloader,\"VALIDATION\")\n",
    "        \n",
    "        val_loss_trend.append(l)\n",
    "        val_accuracy_trend.append(acc)\n",
    "        \n",
    "        if acc > best_accuracy:\n",
    "            print(GREEN+\"Saved Model: \"+END+UNDERLINE+\"best validation accuracy reached\\n\\n\"+END)\n",
    "            best_epoch = epoch+1\n",
    "            torch.save(classifier.state_dict(), os.path.join(models_dir,\"best_classifier.pt\"))\n",
    "            best_accuracy = acc\n",
    "\n",
    "    return np.array([[train_loss_trend,train_accuracy_trend],\n",
    "            [val_loss_trend,val_accuracy_trend],best_epoch],dtype=np.object_)"
   ]
  },
  {
   "cell_type": "code",
   "execution_count": null,
   "id": "59edc2ed",
   "metadata": {
    "scrolled": true
   },
   "outputs": [
    {
     "name": "stderr",
     "output_type": "stream",
     "text": [
      "Train classifier Epoch [1/50]: 100%|███████████████████████████████████████████████████| 78/78 [01:01<00:00,  1.26it/s]\n"
     ]
    },
    {
     "name": "stdout",
     "output_type": "stream",
     "text": [
      "TRAIN: Epoch [1/50], Classifier Loss: 1.0968, Accuracy: 37.8205 in 780 input samples \n",
      "\n"
     ]
    },
    {
     "name": "stderr",
     "output_type": "stream",
     "text": [
      "VALIDATION set: 100%|████████████████████████████████████████████████████████████████████| 4/4 [00:02<00:00,  1.46it/s]\n"
     ]
    },
    {
     "name": "stdout",
     "output_type": "stream",
     "text": [
      "VALIDATION  Classifier Loss: 1.1123, Accuracy: 28.9474 in 38 input samples\n",
      "\n",
      "\u001b[92mSaved Model: \u001b[0m\u001b[4mbest validation accuracy reached\n",
      "\n",
      "\u001b[0m\n"
     ]
    },
    {
     "name": "stderr",
     "output_type": "stream",
     "text": [
      "Train classifier Epoch [2/50]: 100%|███████████████████████████████████████████████████| 78/78 [01:01<00:00,  1.27it/s]\n"
     ]
    },
    {
     "name": "stdout",
     "output_type": "stream",
     "text": [
      "TRAIN: Epoch [2/50], Classifier Loss: 1.0997, Accuracy: 37.0513 in 780 input samples \n",
      "\n"
     ]
    },
    {
     "name": "stderr",
     "output_type": "stream",
     "text": [
      "VALIDATION set: 100%|████████████████████████████████████████████████████████████████████| 4/4 [00:02<00:00,  1.44it/s]\n"
     ]
    },
    {
     "name": "stdout",
     "output_type": "stream",
     "text": [
      "VALIDATION  Classifier Loss: 1.1118, Accuracy: 26.3158 in 38 input samples\n",
      "\n"
     ]
    },
    {
     "name": "stderr",
     "output_type": "stream",
     "text": [
      "Train classifier Epoch [3/50]: 100%|███████████████████████████████████████████████████| 78/78 [01:02<00:00,  1.24it/s]\n"
     ]
    },
    {
     "name": "stdout",
     "output_type": "stream",
     "text": [
      "TRAIN: Epoch [3/50], Classifier Loss: 1.0970, Accuracy: 36.4103 in 780 input samples \n",
      "\n"
     ]
    },
    {
     "name": "stderr",
     "output_type": "stream",
     "text": [
      "VALIDATION set: 100%|████████████████████████████████████████████████████████████████████| 4/4 [00:02<00:00,  1.38it/s]\n"
     ]
    },
    {
     "name": "stdout",
     "output_type": "stream",
     "text": [
      "VALIDATION  Classifier Loss: 1.1133, Accuracy: 28.9474 in 38 input samples\n",
      "\n"
     ]
    },
    {
     "name": "stderr",
     "output_type": "stream",
     "text": [
      "Train classifier Epoch [4/50]: 100%|███████████████████████████████████████████████████| 78/78 [01:02<00:00,  1.25it/s]\n"
     ]
    },
    {
     "name": "stdout",
     "output_type": "stream",
     "text": [
      "TRAIN: Epoch [4/50], Classifier Loss: 1.1017, Accuracy: 36.5385 in 780 input samples \n",
      "\n"
     ]
    },
    {
     "name": "stderr",
     "output_type": "stream",
     "text": [
      "VALIDATION set: 100%|████████████████████████████████████████████████████████████████████| 4/4 [00:02<00:00,  1.40it/s]\n"
     ]
    },
    {
     "name": "stdout",
     "output_type": "stream",
     "text": [
      "VALIDATION  Classifier Loss: 1.1117, Accuracy: 23.6842 in 38 input samples\n",
      "\n"
     ]
    },
    {
     "name": "stderr",
     "output_type": "stream",
     "text": [
      "Train classifier Epoch [5/50]:  17%|████████▌                                          | 13/78 [00:10<00:52,  1.24it/s]"
     ]
    }
   ],
   "source": [
    "if(not LOAD_MODEL):\n",
    "    results = train(train_dataloader,val_dataloader)\n",
    "    np.save(os.path.join(models_dir,\"results.npy\"),results)"
   ]
  },
  {
   "cell_type": "code",
   "execution_count": null,
   "id": "53c13757",
   "metadata": {},
   "outputs": [],
   "source": [
    "#always load the best model after the training\n",
    "classifier =  Classifier().to(device)\n",
    "classifier.load_state_dict(torch.load(os.path.join(models_dir,\"best_classifier.pt\")))\n",
    "classifier.eval();\n"
   ]
  },
  {
   "cell_type": "markdown",
   "id": "44dcbf59",
   "metadata": {},
   "source": [
    "### Test"
   ]
  },
  {
   "cell_type": "markdown",
   "id": "17494b39",
   "metadata": {},
   "source": [
    "Notice that the value of the losses and the accuraciesfor the train set are computed during the training, so they are not very accurate."
   ]
  },
  {
   "cell_type": "code",
   "execution_count": null,
   "id": "3a4bfdd8",
   "metadata": {},
   "outputs": [],
   "source": [
    "# train_dataset_no_noise = HDAdataset(train_dir,train_labels,train = False, transform=transform)\n",
    "# train_dataloader_no_noise = DataLoader(train_dataset_no_noise, batch_size=64, shuffle=False,drop_last=False)"
   ]
  },
  {
   "cell_type": "code",
   "execution_count": null,
   "id": "641cfb21",
   "metadata": {},
   "outputs": [],
   "source": [
    "test(train_dataloader,\"TRAIN\")\n",
    "test(val_dataloader,\"VALIDATION\")\n",
    "test(test_dataloader,\"TEST\");"
   ]
  },
  {
   "cell_type": "code",
   "execution_count": null,
   "id": "d9eed0b9",
   "metadata": {},
   "outputs": [],
   "source": []
  }
 ],
 "metadata": {
  "kernelspec": {
   "display_name": "Python 3 (ipykernel)",
   "language": "python",
   "name": "python3"
  },
  "language_info": {
   "codemirror_mode": {
    "name": "ipython",
    "version": 3
   },
   "file_extension": ".py",
   "mimetype": "text/x-python",
   "name": "python",
   "nbconvert_exporter": "python",
   "pygments_lexer": "ipython3",
   "version": "3.9.13"
  }
 },
 "nbformat": 4,
 "nbformat_minor": 5
}
